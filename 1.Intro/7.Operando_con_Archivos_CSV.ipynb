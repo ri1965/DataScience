{
  "nbformat": 4,
  "nbformat_minor": 0,
  "metadata": {
    "colab": {
      "name": "Operando con Archivos CSV.ipynb",
      "provenance": [],
      "authorship_tag": "ABX9TyMHgtVkaRrpguVf7n6gIPD2",
      "include_colab_link": true
    },
    "kernelspec": {
      "name": "python3",
      "display_name": "Python 3"
    },
    "language_info": {
      "name": "python"
    }
  },
  "cells": [
    {
      "cell_type": "markdown",
      "metadata": {
        "id": "view-in-github",
        "colab_type": "text"
      },
      "source": [
        "<a href=\"https://colab.research.google.com/github/al34n1x/DataScience/blob/master/1.Intro/7.Operando_con_Archivos_CSV.ipynb\" target=\"_parent\"><img src=\"https://colab.research.google.com/assets/colab-badge.svg\" alt=\"Open In Colab\"/></a>"
      ]
    },
    {
      "cell_type": "markdown",
      "metadata": {
        "id": "1xc0rcrNKtLv"
      },
      "source": [
        "# Archivo CSV\n",
        "Los archivos CSV normalmente son creados por programas que manejan grandes cantidades de datos. Son una forma conveniente de exportar datos de hojas de cálculo y bases de datos, así como de importarlos o usarlos en otros programas. Por ejemplo, puede exportar los resultados de un programa de minería de datos a un archivo CSV y luego importarlo a una hoja de cálculo para analizar los datos, generar gráficos para una presentación o preparar un informe para su publicación.\n",
        "\n",
        "Es muy fácil trabajar con archivos CSV mediante programación. Cualquier lenguaje que admita la entrada de archivos de texto y la manipulación de cadenas (como Python) puede funcionar con archivos CSV directamente."
      ]
    },
    {
      "cell_type": "markdown",
      "metadata": {
        "id": "UxTNG9WdL_mb"
      },
      "source": [
        "## Librería CSV\n",
        "\n",
        "La biblioteca csv proporciona funcionalidad para leer y escribir en archivos CSV. Diseñado para funcionar desde el primer momento con archivos CSV generados por Excel, se adapta fácilmente para trabajar con una variedad de formatos CSV. La biblioteca csv contiene objetos y otro código para leer, escribir y procesar datos desde y hacia archivos CSV."
      ]
    },
    {
      "cell_type": "markdown",
      "metadata": {
        "id": "r5T2-V8AMHEs"
      },
      "source": [
        "## Lectura CSV\n",
        "La lectura de un archivo CSV se realiza mediante el objeto lector. El archivo CSV se abre como un archivo de texto con la función open () incorporada de Python, que devuelve un objeto de archivo. Esto luego se pasa al lector, que hace el trabajo pesado.\n",
        "\n",
        "Aquí está el archivo employee_birthday.txt: (Una vez creado, renombrarlo a **employee_birthday.csv** )\n",
        "\n",
        "```\n",
        "name,department,birthday_month\n",
        "Pepe,dev,nov\n",
        "```"
      ]
    },
    {
      "cell_type": "code",
      "metadata": {
        "id": "Apx4YnvxJ-TT",
        "colab": {
          "base_uri": "https://localhost:8080/"
        },
        "outputId": "339a28b9-255c-4206-a4d5-558ec666d951"
      },
      "source": [
        "import csv\n",
        "\n",
        "with open('./sample_data/employee_birthday.csv') as csv_file:\n",
        "    csv_reader = csv.reader(csv_file, delimiter=',')\n",
        "    line_count = 0\n",
        "    for row in csv_reader:\n",
        "        if line_count == 0:\n",
        "            print(f'Column names are {\", \".join(row)}') #El método join () es un método de cadena y devuelve una cadena en la que los elementos de la secuencia se han unido mediante un separador str.\n",
        "            line_count += 1\n",
        "        else:\n",
        "            print(f'\\t{row[0]} works in the {row[1]} department, and was born in {row[2]}.')\n",
        "            line_count += 1\n",
        "    print(f'Processed {line_count} lines.')\n"
      ],
      "execution_count": 3,
      "outputs": [
        {
          "output_type": "stream",
          "name": "stdout",
          "text": [
            "Column names are 'name', 'department', 'birthday month'\n",
            "\tAle works in the  dev department, and was born in  nov.\n",
            "Processed 2 lines.\n"
          ]
        }
      ]
    },
    {
      "cell_type": "markdown",
      "metadata": {
        "id": "4BlcGgPoMTgo"
      },
      "source": [
        "## Lectura CSV como Diccionario\n",
        "\n",
        "\n",
        "En lugar de tratar con una lista de elementos String individuales, también puede leer datos CSV directamente en un diccionario (técnicamente, un Diccionario ordenado).\n",
        "\n",
        "Nuevamente, nuestro archivo de entrada, employee_birthday.txt es el siguiente:\n",
        "\n",
        "```\n",
        "name,department,birthday_month\n",
        "Pepe,dev,nov\n",
        "```"
      ]
    },
    {
      "cell_type": "code",
      "metadata": {
        "colab": {
          "base_uri": "https://localhost:8080/"
        },
        "id": "PxQAhLh9Matj",
        "outputId": "cac4232e-8275-41f0-de6c-a2b75cdd2a64"
      },
      "source": [
        "import csv\n",
        "\n",
        "with open('./sample_data/employee_birthday.csv', mode='r') as csv_file:\n",
        "    csv_reader = csv.DictReader(csv_file)\n",
        "    line_count = 0\n",
        "    for row in csv_reader:\n",
        "        print(row)\n",
        "        if line_count == 0:\n",
        "            print(f'Column names are {\", \".join(row)}')\n",
        "            line_count += 1\n",
        "        print(f'\\t{row[\"name\"]} works in the {row[\"department\"]} department, and was born in {row[\"birthday_month\"]}.')\n",
        "        line_count += 1\n",
        "    print(f'Processed {line_count} lines.')\n"
      ],
      "execution_count": 7,
      "outputs": [
        {
          "output_type": "stream",
          "name": "stdout",
          "text": [
            "OrderedDict([('name', 'Ale'), ('department', ' dev'), ('birthday_month', ' nov')])\n",
            "Column names are name, department, birthday_month\n",
            "\tAle works in the  dev department, and was born in  nov.\n",
            "Processed 2 lines.\n"
          ]
        }
      ]
    },
    {
      "cell_type": "code",
      "source": [
        ""
      ],
      "metadata": {
        "colab": {
          "base_uri": "https://localhost:8080/"
        },
        "id": "QfT1I0P6gvbq",
        "outputId": "af1abc30-669e-4ae2-a0e6-c6f4e2b8667b"
      },
      "execution_count": 8,
      "outputs": [
        {
          "output_type": "execute_result",
          "data": {
            "text/plain": [
              "<csv.DictReader at 0x7f4e41478d50>"
            ]
          },
          "metadata": {},
          "execution_count": 8
        }
      ]
    },
    {
      "cell_type": "markdown",
      "metadata": {
        "id": "xyi5B-G-M3ko"
      },
      "source": [
        "## Escribiendo archivos CSV\n",
        "\n",
        "También puede escribir en un archivo CSV usando un objeto de escritura y el método .write_row ().\n",
        "El parámetro opcional quotechar le dice al escritor qué carácter usar para citar campos al escribir. Sin embargo, si se utiliza la cotización o no, se determina mediante el parámetro opcional de cotización:\n",
        "\n",
        "* Si se establece csv.QUOTE_MINIMAL, entonces .writerow () citará los campos solo si contienen el delimitador o el carácter de cotización. Este es el caso predeterminado.\n",
        "* Si se establece csv.QUOTE_ALL, entonces .writerow () citará todos los campos.\n",
        "* Si se establece csv.QUOTE_NONNUMERIC, entonces .writerow () citará todos los campos que contienen datos de texto y convertirá todos los campos numéricos al tipo de datos flotantes.\n",
        "* Si se establece csv.QUOTE_NONE, entonces .writerow () escapará de los delimitadores en lugar de citarlos. En este caso, también debe proporcionar un valor para el parámetro opcional escapechar.\n",
        "\n"
      ]
    },
    {
      "cell_type": "code",
      "metadata": {
        "id": "661GY_zlM3_B"
      },
      "source": [
        "import csv\n",
        "\n",
        "with open('./sample_data/employee_birthday.csv', mode='w') as employee_file:\n",
        "    employee_writer = csv.writer(employee_file, delimiter=',', quotechar='\"', quoting=csv.QUOTE_MINIMAL)\n",
        "    employee_writer.writerow(['name', 'department', 'birthday month'])\n",
        "    employee_writer.writerow(['John Smith', 'Accounting', 'November'])\n",
        "    employee_writer.writerow(['Erica Meyers', 'IT', 'March'])\n"
      ],
      "execution_count": 9,
      "outputs": []
    },
    {
      "cell_type": "markdown",
      "metadata": {
        "id": "xzIec7qMOISy"
      },
      "source": [
        "## Escribir un archivo CSV desde un diccionario con csv\n",
        "\n",
        "Dado que puede leer nuestros datos en un diccionario, es justo que también pueda escribirlos desde un diccionario.\n",
        "A diferencia de DictReader, el parámetro fieldnames es obligatorio al escribir un diccionario. Esto tiene sentido, cuando lo piensa: sin una lista de nombres de campo, el DictWriter no puede saber qué claves usar para recuperar valores de sus diccionarios. También usa las claves en los nombres de campo para escribir la primera fila como nombres de columna."
      ]
    },
    {
      "cell_type": "code",
      "metadata": {
        "id": "Ro29pEueOPA5"
      },
      "source": [
        "import csv\n",
        "\n",
        "with open('./sample_data/employee_file2.csv', mode='w') as csv_file:\n",
        "    fieldnames = ['emp_name', 'dept', 'birth_month']\n",
        "    writer = csv.DictWriter(csv_file, fieldnames=fieldnames)\n",
        "\n",
        "    writer.writeheader()\n",
        "    writer.writerow({'emp_name': 'John Smith', 'dept': 'Accounting', 'birth_month': 'November'})\n",
        "    writer.writerow({'emp_name': 'Erica Meyers', 'dept': 'IT', 'birth_month': 'March'})\n"
      ],
      "execution_count": 10,
      "outputs": []
    }
  ]
}