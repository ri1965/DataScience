{
  "nbformat": 4,
  "nbformat_minor": 0,
  "metadata": {
    "colab": {
      "name": "Intro_Numpy.ipynb",
      "provenance": [],
      "collapsed_sections": [],
      "authorship_tag": "ABX9TyM2FJX4k5/8371W+Q1wn0Zv",
      "include_colab_link": true
    },
    "kernelspec": {
      "name": "python3",
      "display_name": "Python 3"
    },
    "language_info": {
      "name": "python"
    }
  },
  "cells": [
    {
      "cell_type": "markdown",
      "metadata": {
        "id": "view-in-github",
        "colab_type": "text"
      },
      "source": [
        "<a href=\"https://colab.research.google.com/github/al34n1x/DataScience/blob/master/1.Intro/8.Intro_Numpy.ipynb\" target=\"_parent\"><img src=\"https://colab.research.google.com/assets/colab-badge.svg\" alt=\"Open In Colab\"/></a>"
      ]
    },
    {
      "cell_type": "markdown",
      "metadata": {
        "colab_type": "toc",
        "id": "jBf-eU0hIR1y"
      },
      "source": [
        ">[Numpy](#updateTitle=true&folderId=1hYY6URNFLa2w5I3uQbpDlwOox_am-5cM&scrollTo=eNEWtUu6FbQJ)\n",
        "\n",
        ">>[Comparando nmarrays y Python Arrays](#updateTitle=true&folderId=1hYY6URNFLa2w5I3uQbpDlwOox_am-5cM&scrollTo=wj8iyT8XFjJg)\n",
        "\n",
        ">>[NumPy ndarray: Un objeto Array Multidimensional](#updateTitle=true&folderId=1hYY6URNFLa2w5I3uQbpDlwOox_am-5cM&scrollTo=L0oxzc-0GmxO)\n",
        "\n",
        ">>[Creando Arrays](#updateTitle=true&folderId=1hYY6URNFLa2w5I3uQbpDlwOox_am-5cM&scrollTo=etOhZSYMHBE4)\n",
        "\n",
        ">>[Slicing e Indexing básico](#updateTitle=true&folderId=1hYY6URNFLa2w5I3uQbpDlwOox_am-5cM&scrollTo=xKE-o1jzHyyQ)\n",
        "\n",
        ">>[Funciones básicas](#updateTitle=true&folderId=1hYY6URNFLa2w5I3uQbpDlwOox_am-5cM&scrollTo=GTsAzbqBKX6j)\n",
        "\n",
        ">>[Ejemplo Ejercicio cadena de electrodomésticos](#updateTitle=true&folderId=1hYY6URNFLa2w5I3uQbpDlwOox_am-5cM&scrollTo=F1J14NfAmTBw)\n",
        "\n",
        ">>[Agregando un poco de magia!](#updateTitle=true&folderId=1hYY6URNFLa2w5I3uQbpDlwOox_am-5cM&scrollTo=Y5Dg8_WAwhAh)\n",
        "\n"
      ]
    },
    {
      "cell_type": "markdown",
      "metadata": {
        "id": "eNEWtUu6FbQJ"
      },
      "source": [
        "#Numpy\n",
        "\n",
        "Numpy, es una combinación de palabras, `Numerical` y `Python`. Es uno de los paquetes más importantes en Python para el computo númerico.\n",
        "La mayoría de los paquetes que proveen cálculos científicos utilizan objetos **NumPy** como elemento para intercambio de datos.\n",
        "\n",
        "Estás son algunos elementos que utilizaremos con NumPy:\n",
        "\n",
        "* **ndarray**: Una eficiente matriz *(Array=Arreglo)* multidimensional que provee operaciones aritmeticas entre arrays de forma flexible y rápidas.\n",
        "\n",
        "* Funciones matemáticas para operar entre arrays de datos sin tener que escribir Loops. **AHHHH!**\n",
        "\n",
        "\n",
        "\n",
        "&nbsp; &nbsp; &nbsp; &nbsp;&nbsp; &nbsp; &nbsp; &nbsp; &nbsp; &nbsp; &nbsp; &nbsp;&nbsp; &nbsp; &nbsp; &nbsp; &nbsp; &nbsp; &nbsp; &nbsp; &nbsp; &nbsp; &nbsp; &nbsp; <img src=\"https://pm1.narvii.com/6240/84538693599c0871fec9e10f1fd0586fd3c284c4_hq.jpg\"  width=\"250\" height=\"250\" />\n",
        "\n",
        "* Herramientas para escribir array en disco y trabajarlos con archivos mapeados en memoria\n",
        "\n",
        "* Algebra lineal, generación aleatoria de números, y algunas transformaciones.\n",
        "\n",
        "Debido a que NumPy provee una facil de usar API (Application Programming Interface) para interactuar con otros lenguajes como C, es muy directo pasar datos de una libería externa en bajo nivel a Python.\n",
        "\n",
        "Mientras que NumPy por si mismo no provee ninguna funcionalidad de modelado o científica, entender arrays NumPy y computo de arrays, te ayudará a usar otras herramientas como **Pandas** más eficientemente.\n",
        "\n",
        "Principalmente nos focalizaremos en: \n",
        "\n",
        "* Operaciones entre arrays, data mining, y data cleaning, Filtering y transformaciones.\n",
        "\n",
        "* Manipulación de datos mediante unión y consolidación (Join, Merge) utilizando datasets heterogéneos.\n",
        "\n",
        "* Condiciones lógicas aplicadas a arrays.\n",
        "\n",
        "Mientras que NumPy provee las bases para calculo computacional genérico, científicos de datos utilizan Pandas como el pilar de la mayoría de los desarrollos estadísticos y analíticos, especialmente con Datos tabulares. Panda también provee algunas funcionalidades que son específicas del dominio como manipulación de series.\n"
      ]
    },
    {
      "cell_type": "markdown",
      "metadata": {
        "id": "wj8iyT8XFjJg"
      },
      "source": [
        "## Comparando nmarrays y Python Arrays\n",
        "\n",
        "Una de las razones por las que NumPy es tan importante para computo númerico en Python es debido a su eficiencia en el manejo de largos arrays (Arreglos) de datos.\n",
        "\n",
        "NumPy internamente almacena los datos de forma contigua en bloques de memoria, independientemente de otros objetos Python. La librería Numpy de algoritmo puede operar en memoria sin perdida de performance. Los arrays de Numpy ocupan menos espacio que las listas de Python.\n",
        "\n",
        "**Cuál será la razón?**\n",
        "\n",
        "![](https://media1.tenor.com/images/4704d511d603640b82c2aeed0cc3af31/tenor.gif?itemid=11691381)\n",
        "\n",
        ".. Sigamos\n",
        "\n",
        "Las operaciones NumPy se comportan mejor en operaciones computacionales complejas en arrays sin la necesidad de utilizar loops de Python.\n",
        "\n",
        "Para darles una idea de la diferencia de performance, veamos el siguiente código aplicando NumPy Arrays y listas Python"
      ]
    },
    {
      "cell_type": "code",
      "metadata": {
        "id": "JRSut1p-FNzF"
      },
      "source": [
        "import numpy as np\n",
        "my_arr = np.arange(10000000)  # Utilizando NumPy Arrays\n",
        "my_list = list(range(10000000)) # Utilizando Listas Python"
      ],
      "execution_count": null,
      "outputs": []
    },
    {
      "cell_type": "code",
      "metadata": {
        "id": "_4bYIn30FnkL"
      },
      "source": [
        "%time for _ in range(10): my_arr2 = my_arr * 2\n",
        "%time for _ in range(10): my_list2 = [x * 2 for x in my_list]\n"
      ],
      "execution_count": null,
      "outputs": []
    },
    {
      "cell_type": "markdown",
      "metadata": {
        "id": "L0oxzc-0GmxO"
      },
      "source": [
        "## NumPy ndarray: Un objeto Array Multidimensional\n",
        "\n",
        "Uno de las principales capacidad de NumPy es el N-Dimensional array, o también conocido como ndarray, cual es un rápido, y flexible container de largos datasets. Los arreglos permiten ejecutar operaciones matemáticas en un bloque completo usando sintaxis equivalente a elementos escalares.\n",
        "\n",
        "Para darte una pequeña introducción de como NumPy puede gestionar arrays de forma similar que objetos Python, ejecutemos el siguiente código."
      ]
    },
    {
      "cell_type": "code",
      "metadata": {
        "id": "k3CcjoXuGJgB"
      },
      "source": [
        "import numpy as np #Importamos Numpy\n",
        "# Generamos Data random\n",
        "data = np.random.randn(2, 3) # Matrix de 2 filas por 3 columnas\n",
        "data"
      ],
      "execution_count": null,
      "outputs": []
    },
    {
      "cell_type": "code",
      "metadata": {
        "id": "rAYr6HczGxwg"
      },
      "source": [
        "data * data"
      ],
      "execution_count": null,
      "outputs": []
    },
    {
      "cell_type": "code",
      "metadata": {
        "id": "1nKUzgxnGz2o"
      },
      "source": [
        "data.shape # Método para poder obtener el tamaño (forma) del arreglo"
      ],
      "execution_count": null,
      "outputs": []
    },
    {
      "cell_type": "markdown",
      "metadata": {
        "id": "etOhZSYMHBE4"
      },
      "source": [
        "## Creando Arrays\n",
        "La forma más simple de crear arrays es utilizando la función array. Dicha función acepta secuencia de objetos, incluidos otros arrays, y produce un nuevo array NumPy que contiene la data que se ha pasado. Por ejemplo:"
      ]
    },
    {
      "cell_type": "code",
      "metadata": {
        "id": "cEx6Nk2THAJd"
      },
      "source": [
        "import numpy as np\n",
        "data1 = [6, 7.5, 8, 0, 1] #Lista Python\n",
        "arr1 = np.array(data1) #NumPy Array"
      ],
      "execution_count": null,
      "outputs": []
    },
    {
      "cell_type": "code",
      "metadata": {
        "id": "IXizP12vHNgT"
      },
      "source": [
        "print (type(data1))\n",
        "print (type(arr1))"
      ],
      "execution_count": null,
      "outputs": []
    },
    {
      "cell_type": "code",
      "metadata": {
        "id": "9M_OcHL1HYXt"
      },
      "source": [
        "arr1.ndim #Dimensión"
      ],
      "execution_count": null,
      "outputs": []
    },
    {
      "cell_type": "code",
      "metadata": {
        "id": "oyD8rwZ8He4g"
      },
      "source": [
        "data2 = [[1, 2, 3, 4], [5, 6, 7, 8]] # Anido dos Listas\n",
        "arr2 = np.array(data2) # Lo convierto en Array\n",
        "arr2"
      ],
      "execution_count": null,
      "outputs": []
    },
    {
      "cell_type": "code",
      "metadata": {
        "id": "YYMiPe4yHjMF"
      },
      "source": [
        "arr2.ndim"
      ],
      "execution_count": null,
      "outputs": []
    },
    {
      "cell_type": "markdown",
      "metadata": {
        "id": "xKE-o1jzHyyQ"
      },
      "source": [
        "## Slicing e Indexing básico\n",
        "\n",
        "Los índices en arrays NumPuy permiten seleccionar un subset individual de elementos. Los arrays simples son similares en comportamiento a las listas. Pero a medida que avanzamos, utilizar NumPy arrays es mucho mas útil."
      ]
    },
    {
      "cell_type": "code",
      "metadata": {
        "id": "spr0Ue_HH4U_"
      },
      "source": [
        "arr = np.arange(10)\n",
        "arr"
      ],
      "execution_count": null,
      "outputs": []
    },
    {
      "cell_type": "code",
      "metadata": {
        "id": "up8uH0jJH6wC"
      },
      "source": [
        "print (arr[5])\n",
        "print (arr[5:8])\n",
        "arr[5:8] = 12\n",
        "print (arr)"
      ],
      "execution_count": null,
      "outputs": []
    },
    {
      "cell_type": "markdown",
      "metadata": {
        "id": "GTsAzbqBKX6j"
      },
      "source": [
        "## Funciones básicas "
      ]
    },
    {
      "cell_type": "code",
      "metadata": {
        "id": "GNXXNygHKXcX"
      },
      "source": [
        "arr = np.arange(10)\n",
        "arr"
      ],
      "execution_count": null,
      "outputs": []
    },
    {
      "cell_type": "code",
      "metadata": {
        "id": "rn7hDZaKRoRw"
      },
      "source": [
        "arr.sum() #Suma todos los elementos del arreglo"
      ],
      "execution_count": null,
      "outputs": []
    },
    {
      "cell_type": "code",
      "metadata": {
        "id": "IMgEdLqlSJ08"
      },
      "source": [
        "arr.min() #Devuelve el mínimo elemento de un arreglo. Se pasa como parámetros si es fila y columna, en nuestro caso es un arreglo de 1 dimensión"
      ],
      "execution_count": null,
      "outputs": []
    },
    {
      "cell_type": "code",
      "metadata": {
        "id": "wk_OcK3MSL5R"
      },
      "source": [
        "arr.max() #Devuelve el máximo elemento de un arreglo. Se pasa como parámetros si es fila y columna, en nuestro caso es un arreglo de 1 dimensión"
      ],
      "execution_count": null,
      "outputs": []
    },
    {
      "cell_type": "code",
      "metadata": {
        "id": "XbiatVKXSnHh"
      },
      "source": [
        "arr.put(4,1) #Inserta el valor 1 en la posición 4 del arreglo  (índice, valor)\n",
        "arr"
      ],
      "execution_count": null,
      "outputs": []
    },
    {
      "cell_type": "markdown",
      "metadata": {
        "id": "F1J14NfAmTBw"
      },
      "source": [
        "## Ejemplo Ejercicio cadena de electrodomésticos\n",
        "\n",
        "En el siguiente ejemplo, tomaremos parte del siguiente ejercicio para realizar la carga y cálculos.\n",
        "\n",
        "```    \n",
        "Una cadena de electrodomésticos desea saber cual es la recaudación de sus locales distribuidos en distintos puntos del país. Para ello le solicita desarrollar un programa que realice las siguientes funciones.\n",
        "\n",
        "\n",
        "\t\n",
        "Listar el total de ventas por sucursal\n",
        "\tListar el total por provincia\n",
        "\tListar la provincia con mayor recaudación\n",
        "\tListar el vendedor con mayor valor de ventas acumuladas\n",
        "\tListar el total acumulado y el promedio de recaudación para dicho período\n",
        "\n",
        "\n",
        "```\n",
        "\n",
        "Contenido Archivo:\n",
        "\n",
        "```\n",
        "leg,nombre_vendedor,apellido_vendedor,sucursal,provincia,total_venta\n",
        "100,Pedro,Gomez,101,Córdoba,10000\n",
        "200,Jose,Garcia,250,Córdoba,25000\n",
        "300,Luis,Perez,180,BA,15000\n",
        "400,Raquel,Bermúdez,180,BA,35000\n",
        "500,Josefina,Paccini,234,Rosario,42500\n",
        "600,Roberto,Carlos,101,Córdoba,12000\n",
        "700,Ryan,Reynolds,404,BA,28000\n",
        "800,Martin,King,303,BA,13000\n",
        "900,Pancho,Mostaza,245,BA,23000\n",
        "\n",
        "```\n",
        "\n"
      ]
    },
    {
      "cell_type": "code",
      "metadata": {
        "id": "uVYC_7qJmSXZ"
      },
      "source": [
        "import csv\n",
        "import numpy as np\n",
        "dic = {}\n",
        "dic_datos = {}\n",
        "with open('./sample_data/contenido.csv', mode='r') as csv_file:\n",
        "    csv_reader = csv.DictReader(csv_file)\n",
        "    for row in csv_reader:\n",
        "            leg = row ['leg'] #Obtenemos el legajo y lo utilizamos como Key del diccionario padre\n",
        "            \n",
        "            # Tomamos los siguientes datos y los guardamos en diferentes variables\n",
        "            nombre_vendedor = row[\"nombre_vendedor\"]\n",
        "            apellido_vendedor = row [\"apellido_vendedor\"]\n",
        "            sucursal = row [\"sucursal\"]\n",
        "            provincia = row [\"provincia\"]\n",
        "            total_venta = row [\"total_venta\"]\n",
        "            \n",
        "            #Creamos el diccionario embebido con los datos recolecatdos en el bloque anterior\n",
        "            dic_datos = {'nombre_vendedor':nombre_vendedor,\n",
        "                         'apellido_vendedor':apellido_vendedor,\n",
        "                         'sucursal':sucursal,\n",
        "                         'provincia':provincia,\n",
        "                         'total_venta':total_venta\n",
        "                         }\n",
        "            \n",
        "            # Creamos el diccionario completo con el legajo como Key\n",
        "            dic[leg] = dic_datos\n",
        "\n",
        "\n",
        "dic"
      ],
      "execution_count": null,
      "outputs": []
    },
    {
      "cell_type": "code",
      "metadata": {
        "id": "ni5tYzgFq5QB"
      },
      "source": [
        "lista = [] #Creamos una lista\n",
        "\n",
        "for k in dic.keys():  \n",
        "  lista.append(int(dic[k].get('total_venta'))) # Agregamos el total de ventas por vendedor a la lista y casteamos las entradas a int\n",
        "\n",
        "arr = np.array(lista) # creamos un Array Numpy utilizando la lista creada en el punto anterior y se lo asignamos a la variable arr\n",
        "arr"
      ],
      "execution_count": null,
      "outputs": []
    },
    {
      "cell_type": "code",
      "metadata": {
        "id": "bzXcaCcSr65F"
      },
      "source": [
        "print(lista)\n",
        "print(arr)"
      ],
      "execution_count": null,
      "outputs": []
    },
    {
      "cell_type": "code",
      "metadata": {
        "id": "asnoxXanq_V5"
      },
      "source": [
        "arr.sum() # Sumatoria de todos los valores del arreglo"
      ],
      "execution_count": null,
      "outputs": []
    },
    {
      "cell_type": "code",
      "metadata": {
        "id": "VCyXVWN1rUgb"
      },
      "source": [
        "arr.min() # Min del arreglo"
      ],
      "execution_count": null,
      "outputs": []
    },
    {
      "cell_type": "code",
      "metadata": {
        "id": "JJTb_MQyrara"
      },
      "source": [
        "arr.max() # Max del arreglo"
      ],
      "execution_count": null,
      "outputs": []
    },
    {
      "cell_type": "code",
      "metadata": {
        "id": "CyNElo6k-N-N"
      },
      "source": [
        "np.average(arr) #Promedio Arreglo"
      ],
      "execution_count": null,
      "outputs": []
    },
    {
      "cell_type": "markdown",
      "metadata": {
        "id": "Y5Dg8_WAwhAh"
      },
      "source": [
        "## Agregando un poco de magia!\n",
        "\n",
        "<img src=\"https://cdn.businessinsider.es/sites/navi.axelspringer.es/public/styles/bi_876/public/media/image/2019/01/there-are-some-things-you-might-not-know-about-harry-potter-series.jpg?itok=k12ii_BQ\"  width=\"500\" height=\"400\" />\n"
      ]
    },
    {
      "cell_type": "code",
      "metadata": {
        "id": "aqBpjN1otb-H"
      },
      "source": [
        "import matplotlib.pyplot as plt\n",
        "fig = plt.figure()\n",
        "ax = fig.add_axes([0,0,1,1])  #Establecemos ejes\n",
        "vendedores = []\n",
        "\n",
        "for k in dic.keys(): \n",
        "  vendedores.append(dic[k].get('nombre_vendedor'))  # Agregamos los nombres de los vendedores a la lista. Axes is positionned in absolute coordinates on the canvas\n",
        "\n",
        "ax.bar(vendedores,arr) #Establecemos en el eje X a \"Vendedores\" y a Eje Y a \"arr\"\n",
        "plt.show() #Ploteamos\n"
      ],
      "execution_count": null,
      "outputs": []
    }
  ]
}