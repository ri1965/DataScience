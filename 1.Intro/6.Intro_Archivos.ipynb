{
  "nbformat": 4,
  "nbformat_minor": 0,
  "metadata": {
    "colab": {
      "name": "Intro_Archivos.ipynb",
      "provenance": [],
      "collapsed_sections": [],
      "authorship_tag": "ABX9TyNJb7HpIAq8DPDr3tSvQkoT",
      "include_colab_link": true
    },
    "kernelspec": {
      "name": "python3",
      "display_name": "Python 3"
    },
    "language_info": {
      "name": "python"
    }
  },
  "cells": [
    {
      "cell_type": "markdown",
      "metadata": {
        "id": "view-in-github",
        "colab_type": "text"
      },
      "source": [
        "<a href=\"https://colab.research.google.com/github/al34n1x/DataScience/blob/master/1.Intro/6.Intro_Archivos.ipynb\" target=\"_parent\"><img src=\"https://colab.research.google.com/assets/colab-badge.svg\" alt=\"Open In Colab\"/></a>"
      ]
    },
    {
      "cell_type": "markdown",
      "metadata": {
        "colab_type": "toc",
        "id": "6Csfv54hNyOf"
      },
      "source": [
        ">[Archivos](#scrollTo=1xtQKHUuJIBX)\n",
        "\n",
        ">>[Leyendo desde un archivo](#scrollTo=fLepwBOrJRE6)\n",
        "\n",
        ">>[Lectura línea por línea](#scrollTo=Npv-YY8CK1WT)\n",
        "\n",
        ">>[Hacer una lista de líneas a partir de un archivo](#scrollTo=2MsJ1d80Lx0Q)\n",
        "\n",
        ">>[Escribir a un archivo](#scrollTo=yCYuepdLPB45)\n",
        "\n",
        ">>[Escribir en un archivo vacío](#scrollTo=jKQMyP-zPHsR)\n",
        "\n",
        ">>[Escribir varias líneas](#scrollTo=jgi44vfUPlvM)\n",
        "\n",
        ">>[Agregar a un archivo](#scrollTo=0vB_PfR9QkIm)\n",
        "\n",
        ">[Exceptions](#scrollTo=SrkfRD-7ztJ-)\n",
        "\n",
        ">>[Manejo de la excepción ZeroDivisionError](#scrollTo=igEWPuHI0Aec)\n",
        "\n",
        ">>[Uso de excepciones para prevenir bloqueos](#scrollTo=Yh85DreM0jRo)\n",
        "\n",
        ">>[Manejo de la excepción FileNotFoundError](#scrollTo=12x196FJ1hE-)\n",
        "\n",
        ">[Analizando texto](#scrollTo=hqgcX4lQ2Rj-)\n",
        "\n",
        ">[Almacenamiento de datos](#scrollTo=RYFVHrwZ3g4M)\n",
        "\n"
      ]
    },
    {
      "cell_type": "markdown",
      "metadata": {
        "id": "1xtQKHUuJIBX"
      },
      "source": [
        "# Archivos\n",
        "\n",
        "Aprender a trabajar con archivos y guardar datos hará que sus programas sean más fáciles de usar para las personas. Los usuarios podrán elegir qué datos ingresar y cuándo ingresarlos. Las personas pueden ejecutar su programa, trabajar un poco y luego cerrar el programa y continuar donde lo dejaron más tarde. Aprender a manejar las excepciones lo ayudará a lidiar con situaciones en las que los archivos no existen y a lidiar con otros problemas que pueden hacer que sus programas fallen. Esto hará que sus programas sean más robustos cuando encuentren datos incorrectos, ya sea que provengan de errores inocentes o de intentos maliciosos de romper sus programas.\n"
      ]
    },
    {
      "cell_type": "markdown",
      "metadata": {
        "id": "fLepwBOrJRE6"
      },
      "source": [
        "## Leyendo desde un archivo\n",
        "\n",
        "Cuando desee trabajar con la información de un archivo de texto, el primer paso es leer el archivo en la memoria. Puede leer todo el contenido de un archivo o puede trabajar en el archivo una línea a la vez.\n",
        "\n",
        "Para empezar, necesitamos un archivo con algunas líneas de texto. Comencemos con un archivo que contiene pi con 30 decimales, con 10 decimales por línea.\n",
        "```\n",
        "3.1415926535\n",
        "  8979323846\n",
        "  2643383279\n",
        "```\n",
        "\n",
        "Cree un nuevo archivo en colab. Recuerde donde lo almacena ya que con ese Path deberá hacer el llamado al mismo.\n"
      ]
    },
    {
      "cell_type": "markdown",
      "metadata": {
        "id": "6qK7sSyaJscw"
      },
      "source": [
        "Este código te ayudará a visualizar el contenido del archivo."
      ]
    },
    {
      "cell_type": "code",
      "metadata": {
        "id": "8RbyinUsI9ib"
      },
      "source": [
        "with open('./sample_data/pi_digits.txt') as file_object:\n",
        "    contents = file_object.read()\n",
        "print(contents)"
      ],
      "execution_count": null,
      "outputs": []
    },
    {
      "cell_type": "markdown",
      "metadata": {
        "id": "Npv-YY8CK1WT"
      },
      "source": [
        "## Lectura línea por línea\n",
        "Cuando esté leyendo un archivo, a menudo querrá examinar cada línea del archivo. Es posible que esté buscando cierta información en el archivo o tal vez desee modificar el texto en el archivo de alguna manera. Por ejemplo, es posible que desee leer un archivo de datos meteorológicos y trabajar con cualquier línea que incluya la palabra soleado en la descripción del tiempo de ese día. En un informe de noticias, puede buscar cualquier línea con la etiqueta <headline> y reescribir esa línea con un tipo específico de formato."
      ]
    },
    {
      "cell_type": "code",
      "metadata": {
        "id": "N1ZtfXpVK-V1"
      },
      "source": [
        "filename = './sample_data/pi_digits.txt'\n",
        "\n",
        "with open(filename) as mamadera:\n",
        "  for line in mamadera:\n",
        "    print(line)"
      ],
      "execution_count": null,
      "outputs": []
    },
    {
      "cell_type": "markdown",
      "metadata": {
        "id": "reIs82ACLUu2"
      },
      "source": [
        "Estas líneas en blanco aparecen porque hay un carácter de nueva línea invisible al final de cada línea en el archivo de texto. La función de impresión agrega su propia nueva línea cada vez que la llamamos, por lo que terminamos con dos caracteres de nueva línea al final de cada línea: uno del archivo y otro de print (). El uso de **rstrip()** en cada línea de la llamada print () elimina estas líneas en blanco adicionales:"
      ]
    },
    {
      "cell_type": "code",
      "metadata": {
        "id": "79Uh2fDGLUVV"
      },
      "source": [
        "with open(filename) as file_object:\n",
        "  for line in file_object:\n",
        "    print(line.rstrip())"
      ],
      "execution_count": null,
      "outputs": []
    },
    {
      "cell_type": "markdown",
      "metadata": {
        "id": "2MsJ1d80Lx0Q"
      },
      "source": [
        "## Hacer una lista de líneas a partir de un archivo\n",
        "Cuando usa con, el objeto de archivo devuelto por open () solo está disponible dentro del bloque with que lo contiene. Si desea conservar el acceso al contenido de un archivo fuera del bloque with, puede almacenar las líneas del archivo en una lista dentro del bloque y luego trabajar con esa lista. Puede procesar partes del archivo inmediatamente y posponer algún procesamiento para más adelante en el programa.\n",
        "\n",
        "El siguiente ejemplo almacena las líneas de pi_digits.txt en una lista dentro del bloque **with** y luego imprime las líneas fuera del bloque **with**:"
      ]
    },
    {
      "cell_type": "code",
      "metadata": {
        "id": "KeUKaX9AL8J7"
      },
      "source": [
        "with open(filename) as file_object:\n",
        "  lines = file_object.readlines()  #Creamos una lista a partir de las lineas del archivo\n",
        "\n",
        "for line in lines:\n",
        "  print(line.rstrip())"
      ],
      "execution_count": null,
      "outputs": []
    },
    {
      "cell_type": "code",
      "metadata": {
        "id": "0YaaQ6keMLYd"
      },
      "source": [
        "pi_string = ''\n",
        "for line in lines:\n",
        "  pi_string += line.rstrip()\n",
        "\n",
        "print(pi_string)\n",
        "print(len(pi_string))"
      ],
      "execution_count": null,
      "outputs": []
    },
    {
      "cell_type": "markdown",
      "metadata": {
        "id": "yCYuepdLPB45"
      },
      "source": [
        "## Escribir a un archivo\n",
        "Una de las formas más sencillas de guardar datos es escribirlos en un archivo. Cuando escribe texto en un archivo, la salida seguirá estando disponible después de cerrar la terminal que contiene la salida de su programa. Puede examinar la salida después de que un programa termine de ejecutarse y también puede compartir los archivos de salida con otros. También puede escribir programas que lean el texto de nuevo en la memoria y trabajen con él más tarde.\n"
      ]
    },
    {
      "cell_type": "markdown",
      "metadata": {
        "id": "jKQMyP-zPHsR"
      },
      "source": [
        "## Escribir en un archivo vacío\n",
        "Para escribir texto en un archivo, debe llamar a open () con un segundo argumento que le diga a Python que desea escribir en el archivo. Para ver cómo funciona esto, escribamos un mensaje simple y almacénelo en un archivo en lugar de imprimirlo en la pantalla:"
      ]
    },
    {
      "cell_type": "code",
      "metadata": {
        "id": "JHWHar7mPJZx"
      },
      "source": [
        "filename = './sample_data/Pizza.txt'\n",
        "\n",
        "with open(filename, 'w') as file_object:\n",
        "  file_object.write(\"I love Pineapple Pizza.\")"
      ],
      "execution_count": 7,
      "outputs": []
    },
    {
      "cell_type": "markdown",
      "metadata": {
        "id": "TFkcr4AzPTv9"
      },
      "source": [
        "La llamada a open () en este ejemplo tiene dos argumentos \n",
        "El primer argumento sigue siendo el nombre del archivo que queremos abrir. \n",
        "El segundo argumento, **'w'**, le dice a Python que queremos abrir el archivo en modo escritura. Puede abrir un archivo en modo de lectura ('r'), modo de escritura ('w'), modo de adición ('a') o un modo que le permite leer y escribir en el archivo ('r +'). Si omite el argumento de modo, Python abre el archivo en modo de solo lectura de forma predeterminada.\n",
        "\n",
        "La función open () crea automáticamente el archivo en el que está escribiendo si aún no existe. Sin embargo, tenga cuidado al abrir un archivo en modo de escritura ('w') porque si el archivo existe, Python borrará el contenido del archivo antes de devolver el objeto de archivo."
      ]
    },
    {
      "cell_type": "markdown",
      "metadata": {
        "id": "jgi44vfUPlvM"
      },
      "source": [
        "## Escribir varias líneas\n",
        "La función write () no agrega nuevas líneas al texto que escribe. Por lo tanto, si escribe más de una línea sin incluir caracteres de nueva línea, es posible que su archivo no tenga el aspecto que desea:"
      ]
    },
    {
      "cell_type": "code",
      "metadata": {
        "id": "gTNebo-KPgRv"
      },
      "source": [
        "filename = './sample_data/programming.txt'\n",
        "\n",
        "with open(filename, 'w') as file_object:\n",
        "  file_object.write(\"I love programming.\")\n",
        "  file_object.write(\"I love creating new games.\")\n",
        "\n",
        "with open(filename,'r') as file_object:\n",
        "  for line in file_object:\n",
        "    print(line)\n",
        "\n"
      ],
      "execution_count": null,
      "outputs": []
    },
    {
      "cell_type": "code",
      "metadata": {
        "id": "6qdQoqjAPxa0"
      },
      "source": [
        "with open(filename, 'w') as file_object:\n",
        "  file_object.write(\"I love Pizza.\\n\")\n",
        "  file_object.write(\"I love eating Pineapple Pizza.\\n\")\n",
        "\n",
        "with open(filename,'r') as file_object:\n",
        "  for line in file_object:\n",
        "    print(line)"
      ],
      "execution_count": null,
      "outputs": []
    },
    {
      "cell_type": "markdown",
      "metadata": {
        "id": "0vB_PfR9QkIm"
      },
      "source": [
        "## Agregar a un archivo\n",
        "Si desea agregar contenido a un archivo en lugar de escribir sobre el contenido existente, puede abrir el archivo en modo anexar. Cuando abre un archivo en modo de anexión, Python no borra el contenido del archivo antes de devolver el objeto de archivo. Cualquier línea que escriba en el archivo se agregará al final del archivo. Si el archivo aún no existe, Python creará un archivo vacío para usted.\n",
        "\n",
        "Modifiquemos write_message.py agregando algunas nuevas razones por las que amamos la programación al archivo programming.txt existente:"
      ]
    },
    {
      "cell_type": "code",
      "metadata": {
        "id": "-Um9uRqaQjYw"
      },
      "source": [
        "filename = './sample_data/programming.txt'\n",
        "\n",
        "with open(filename, 'a') as file_object:\n",
        "  file_object.write(\"I also love finding meaning in large datasets.\\n\")\n",
        "  file_object.write(\"I love creating apps that can run in a browser.\\n\")\n",
        "\n",
        "with open(filename,'r') as file_object:\n",
        "  for line in file_object:\n",
        "    print(line)\n"
      ],
      "execution_count": null,
      "outputs": []
    },
    {
      "cell_type": "markdown",
      "metadata": {
        "id": "SrkfRD-7ztJ-"
      },
      "source": [
        "# Exceptions\n",
        "\n",
        "Python usa objetos especiales llamados excepciones para administrar los errores que surgen durante la ejecución de un programa. Siempre que ocurre un error que hace que Python no esté seguro de qué hacer a continuación, crea un objeto de excepción. Si escribe código que maneja la excepción, el programa continuará ejecutándose. Si no maneja la excepción, el programa se detendrá y mostrará un rastreo, que incluye un informe de la excepción que se generó.\n",
        "\n",
        "Las excepciones se manejan con bloques try-except. Un bloque try-except le pide a Python que haga algo, pero también le dice a Python qué hacer si se genera una excepción. Cuando usa bloques try-except, sus programas continuarán ejecutándose incluso si las cosas comienzan a salir mal. En lugar de rastreos, que pueden resultar confusos para los usuarios de leer, los usuarios verán mensajes de error amigables que usted escriba."
      ]
    },
    {
      "cell_type": "markdown",
      "metadata": {
        "id": "igEWPuHI0Aec"
      },
      "source": [
        "## Manejo de la excepción ZeroDivisionError\n",
        "Veamos un error simple que hace que Python genere una excepción. Probablemente sepa que es imposible dividir un número por cero, pero pidamos a Python que lo haga de todos modos:"
      ]
    },
    {
      "cell_type": "code",
      "metadata": {
        "id": "DJnzcmkw0Et_"
      },
      "source": [
        "print (5/0)"
      ],
      "execution_count": null,
      "outputs": []
    },
    {
      "cell_type": "code",
      "metadata": {
        "id": "E0W9zb6c0LOF"
      },
      "source": [
        "try:\n",
        "  print(5/0)\n",
        "except ZeroDivisionError:\n",
        "  print(\"I'm calling your math teacher dude .. shame on you\")\n"
      ],
      "execution_count": null,
      "outputs": []
    },
    {
      "cell_type": "markdown",
      "metadata": {
        "id": "Yh85DreM0jRo"
      },
      "source": [
        "## Uso de excepciones para prevenir bloqueos\n",
        "Manejar los errores correctamente es especialmente importante cuando el programa tiene más trabajo que hacer después de que ocurre el error. Esto sucede a menudo en programas que solicitan información a los usuarios. Si el programa responde adecuadamente a una entrada no válida, puede solicitar más información válida en lugar de fallar.\n",
        "\n",
        "Creemos una calculadora simple que solo haga divisiones:"
      ]
    },
    {
      "cell_type": "code",
      "metadata": {
        "id": "ci1aNoFg0sNT"
      },
      "source": [
        "print(\"Give me two numbers, and I'll divide them.\")\n",
        "print(\"Enter 'q' to quit.\")\n",
        "\n",
        "while True:\n",
        "  first_number = input(\"\\nFirst number: \")\n",
        "  if first_number == 'q':\n",
        "    break\n",
        "  second_number = input(\"Second number: \")\n",
        "  if second_number == 'q':\n",
        "    break\n",
        "  try:\n",
        "    answer = int(first_number) / int(second_number)\n",
        "  except ZeroDivisionError:\n",
        "    print(\"I'm calling your math teacher dude .. shame on you\")\n",
        "  else:\n",
        "    print(answer)"
      ],
      "execution_count": null,
      "outputs": []
    },
    {
      "cell_type": "markdown",
      "metadata": {
        "id": "12x196FJ1hE-"
      },
      "source": [
        "## Manejo de la excepción FileNotFoundError\n",
        "Un problema común al trabajar con archivos es el manejo de archivos faltantes. Es posible que el archivo que está buscando esté en una ubicación diferente, que el nombre del archivo esté mal escrito o que no exista en absoluto. Puede manejar todas estas situaciones de una manera sencilla con un bloque try-except.\n",
        "\n",
        "Intentemos leer un archivo que no existe. El siguiente programa intenta leer el contenido de Alicia en el país de las maravillas, pero no he guardado el archivo alice.txt en el mismo directorio que **alice.py**:"
      ]
    },
    {
      "cell_type": "code",
      "metadata": {
        "id": "iBvIt61c1shT"
      },
      "source": [
        "filename = 'alice.txt'\n",
        "\n",
        "with open(filename, encoding='utf-8') as f:\n",
        "    contents = f.read()"
      ],
      "execution_count": null,
      "outputs": []
    },
    {
      "cell_type": "code",
      "metadata": {
        "id": "yZTLTu9Q1wrd"
      },
      "source": [
        "filename = 'alice.txt'\n",
        "try:\n",
        "  with open(filename, encoding='utf-8') as f:\n",
        "    contents = f.read()\n",
        "except FileNotFoundError:\n",
        "  print(f\"Sorry, the file {filename} does not existe\")\n"
      ],
      "execution_count": null,
      "outputs": []
    },
    {
      "cell_type": "markdown",
      "metadata": {
        "id": "hqgcX4lQ2Rj-"
      },
      "source": [
        "# Analizando texto\n",
        "Puede analizar archivos de texto que contengan libros completos. \n",
        "Ingresemos el texto de Alicia en el país de las maravillas e intentemos contar la cantidad de palabras en el texto. Usaremos el método de cadena **split()**, que puede construir una lista de palabras a partir de una cadena. Esto es lo que hace **split()** con una cadena que contiene solo el título **\"Alicia en el país de las maravillas\"**:"
      ]
    },
    {
      "cell_type": "code",
      "metadata": {
        "id": "Z0J6ofs22hih"
      },
      "source": [
        "title = \"Alicia en el país de las maravillas\"\n",
        "lista = title.split()\n",
        "lista"
      ],
      "execution_count": null,
      "outputs": []
    },
    {
      "cell_type": "code",
      "metadata": {
        "id": "kO7JmGqC21fg"
      },
      "source": [
        "filename = './sample_data/alice.txt'\n",
        "with open(filename, 'w') as file_object:\n",
        "  file_object.write(\"Alicia en el país de las maravillas\")"
      ],
      "execution_count": 17,
      "outputs": []
    },
    {
      "cell_type": "code",
      "metadata": {
        "id": "rzgwVtku3Jul"
      },
      "source": [
        "def count_words(filename):\n",
        "       try:\n",
        "           with open(filename, encoding='utf-8') as f:\n",
        "               contents = f.read()\n",
        "       except FileNotFoundError:\n",
        "           print(f\"Sorry, the file {filename} does not exist.\")\n",
        "       else:\n",
        "           words = contents.split()   # Separamos palabras\n",
        "           num_words = len(words)     # Contamos ítems en la lista\n",
        "           print(f\"The file {filename} has about {num_words} words.\")\n",
        "\n",
        "filename = './sample_data/alice.txt'\n",
        "count_words(filename)"
      ],
      "execution_count": null,
      "outputs": []
    },
    {
      "cell_type": "markdown",
      "metadata": {
        "id": "RYFVHrwZ3g4M"
      },
      "source": [
        "# Almacenamiento de datos\n",
        "Muchos de sus programas pedirán a los usuarios que ingresen cierto tipo de información. Cuando los usuarios cierran un programa, casi siempre querrá guardar la información que ingresaron. Una forma sencilla de hacer esto implica almacenar sus datos usando el módulo **json**.\n",
        "\n",
        "El módulo json le permite volcar estructuras de datos simples de Python en un archivo y cargar los datos de ese archivo la próxima vez que se ejecute el programa. También puede usar **json** para compartir datos entre diferentes programas de Python. Aún mejor, el formato de datos JSON no es específico de Python, por lo que puede compartir los datos que almacena en el formato JSON con personas que trabajan en muchos otros lenguajes de programación. Es un formato útil y portátil, y es fácil de aprender."
      ]
    },
    {
      "cell_type": "code",
      "metadata": {
        "id": "Vf63lJcI3xmi"
      },
      "source": [
        "import json\n",
        "\n",
        "numeros = [2, 3, 5, 7, 11, 13]\n",
        "\n",
        "filename = './sample_data/numeros.json'\n",
        "with open(filename, 'w') as f:\n",
        "  json.dump(numeros, f)"
      ],
      "execution_count": 19,
      "outputs": []
    },
    {
      "cell_type": "code",
      "metadata": {
        "id": "1v3ovU4_3-vJ"
      },
      "source": [
        "import json\n",
        "\n",
        "filename = './sample_data/numeros.json'\n",
        "with open(filename) as f:\n",
        "  numeros = json.load(f) #Cargamos el archivo json en una variable\n",
        "\n",
        "print(numeros)"
      ],
      "execution_count": null,
      "outputs": []
    },
    {
      "cell_type": "code",
      "metadata": {
        "id": "vzqjRqpt4PWq"
      },
      "source": [
        "import json\n",
        "\n",
        "username = input(\"What is your name? \")\n",
        "filename = './sample_data/username.json'\n",
        "with open(filename, 'w') as f:\n",
        "  json.dump(username, f)\n",
        "  print(f\"We'll remember you when you come back, {username}!\")"
      ],
      "execution_count": null,
      "outputs": []
    },
    {
      "cell_type": "code",
      "metadata": {
        "id": "BfLZUHcY4b6s"
      },
      "source": [
        "import json\n",
        "\n",
        "filename = './sample_data/username.json'\n",
        "\n",
        "with open(filename) as f:\n",
        "  username = json.load(f)\n",
        "  print(f\"Welcome back, {username}!\")"
      ],
      "execution_count": null,
      "outputs": []
    }
  ]
}