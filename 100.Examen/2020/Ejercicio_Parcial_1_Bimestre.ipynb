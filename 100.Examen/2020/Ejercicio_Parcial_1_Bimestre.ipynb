{
 "cells": [
  {
   "cell_type": "markdown",
   "metadata": {
    "colab_type": "text",
    "id": "view-in-github"
   },
   "source": [
    "<a href=\"https://colab.research.google.com/github/al34n1x/DataScience/blob/master/100.Examen/Ejercicio_Parcial_1_Bimestre.ipynb\" target=\"_parent\"><img src=\"https://colab.research.google.com/assets/colab-badge.svg\" alt=\"Open In Colab\"/></a>"
   ]
  },
  {
   "cell_type": "code",
   "execution_count": null,
   "metadata": {},
   "outputs": [],
   "source": []
  },
  {
   "cell_type": "markdown",
   "metadata": {
    "id": "0ZBHM9KbFmxq"
   },
   "source": [
    "# Ejercicio Tipo Parcial\n",
    "\n",
    "El ministerio de salud de la nación les solicita realizar un programa que les permita visualizar el estado de ciudadanos infectados con COVID-19 en todas sus variantes en un rango de fecha determinado y comparar esos resultados con los niveles de vacunación.\n",
    "A su vez, se les solicita que realicen una compración con otro(s) país(es). (Seleccionar como máximo 2 adicionales)\n",
    "\n",
    "Para ello, un analista le provee los siguientes archivos.\n",
    "\n",
    "[Casos COVID Global](https://github.com/al34n1x/DataScience/blob/master/100.Examen/owid-covid-data.csv)\n",
    "\n",
    "[Vacunación Global](https://github.com/al34n1x/DataScience/blob/master/100.Examen/country_vaccinations.csv)\n",
    "\n",
    "\n",
    "Consideraciones:\n",
    "\n",
    "* Rango de Fechas desde 01/01/2021 a 15/01/2021\n",
    "* Importar los archivos y trabajarlos como diccionarios. El caracter delimitador de los archivos es el **';'**\n",
    "* Realizar al menos 4 charts que representen la información solicitada\n",
    "* Utilizar funciones\n",
    "* Generar un archivo que posea la siguiente estructura de datos dscriminado por el rango de fechas.\n",
    "```\n",
    "ID:{\n",
    "'país':value,\n",
    "'fecha':value,\n",
    "'nuevos_casos':value,\n",
    "'nuevas_muertes':value,\n",
    "'total_vacunados':value\n",
    "}\n",
    "```\n",
    "* Documentar cada paso con bloques de texto adicionalmente a notas en el código\n",
    "* Presentar por pantalla el total acumulado de infectados y de vacunados en el rango de fechas solicitado\n",
    "* Proveer una breve conclusión como parte del análisis \n",
    "\n",
    "\n",
    "\n"
   ]
  },
  {
   "cell_type": "markdown",
   "metadata": {
    "id": "1rYMsEfVFvPn"
   },
   "source": [
    "## TIPS"
   ]
  },
  {
   "cell_type": "code",
   "execution_count": null,
   "metadata": {
    "id": "aTZkn_AvFld9"
   },
   "outputs": [],
   "source": [
    "import csv\n",
    "file = ('./sample_data/country_vaccinations.csv')\n",
    "covid_vaccines={}\n",
    "\n",
    "with open(file, mode='r') as csv_file:\n",
    "    csv_reader = csv.DictReader(csv_file,delimiter=';') #Delimitador ;\n",
    "    line_count = 0\n",
    "    for row in csv_reader:\n",
    "      print(row)"
   ]
  },
  {
   "cell_type": "code",
   "execution_count": null,
   "metadata": {
    "id": "D2p6WrXIFsHi"
   },
   "outputs": [],
   "source": [
    "import csv\n",
    "file = ('./sample_data/owid-covid-data.csv')\n",
    "covid_cases={}\n",
    "\n",
    "with open(file, mode='r') as csv_file:\n",
    "    csv_reader = csv.DictReader(csv_file,delimiter=';')\n",
    "    line_count = 0\n",
    "    for row in csv_reader:\n",
    "      print(row)"
   ]
  },
  {
   "cell_type": "code",
   "execution_count": null,
   "metadata": {
    "id": "bg6-mLepFtzy"
   },
   "outputs": [],
   "source": [
    "var = '1.0'\n",
    "\n",
    "split = var.split('.')[0] # Dividir cadena de caracteres para eliminar los caracteres detras del .\n",
    "\n",
    "print(var)\n",
    "print(int(split))"
   ]
  }
 ],
 "metadata": {
  "colab": {
   "authorship_tag": "ABX9TyNxp3hfWkLMTdeEBSCiiESr",
   "include_colab_link": true,
   "name": "Ejercicio_Parcial_1_Bimestre.ipynb",
   "provenance": []
  },
  "kernelspec": {
   "display_name": "Python 3",
   "language": "python",
   "name": "python3"
  },
  "language_info": {
   "codemirror_mode": {
    "name": "ipython",
    "version": 3
   },
   "file_extension": ".py",
   "mimetype": "text/x-python",
   "name": "python",
   "nbconvert_exporter": "python",
   "pygments_lexer": "ipython3",
   "version": "3.7.6"
  }
 },
 "nbformat": 4,
 "nbformat_minor": 1
}
