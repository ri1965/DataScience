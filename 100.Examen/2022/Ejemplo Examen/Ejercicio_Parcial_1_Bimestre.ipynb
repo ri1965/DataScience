{
  "nbformat": 4,
  "nbformat_minor": 0,
  "metadata": {
    "colab": {
      "name": "Ejercicio_Parcial_1_Bimestre.ipynb",
      "provenance": [],
      "authorship_tag": "ABX9TyNs3Spuu19oiKf57LwocfUd",
      "include_colab_link": true
    },
    "kernelspec": {
      "name": "python3",
      "display_name": "Python 3"
    },
    "language_info": {
      "name": "python"
    }
  },
  "cells": [
    {
      "cell_type": "markdown",
      "metadata": {
        "id": "view-in-github",
        "colab_type": "text"
      },
      "source": [
        "<a href=\"https://colab.research.google.com/github/al34n1x/DataScience/blob/master/100.Examen/2022/Ejercicio_Parcial_1_Bimestre.ipynb\" target=\"_parent\"><img src=\"https://colab.research.google.com/assets/colab-badge.svg\" alt=\"Open In Colab\"/></a>"
      ]
    },
    {
      "cell_type": "markdown",
      "metadata": {
        "id": "0ZBHM9KbFmxq"
      },
      "source": [
        "# Ejercicio Tipo Parcial\n",
        "\n",
        "El ministerio de salud de la nación les solicita realizar un programa que les permita visualizar el estado de ciudadanos infectados con COVID-19 en todas sus variantes en un rango de fecha determinado y comparar esos resultados con los niveles de vacunación.\n",
        "A su vez, se les solicita que realicen una compración con otro(s) país(es). (Seleccionar como máximo 2 adicionales)\n",
        "\n",
        "Para ello, un analista le provee los siguientes archivos.\n",
        "\n",
        "[Vacunación Global](https://raw.githubusercontent.com/al34n1x/DataScience/master/100.Examen/2022/country_vaccinations.csv)\n",
        "\n",
        "[Casos COVID Global](https://raw.githubusercontent.com/al34n1x/DataScience/master/100.Examen/2022/owid-covid-data.csv)\n",
        "\n",
        "\n",
        "Consideraciones:\n",
        "\n",
        "* Rango de Fechas desde 01/01/2021 a 15/01/2021\n",
        "* Importar los archivos y trabajarlos como diccionarios o dataframes. El caracter delimitador de los archivos es el **';'**\n",
        "* Realizar al menos 4 charts que representen la información solicitada\n",
        "* Utilizar funciones\n",
        "* Generar un archivo que posea la siguiente estructura de datos dscriminado por el rango de fechas.\n",
        "```\n",
        "ID:{\n",
        "'país':value,\n",
        "'fecha':value,\n",
        "'nuevos_casos':value,\n",
        "'nuevas_muertes':value,\n",
        "'total_vacunados':value\n",
        "}\n",
        "```\n",
        "* Documentar cada paso con bloques de texto adicionalmente a notas en el código\n",
        "* Presentar por pantalla el total acumulado de infectados y de vacunados en el rango de fechas solicitado\n",
        "* Proveer una breve conclusión como parte del análisis \n",
        "\n",
        "\n",
        "\n"
      ]
    },
    {
      "cell_type": "markdown",
      "metadata": {
        "id": "1rYMsEfVFvPn"
      },
      "source": [
        "## TIPS"
      ]
    },
    {
      "cell_type": "code",
      "metadata": {
        "id": "aTZkn_AvFld9"
      },
      "source": [
        "import csv\n",
        "file = ('./sample_data/country_vaccinations.csv')\n",
        "covid_vaccines={}\n",
        "\n",
        "with open(file, mode='r') as csv_file:\n",
        "    csv_reader = csv.DictReader(csv_file,delimiter=';') #Delimitador ;\n",
        "    line_count = 0\n",
        "    for row in csv_reader:\n",
        "      print(row)"
      ],
      "execution_count": null,
      "outputs": []
    },
    {
      "cell_type": "code",
      "metadata": {
        "id": "D2p6WrXIFsHi"
      },
      "source": [
        "import csv\n",
        "file = ('./sample_data/owid-covid-data.csv')\n",
        "covid_cases={}\n",
        "\n",
        "with open(file, mode='r') as csv_file:\n",
        "    csv_reader = csv.DictReader(csv_file,delimiter=';')\n",
        "    line_count = 0\n",
        "    for row in csv_reader:\n",
        "      print(row)"
      ],
      "execution_count": null,
      "outputs": []
    },
    {
      "cell_type": "code",
      "metadata": {
        "id": "bg6-mLepFtzy"
      },
      "source": [
        "var = '1.0'\n",
        "\n",
        "split = var.split('.')[0] # Dividir cadena de caracteres para eliminar los caracteres detras del .\n",
        "\n",
        "print(var)\n",
        "print(int(split))"
      ],
      "execution_count": null,
      "outputs": []
    },
    {
      "cell_type": "markdown",
      "source": [
        "---\n"
      ],
      "metadata": {
        "id": "3ti1yO9zlVpI"
      }
    },
    {
      "cell_type": "markdown",
      "source": [
        "## Carga de datos"
      ],
      "metadata": {
        "id": "aQneOoJ_krvJ"
      }
    },
    {
      "cell_type": "code",
      "source": [
        "# Ingrese código aquí"
      ],
      "metadata": {
        "id": "_J96onT_lCw9"
      },
      "execution_count": null,
      "outputs": []
    },
    {
      "cell_type": "markdown",
      "source": [
        "## Limpieza de datos"
      ],
      "metadata": {
        "id": "SzAIToQjktGr"
      }
    },
    {
      "cell_type": "code",
      "source": [
        "# Ingrese código aquí"
      ],
      "metadata": {
        "id": "wUV9xn9LlEIU"
      },
      "execution_count": null,
      "outputs": []
    },
    {
      "cell_type": "code",
      "source": [
        "# Ingrese código aquí"
      ],
      "metadata": {
        "id": "fbRtOmINlD5c"
      },
      "execution_count": null,
      "outputs": []
    },
    {
      "cell_type": "code",
      "source": [
        "# Ingrese código aquí"
      ],
      "metadata": {
        "id": "6z-nbh5TlDX9"
      },
      "execution_count": null,
      "outputs": []
    },
    {
      "cell_type": "markdown",
      "source": [
        "## Transformación de datos"
      ],
      "metadata": {
        "id": "2_BcGv-BkyAS"
      }
    },
    {
      "cell_type": "code",
      "source": [
        "# Ingrese código aquí"
      ],
      "metadata": {
        "id": "PUXmMsRtlFm4"
      },
      "execution_count": null,
      "outputs": []
    },
    {
      "cell_type": "code",
      "source": [
        "# Ingrese código aquí"
      ],
      "metadata": {
        "id": "l9zoyloQlFZL"
      },
      "execution_count": null,
      "outputs": []
    },
    {
      "cell_type": "code",
      "source": [
        "# Ingrese código aquí"
      ],
      "metadata": {
        "id": "vZmzCfbwlFKl"
      },
      "execution_count": null,
      "outputs": []
    },
    {
      "cell_type": "markdown",
      "source": [
        "## Análisis y Visualizaciones\n",
        "\n",
        "*Ingrese su análisis aquí*\n"
      ],
      "metadata": {
        "id": "7hb5S74tk1rr"
      }
    },
    {
      "cell_type": "code",
      "source": [
        "# Ingrese código aquí"
      ],
      "metadata": {
        "id": "JY1QPSUUlHDX"
      },
      "execution_count": null,
      "outputs": []
    },
    {
      "cell_type": "code",
      "source": [
        "# Ingrese código aquí"
      ],
      "metadata": {
        "id": "2SToxURjlG3Y"
      },
      "execution_count": null,
      "outputs": []
    },
    {
      "cell_type": "code",
      "source": [
        "# Ingrese código aquí"
      ],
      "metadata": {
        "id": "reVnqsCXlGpt"
      },
      "execution_count": null,
      "outputs": []
    },
    {
      "cell_type": "markdown",
      "source": [
        "## Conclusión\n",
        "\n",
        "*Ingrese conclusión aquí*"
      ],
      "metadata": {
        "id": "SDoG7Ol5k5JN"
      }
    },
    {
      "cell_type": "code",
      "source": [
        "# Ingrese código aquí"
      ],
      "metadata": {
        "id": "JS2X5GQnlIYb"
      },
      "execution_count": null,
      "outputs": []
    },
    {
      "cell_type": "markdown",
      "source": [
        "## Almacenamiento de resultados"
      ],
      "metadata": {
        "id": "N7_qJtlek90u"
      }
    },
    {
      "cell_type": "code",
      "source": [
        "# Ingrese código aquí"
      ],
      "metadata": {
        "id": "vEwQheo0lJJf"
      },
      "execution_count": null,
      "outputs": []
    }
  ]
}