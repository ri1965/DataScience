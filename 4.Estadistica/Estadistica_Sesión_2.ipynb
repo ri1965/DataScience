{
  "nbformat": 4,
  "nbformat_minor": 0,
  "metadata": {
    "kernelspec": {
      "name": "python3",
      "display_name": "Python 3"
    },
    "colab": {
      "name": "Estadistica Sesión 2.ipynb",
      "provenance": [],
      "include_colab_link": true
    }
  },
  "cells": [
    {
      "cell_type": "markdown",
      "metadata": {
        "id": "view-in-github",
        "colab_type": "text"
      },
      "source": [
        "<a href=\"https://colab.research.google.com/github/al34n1x/DataScience/blob/master/4.Estadistica/Estadistica_Sesi%C3%B3n_2.ipynb\" target=\"_parent\"><img src=\"https://colab.research.google.com/assets/colab-badge.svg\" alt=\"Open In Colab\"/></a>"
      ]
    },
    {
      "cell_type": "markdown",
      "metadata": {
        "id": "9TAYXUW1vR3Z"
      },
      "source": [
        "# Intro a la estadística (Sesión 2)\n",
        "\n",
        "---\n",
        "\n",
        "\n"
      ]
    },
    {
      "cell_type": "markdown",
      "metadata": {
        "id": "XiUaOx1qvR3c"
      },
      "source": [
        "Hasta ahora hemos analizado las estadísticas univariadas, es decir, una variable que forma una distribución. **Estadísticas bivariadas** mira dos variables, por ejemplo:\n",
        "\n",
        "* Carbono orgánico total (TOC) de la muestra de roca Y diversidad fósil.\n",
        "\n",
        "La idea es buscar la relación entre variables, por ejemplo:\n",
        "\n",
        "* ¿La diversidad fósil es menor cuando el TOC es mayor?\n",
        "\n",
        "Si podemos demostrar que hay una relación, entonces podemos comenzar a buscar posibles causas. Para estudiar visualmente problemas bivariados, usamos diagramas de dispersión."
      ]
    },
    {
      "cell_type": "markdown",
      "metadata": {
        "id": "mkb_xf4EvR3e"
      },
      "source": [
        "\n",
        "## Ejemplo de diagrama de dispersión: ¿Las marcas de trabajo de campo de Dorset predicen el rendimiento general del año?\n",
        "\n",
        "Aquí vamos a crear un diagrama de dispersión de dos variables (deberá usar el archivo de datos [/data/first_year_marks.csv](http://cdn.jsdelivr.net/gh/al34n1x/DataScience/data/first_year_marks.csv))."
      ]
    },
    {
      "cell_type": "code",
      "metadata": {
        "id": "vlz3nQ7cvR3s",
        "outputId": "e512a30c-c162-45c2-c400-e46970953db4",
        "colab": {
          "base_uri": "https://localhost:8080/"
        }
      },
      "source": [
        "import numpy as np\n",
        "record = np.recfromcsv('http://cdn.jsdelivr.net/gh/al34n1x/DataScience/data/first_year_marks.csv',delimiter=',', names=True)\n",
        "\n",
        "print (record.dtype.names)"
      ],
      "execution_count": 1,
      "outputs": [
        {
          "output_type": "stream",
          "name": "stdout",
          "text": [
            "('field_mark', 'overall_year')\n"
          ]
        }
      ]
    },
    {
      "cell_type": "code",
      "metadata": {
        "id": "kdWGtVWwvR31",
        "outputId": "e9c18a64-df7a-4038-c0e1-05d5ca3420c1",
        "colab": {
          "base_uri": "https://localhost:8080/",
          "height": 322
        }
      },
      "source": [
        "import matplotlib.pyplot as plt\n",
        "\n",
        "# Ahora que tenemos los encabezados CSV, leo los registros en arrays de numpy.\n",
        "fieldmarks = np.array(record[\"field_mark\"],   dtype=float)\n",
        "yearmarks  = np.array(record[\"overall_year\"], dtype=float)\n",
        "\n",
        "\n",
        "# 'bx' significa marcadores azules 'x'\n",
        "# zorder = 3 para asegurarse de que esté delante de la cuadrícula\n",
        "plt.plot(fieldmarks, yearmarks, 'bx', markersize=5, markeredgewidth=2, zorder=3)\n",
        "                            \n",
        "# No etiquetar un gráfico es imperdonable. \n",
        "plt.ylabel(\"Overall Year Mark\",weight='bold')\n",
        "plt.xlabel(\"Mark for Dorset\",weight='bold')\n",
        "\n",
        "# El resto es bonus\n",
        "plt.xlim(0, 100)                 # ambas escalas entre 0 y 100\n",
        "plt.ylim(0, 100)\n",
        "\n",
        "# Las etiquetas de marca son largas y ocupan mucho espacio. Para mejorar\n",
        "# la legibilidad de nuestro código podemos almacenarlos como listas llamadas:\n",
        "# xticktitles y yticktitles\n",
        "xticktitles = [\"0%\", \"3rd/Fail\", \"2ii/3rd\", \"2i/2ii\", \"2i/1st\", \"100%\"]\n",
        "yticktitles = [\"3rd/Fail\", \"2ii/3rd\", \"2i/2ii\", \"2i/1st\", \"100%\"]\n",
        "\n",
        "# Marcas y etiquetas para configurar por límites de categoría\n",
        "plt.xticks([0, 40, 50, 60, 70, 100],xticktitles, rotation=\"vertical\")\n",
        "plt.yticks([40, 50, 60, 70, 100],   yticktitles)\n",
        "\n",
        "# Activamos la cuadrícula con finas líneas verdes punteadas\n",
        "plt.grid(linestyle='--', linewidth=.5, color='green',zorder=1)\n",
        "\n",
        "# Titulos\n",
        "plt.title(\"Fieldwork and Year marks 2010-11\",weight='bold')\n",
        "\n",
        "# Mostrar el gráfico\n",
        "plt.show()"
      ],
      "execution_count": 2,
      "outputs": [
        {
          "output_type": "display_data",
          "data": {
            "text/plain": [
              "<Figure size 432x288 with 1 Axes>"
            ],
            "image/png": "[encoded data removed]"
          },
          "metadata": {
            "needs_background": "light"
          }
        }
      ]
    },
    {
      "cell_type": "markdown",
      "metadata": {
        "id": "S74tQXyzvR37"
      },
      "source": [
        "Esto solo muestra una relación visual, por lo que, si bien en la trama parece que no hay una relación sólida, ¿podemos ser más cuantitativos? ¿Son estas dos variables realmente independientes?"
      ]
    },
    {
      "cell_type": "markdown",
      "metadata": {
        "id": "gxcsVdkwvR37"
      },
      "source": [
        "# Regresión lineal\n",
        "\n",
        "Un enfoque común para los datos bivariados es modelarlos matemáticamente, por ejemplo, ajustando una línea (*regresión lineal*). Esto no es apropiado si solo hay una relación débil.\n",
        "\n",
        "También es posible arreglar curvas más complejas, pero en este curso nos limitaremos a la regresión lineal.\n",
        "\n",
        "Existen muchos métodos matemáticos para encontrar la mejor línea de ajuste. Por mucho, el más utilizado es el *método de mínimos cuadrados* que minimiza la suma de los cuadrados de los errores verticales. Esto se puede calcular en Python usando el método [scipy.stats.linregress](http://docs.scipy.org/doc/scipy/reference/generated/scipy.stats.linregress.html) que devuelve la pendiente, $ m $, e interceptar, $ c $ parámetros para la ecuación de la línea:\n",
        "\n",
        "$$y = mx + c.$$"
      ]
    },
    {
      "cell_type": "markdown",
      "metadata": {
        "id": "JYCDkgbZvR38"
      },
      "source": [
        "# Ejercicio 2.1\n",
        "\n",
        "1. Lea el archivo [/data/BrachiopodBiometrics.txt](http://cdn.jsdelivr.net/gh/al34n1x/DataScience/data/BrachiopodBiometrics.txt).\n",
        "2. Cree un diagrama de dispersión: etiquete el diagrama de manera adecuada.\n",
        "3. Use la regresión lineal para ajustar una línea a los datos.\n",
        "4. Superponga la línea en el diagrama de dispersión."
      ]
    },
    {
      "cell_type": "code",
      "metadata": {
        "id": "nh0NFTvNvR3-",
        "colab": {
          "base_uri": "https://localhost:8080/"
        },
        "outputId": "a424da20-439b-4936-c9ee-525d9495d956"
      },
      "source": [
        "# Ingrese su solución aquí\n",
        "import numpy as np\n",
        "\n",
        "# Read in the records.\n",
        "record = np.recfromcsv(\"http://cdn.jsdelivr.net/gh/al34n1x/DataScience/data/BrachiopodBiometrics.txt\") \n",
        "\n",
        "print(record.dtype.names)"
      ],
      "execution_count": 3,
      "outputs": [
        {
          "output_type": "stream",
          "name": "stdout",
          "text": [
            "('locality', 'lengthmm', 'widthmm')\n"
          ]
        },
        {
          "output_type": "stream",
          "name": "stderr",
          "text": [
            "/usr/local/lib/python3.7/dist-packages/numpy/lib/npyio.py:2407: VisibleDeprecationWarning: Reading unicode strings without specifying the encoding argument is deprecated. Set the encoding, use None for the system default.\n",
            "  output = genfromtxt(fname, **kwargs)\n"
          ]
        }
      ]
    },
    {
      "cell_type": "code",
      "metadata": {
        "id": "vAFQv5cPj4DR",
        "colab": {
          "base_uri": "https://localhost:8080/",
          "height": 543
        },
        "outputId": "aecc7904-004b-46be-fedb-4bc9dd616dbc"
      },
      "source": [
        "# Convert this to numpy arrays.\n",
        "lengthmm = np.array(record[\"lengthmm\"], dtype=float)\n",
        "widthmm = np.array(record[\"widthmm\"], dtype=float)\n",
        "\n",
        "print(lengthmm)\n",
        "print(widthmm)\n",
        "\n",
        "plt.plot(lengthmm, widthmm, 'bx', markersize=5, markeredgewidth=2, zorder=3)\n",
        "                            # 'bx' - blue 'x' markers, 10 points in size, \n",
        "                            # drawn in a thickish line.\n",
        "                            # zorder=3 to make sure this is in front of grid\n",
        "\n",
        "from scipy import stats\n",
        "slope, intercept, r_value, p_value, std_err = stats.linregress(lengthmm, widthmm)\n",
        "x = np.array([lengthmm.min(), widthmm.max()])\n",
        "y = slope*x+intercept\n",
        "plt.plot(x,y)\n",
        "\n",
        "print(\"r and p values of linear regression: \", r_value, p_value)\n",
        "print(\"pendiente e intercept: \", slope, intercept)\n",
        "\n",
        "# Not labeling a graph is unforgivable. This is the minimum that should be in any graph.  \n",
        "plt.ylabel(\"Length/mm\",weight='bold')\n",
        "plt.xlabel(\"Width/mm\",weight='bold')\n",
        "\n",
        "plt.title(\"Brachiopod Biometric data\",weight='bold')\n",
        "plt.show()\n"
      ],
      "execution_count": 4,
      "outputs": [
        {
          "output_type": "stream",
          "name": "stdout",
          "text": [
            "[2.3  2.95 3.1  3.7  3.5  2.35 4.   4.   2.75 2.95 5.   2.7  3.   3.2\n",
            " 2.3  2.75 3.4  3.5  3.75 2.8  2.8  2.5  3.6  3.3  3.35 3.7  3.6  3.\n",
            " 3.3  3.3  2.95 3.4  2.3  4.4  2.7  2.8  3.9  2.7  3.7  3.8  3.1  2.7\n",
            " 3.5  3.   3.3  3.3  3.4  3.1  4.   3.7  3.2  3.25 3.8  3.45 5.5  3.6\n",
            " 4.   4.75 4.87 3.6  4.   5.25 4.4  3.5  3.3  2.6  5.15 4.05 3.4  3.5\n",
            " 2.1  4.65 5.1  3.9  3.35]\n",
            "[2.1  2.85 2.8  3.5  4.6  2.3  3.9  4.2  2.55 2.7  5.1  2.7  2.9  3.4\n",
            " 2.2  2.7  3.2  3.2  3.6  2.75 2.6  2.7  4.   3.2  3.3  4.1  3.45 3.2\n",
            " 3.3  3.2  2.9  3.4  2.7  3.9  2.5  2.8  3.6  3.   3.55 4.   3.1  2.2\n",
            " 3.2  3.1  3.2  3.3  3.25 3.   4.   3.6  3.5  3.2  3.75 3.65 4.65 3.5\n",
            " 3.75 4.35 4.16 3.3  3.4  4.5  4.45 2.7  2.7  2.7  4.15 3.45 3.75 3.25\n",
            " 2.3  4.5  5.25 3.25 3.5 ]\n",
            "r and p values of linear regression:  0.8940579455080504 3.596118391396733e-27\n",
            "pendiente e intercept:  0.8198083160045666 0.5163270390705401\n"
          ]
        },
        {
          "output_type": "display_data",
          "data": {
            "text/plain": [
              "<Figure size 432x288 with 1 Axes>"
            ],
            "image/png": "[encoded data removed]"
          },
          "metadata": {
            "needs_background": "light"
          }
        }
      ]
    },
    {
      "cell_type": "markdown",
      "metadata": {
        "id": "2ZfKi2GavR4H"
      },
      "source": [
        "# Correlación\n",
        "Trazar un diagrama de dispersión da una idea visual de qué tan bien están relacionadas o correlacionadas dos variables. Sin embargo, la correlación también se puede definir matemáticamente en términos de *valores r*, que tienen valores en el rango de -1 a 1:\n",
        "\n",
        "| valor-r | Interpretación |\n",
        "|: ------ |: -------------- |\n",
        "| -1 |Correlación negativa perfecta |\n",
        "| -0,70 |Fuerte correlación negativa |\n",
        "| -0,50 |Correlación negativa moderada |\n",
        "| -0,30 |Correlación negativa débil |\n",
        "| 0 |Sin correlación |\n",
        "| 0,30 |Correlación débil |\n",
        "| 0,50 |Correlación moderada |\n",
        "| 0,70 |Fuerte correlación |\n",
        "|1 |Correlación perfecta |\n",
        "\n",
        "Existen métodos comúnmente utilizados para calcular los coeficientes de correlación:\n",
        "\n",
        "* Coeficiente de Pearson (o coeficiente de correlación del producto-momento).\n",
        "* Coeficiente de correlación de Spearman.\n",
        "\n",
        "Para explicarlos y las diferencias entre ellos, necesitamos cubrir algunos conceptos básicos más, a saber:\n",
        "\n",
        "* Probabilidad.\n",
        "* Distribuciones normales.\n",
        "* Estadísticas paramétricas vs no paramétricas."
      ]
    },
    {
      "cell_type": "markdown",
      "metadata": {
        "id": "2b38FMmzvR4J"
      },
      "source": [
        "# Probabilidad\n",
        "\n",
        "La probabilidad, $p$ de que ocurra un evento se define como un valor en el rango $(0, 1)$ donde:\n",
        "\n",
        "* $ p = 0 $ implica que el evento nunca ocurrirá.\n",
        "* $ p = 1 $ implica que el evento siempre ocurrirá.\n",
        "\n",
        "Un ejemplo clásico es el lanzamiento de dados. La probabilidad de lanzar un tiro de 6 en un dado es $ 1/6 $ $ (= 0.167) $. La probabilidad de todos los resultados posibles sumarán 1.\n"
      ]
    },
    {
      "cell_type": "markdown",
      "metadata": {
        "id": "esMz-w4DvR4K"
      },
      "source": [
        "# Probabilidad y distribuciones\n",
        "\n",
        "Cuando tratamos de determinar si dos variables están relacionadas / correlacionadas, estamos hablando inmediatamente en términos de probabilidad. Es posible que cualquier relación aparente sea por casualidad. Así que tratamos de determinar qué tan improbable es esto como un *valor-p*.\n",
        "\n",
        "Usamos histogramas de muestras para obtener los diagramas subyacentes de distribución de probabilidad. Usamos curvas de distribución de probabilidad integrando el área debajo de la curva para calcular la probabilidad de muestreo a partir de un rango de valores (no se puede hablar de la probabilidad de obtener un valor particular ... ¿por qué no?) La integral debajo de la curva completa es 1 (¿por qué?)\n"
      ]
    },
    {
      "cell_type": "markdown",
      "metadata": {
        "id": "w_NgzA-7vR4L"
      },
      "source": [
        "# Distribuciones normales\n",
        "\n",
        "Muchas distribuciones del mundo real se aproximan a una \"forma de campana\". Esta forma se conoce como distribución *Normal* o *Gaussiana*. ¡Es muy importante en estadísticas y lo encontrarás muchas veces!\n",
        "\n",
        "Distribución normal se define matemáticamente como:\n",
        "\n",
        "$$ f(x) = \\frac{1}{\\sqrt{2\\pi\\sigma^2}} e^{-\\frac{(x-\\mu)^2}{2\\sigma^2}}$$\n",
        "\n",
        "donde $\\sigma$ es el desvío estándar y $\\mu$ es la media. No necesita conocer la fórmula de memoria, pero sí debe saber que solo depende de la *media* y del *desvío estándar*."
      ]
    },
    {
      "cell_type": "code",
      "metadata": {
        "id": "hl8_LKYYvR4N",
        "outputId": "85fb9453-c0df-435d-9dc0-3647277212be",
        "colab": {
          "base_uri": "https://localhost:8080/",
          "height": 265
        }
      },
      "source": [
        "x = np.linspace(-4, 4, 100)\n",
        "from scipy import stats\n",
        "from numpy import sqrt, pi, exp\n",
        "for mu, sigma in ((0, 1), (0, 0.7), (1, 1.5)):\n",
        "    y = sqrt(1/(2*pi*sigma**2))*exp(-(x-mu)**2/(2*sigma**2))\n",
        "    plt.plot(x, y)\n",
        "plt.show()"
      ],
      "execution_count": 5,
      "outputs": [
        {
          "output_type": "display_data",
          "data": {
            "text/plain": [
              "<Figure size 432x288 with 1 Axes>"
            ],
            "image/png": "[encoded data removed]"
          },
          "metadata": {
            "needs_background": "light"
          }
        }
      ]
    },
    {
      "cell_type": "markdown",
      "metadata": {
        "id": "7yS0o5KdvR4T"
      },
      "source": [
        "Las distribuciones normales son importantes ya que muchos métodos estadísticos inferenciales suponen que las distribuciones son normales. Sin embargo, ninguna distribución en el mundo real es completamente normal. A menudo, las personas suponen que las desviaciones de la normalidad son menores, ¡esto puede ser problemático!\n",
        "\n",
        "Considere el histograma de 2000 marcas generales de módulos de ESESIS (deberá usar el archivo [/data/2000marks.csv](http://cdn.jsdelivr.net/gh/al34n1x/DataScience/data/2000marks.csv)."
      ]
    },
    {
      "cell_type": "code",
      "metadata": {
        "id": "Rv8Y3pg-vR4U",
        "outputId": "b5b6b106-a3cc-429e-8f8f-3aa5f180e9ad",
        "colab": {
          "base_uri": "https://localhost:8080/",
          "height": 281
        }
      },
      "source": [
        "record = np.recfromtxt(\"http://cdn.jsdelivr.net/gh/al34n1x/DataScience/data/2000marks.csv\")\n",
        "marks = np.array(record, dtype=float)\n",
        "plt.hist(marks, density=True, bins=20)\n",
        "plt.xlabel(\"Student marks\")\n",
        "plt.show()"
      ],
      "execution_count": 20,
      "outputs": [
        {
          "output_type": "display_data",
          "data": {
            "text/plain": [
              "<Figure size 432x288 with 1 Axes>"
            ],
            "image/png": "[encoded data removed]"
          },
          "metadata": {
            "needs_background": "light"
          }
        }
      ]
    },
    {
      "cell_type": "markdown",
      "metadata": {
        "id": "IqrBerETvR4b"
      },
      "source": [
        "¿Este gráfico se distribuye normalmente? Más o menos, pero noten:\n",
        "\n",
        "* Gran pico alrededor de los 60.\n",
        "* Sesgado - cola larga izquierda."
      ]
    },
    {
      "cell_type": "markdown",
      "metadata": {
        "id": "Zqqx-6zKvR4c"
      },
      "source": [
        "# Volviendo a la correlación\n",
        "\n",
        "## Coeficiente de Pearson o (coef de correlación producto-momento).\n",
        "Este es el método más utilizado para obtener un valor r para la correlación. No entraremos en las matemáticas involucradas aquí, pero debe tener en cuenta su principal limitación: **se supone que las distribuciones que se comparan se distribuyen normalmente**.\n",
        "\n",
        "Para complicar aún más las cosas, no está claro cuánta desviación se permite ... más sobre esto más adelante.\n",
        "\n",
        "Puede calcular un valor de probabilidad para un valor r de Pearson usando [scipy.stats.pearsonr](http://docs.scipy.org/doc/scipy/reference/generated/scipy.stats.pearsonr.html#scipy.stats.pearsonr).\n",
        "\n",
        "Supongamos que calculamos un valor r de 0.3 para dos muestras en particular, y queremos saber si esto proviene de una correlación verdadera, o podría haber sucedido por casualidad. Para esto tenemos el valor p. El valor p indica aproximadamente la probabilidad de que un sistema *no correlacionado* produzca conjuntos de datos que tengan un valor r al menos tan extremo como el calculado a partir de estos conjuntos de datos. Los valores p no son completamente confiables, pero probablemente sean razonables para conjuntos de datos mayores de 500 aproximadamente.\n"
      ]
    },
    {
      "cell_type": "code",
      "metadata": {
        "id": "THy8MRk0vR4d",
        "outputId": "14cc32ea-2eb7-471e-937e-0a9c9fef6129",
        "colab": {
          "base_uri": "https://localhost:8080/"
        }
      },
      "source": [
        "# Veamos un ejemplo trivial: generemos datos donde x == y.\n",
        "d1 = np.linspace(-1, 1, 1000)\n",
        "d2 = np.linspace(-1, 1, 1000)\n",
        "\n",
        "r, p = stats.pearsonr(d1, d2)\n",
        "\n",
        "print(\"r-value (coeficiente de correlación)\",r)\n",
        "print(\"p-value (Probabilidad de que nos hayamos equivocado)\",p)"
      ],
      "execution_count": 21,
      "outputs": [
        {
          "output_type": "stream",
          "name": "stdout",
          "text": [
            "r-value (coeficiente de correlación) 0.9999999999999998\n",
            "p-value (Probabilidad de que nos hayamos equivocado) 0.0\n"
          ]
        }
      ]
    },
    {
      "cell_type": "code",
      "metadata": {
        "id": "WxGdKx8FoCHE",
        "colab": {
          "base_uri": "https://localhost:8080/"
        },
        "outputId": "d88ec6c0-b1ac-4fc4-8131-ab6a75838dae"
      },
      "source": [
        "# Veamos un ejemplo trivial: generemos datos donde x == y.\n",
        "d1 = np.linspace(4, -4, 1000)\n",
        "d2 = np.linspace(-1, 1, 1000)\n",
        "\n",
        "r, p = stats.pearsonr(d1, d2)\n",
        "\n",
        "print(\"r-value (coeficiente de correlación)\",r)\n",
        "print(\"p-value (Probabilidad de que nos hayamos equivocado)\",p)"
      ],
      "execution_count": 22,
      "outputs": [
        {
          "output_type": "stream",
          "name": "stdout",
          "text": [
            "r-value (coeficiente de correlación) -0.9999999999999998\n",
            "p-value (Probabilidad de que nos hayamos equivocado) 0.0\n"
          ]
        }
      ]
    },
    {
      "cell_type": "markdown",
      "metadata": {
        "id": "S2aiMV4QvR4l"
      },
      "source": [
        "## Correlación no paramétrica\n",
        "\n",
        "Un método alternativo para la correlación es el *coeficiente de correlación de rango de Spearman*. Este es un estadístico no paramétrica, lo que significa que no se basa en que los datos subyacentes sean de ninguna distribución en particular.\n",
        "\n",
        "Puede calcular el coeficiente de correlación de rango de Spearman usando [scipy.stats.spearmanr](http://docs.scipy.org/doc/scipy/reference/generated/scipy.stats.spearmanr.html#scipy.stats.spearmanr)\n",
        "\n",
        "En este caso, el valor p indica aproximadamente la probabilidad de que un sistema no correlacionado produzca conjuntos de datos que tengan una correlación de Spearman al menos tan extrema como la calculada a partir de estos conjuntos de datos. Como es el caso con el coeficiente de correlación de Pearson, los valores p no son completamente confiables, pero probablemente sean razonables para conjuntos de datos mayores de 500 aproximadamente.\n",
        "\n",
        "**Lo ideal es usar Pearson si los datos se distribuyen normalmente.**"
      ]
    },
    {
      "cell_type": "code",
      "metadata": {
        "id": "8TuGEzvuvR4n",
        "outputId": "30a8b442-b396-4fb5-89b2-0f22c6478b85",
        "colab": {
          "base_uri": "https://localhost:8080/"
        }
      },
      "source": [
        "# Lo intentamos de nuevo con nuestro dataset trivial\n",
        "r, p = stats.spearmanr(d1, d2)\n",
        "\n",
        "print(\"r-value (coeficiente de correlación)\",r)\n",
        "print(\"p-value (Probabilidad de que nos hayamos equivocado)\",p)"
      ],
      "execution_count": 23,
      "outputs": [
        {
          "output_type": "stream",
          "name": "stdout",
          "text": [
            "r-value (coeficiente de correlación) -1.0\n",
            "p-value (Probabilidad de que nos hayamos equivocado) 0.0\n"
          ]
        }
      ]
    },
    {
      "cell_type": "markdown",
      "metadata": {
        "id": "3dKD-RgBvR4v"
      },
      "source": [
        "# Ejercicio 2.2\n",
        "\n",
        "Para el conjunto de datos [/data/first_year_marks.csv](http://cdn.jsdelivr.net/gh/al34n1x/DataScience/data/first_year_marks.csv):\n",
        "\n",
        "* Calcule los valores r y p utilizando las metodologías de correlación de Pearson y Spearman.\n",
        "* ¿Se correlacionan estos datos? Si es así, ¿la correlación es débil o fuerte?\n",
        "* Trace los histogramas de cada una de las dos variables y superponga las curvas normales a los histogramas. ¿Qué tan bien combinan?"
      ]
    },
    {
      "cell_type": "code",
      "metadata": {
        "id": "7_e4Q7FovR4w"
      },
      "source": [
        "# Escriba la solución aquí"
      ],
      "execution_count": null,
      "outputs": []
    },
    {
      "cell_type": "markdown",
      "metadata": {
        "id": "_hsCPUz-vR4-"
      },
      "source": [
        "## Ejercicio 2.3\n",
        "\n",
        "Para esta práctica, necesitará los datos de respuesta de choque para arena. Esto se puede encontrar en el archivo [/data/sand_swdb.txt](http://cdn.jsdelivr.net/gh/al34n1x/DataScience/data/sand_swdb.txt), tomado de la base de datos de ondas de choque.\n",
        "\n",
        "## Ejercicio 2.3.1\n",
        "* Abra el archivo de texto y eche un vistazo, vea con qué está trabajando.\n",
        "* Lea en el archivo sand_swdb.txt en dos conjuntos llamados presión y energía.\n",
        "* Recuerde que no desea que se incluyan líneas 'comentadas' en el archivo de texto, ¿cómo haría esto?\n",
        "\n",
        "## Ejercicio 2.3.2\n",
        "\n",
        "* Haz un diagrama de dispersión de la presión contra la energía.\n",
        "* Etiquete los ejes apropiadamente (incluya unidades).\n",
        "* Realice una regresión lineal en los datos y superponga la línea de mejor ajuste en el gráfico (como una línea discontinua).\n",
        "* Agregue una leyenda al diagrama y etiquete la línea de mejor ajuste con su valor r. p.ej. r = 0.5.\n",
        "* Agregue (o cambie) el título de su diagrama para que sea y = {} x + {} y complete con los parámetros de ajuste.\n",
        "\n",
        "## BONUS (más difícil)\n",
        "\n",
        "* Rehaga su gráfico, pero esta vez con barras de error verticales del 10% en cada punto.\n",
        "\n",
        "Para esta práctica, debe hacer un uso extensivo de la documentación de matplotlib."
      ]
    },
    {
      "cell_type": "code",
      "metadata": {
        "id": "bnZWzv91vR5C"
      },
      "source": [
        "# Escriba su solución aquí\n",
        "import matplotlib.pyplot as plt\n",
        "import numpy as np\n",
        "from scipy import stats\n",
        "\n",
        "data = np.genfromtxt('http://cdn.jsdelivr.net/gh/al34n1x/DataScience/data/sand_swdb.txt', comments='#')"
      ],
      "execution_count": null,
      "outputs": []
    }
  ]
}