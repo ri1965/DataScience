{
  "nbformat": 4,
  "nbformat_minor": 0,
  "metadata": {
    "colab": {
      "name": "7. Time_Series.ipynb",
      "provenance": [],
      "collapsed_sections": []
    },
    "kernelspec": {
      "name": "python3",
      "display_name": "Python 3"
    }
  },
  "cells": [
    {
      "cell_type": "markdown",
      "metadata": {
        "id": "view-in-github"
      },
      "source": [
        "<a href=\"https://colab.research.google.com/github/al34n1x/DataScience/blob/master/6.Gestion_de_datos/Time_Series.ipynb\" target=\"_parent\"><img src=\"https://colab.research.google.com/assets/colab-badge.svg\" alt=\"Open In Colab\"/></a>"
      ]
    },
    {
      "cell_type": "markdown",
      "metadata": {
        "id": "DJemJOepjHXN",
        "colab_type": "toc"
      },
      "source": [
        ">[Time Series](#scrollTo=47Zj4ddS4faR)\n",
        "\n",
        ">>[Convirtiendo entre string y datetime](#scrollTo=Z88BdpN8T-t3)\n",
        "\n",
        ">>[Time Series](#scrollTo=NPCTOF9VXMeu)\n",
        "\n",
        ">>>[Indexing, Selection, Subsetting](#scrollTo=JfKZ1NL5XvNq)\n",
        "\n",
        ">>>[Time Series con Indices duplicados](#scrollTo=fvkvSXOsZ0Tu)\n",
        "\n",
        ">>>[Generando Date Ranges](#scrollTo=rraIdN98bDzp)\n",
        "\n",
        ">>[Rango de fechas, frecuencias y remuestreo (Resample)](#scrollTo=jyxVSBw8ag_s)\n",
        "\n",
        ">>>[Frecuencias y Date Offsets](#scrollTo=7Qv5E8fgcr1T)\n",
        "\n",
        ">>>[Semana del mes](#scrollTo=xKdc_69VdO6w)\n",
        "\n",
        ">>>[Desplazamiento de datos](#scrollTo=97gnXsMyd0c0)\n",
        "\n",
        ">>[Manejo de zona horaria](#scrollTo=xMy-xfR7ecVr)\n",
        "\n",
        ">>>[Operaciones entre diferentes zonas horarias](#scrollTo=xwoRltCHf3Lc)\n",
        "\n",
        ">>[Periodos y aritmética de periodos](#scrollTo=jKD07GILgm0P)\n",
        "\n",
        ">>>[Frecuencias trimestrales](#scrollTo=x8HmzQszhalx)\n",
        "\n"
      ]
    },
    {
      "cell_type": "markdown",
      "metadata": {
        "id": "47Zj4ddS4faR"
      },
      "source": [
        "# Time Series\n",
        "\n",
        "Los datos de series temporales son una forma importante de datos estructurados en muchos campos diferentes, como finanzas, economía, y física. Todo lo que se observa o mide en muchos puntos en el tiempo forma una serie de tiempo. Las series de tiempo también pueden ser irregulares sin una unidad de tiempo fija o compensación entre unidades. \n",
        "\n",
        "Las series temporales pueden presentarse con algunos de los siguientes formatos:\n",
        "\n",
        "* Marcas de tiempo: Instantes específicos en el tiempo\n",
        "\n",
        "* Períodos fijos: Como el mes de enero de 2007 o el año completo 2010\n",
        "\n",
        "* Intervalos de tiempo: Indicados por una marca de tiempo de inicio y fin. Los períodos pueden considerarse casos especiales de intervalos.\n",
        "\n",
        "* Experimento o tiempo transcurrido: Cada marca de tiempo es una medida de tiempo en relación con un tiempo de inicio particular (por ejemplo, el diámetro de una galleta que se hornea cada segundo desde que se coloca en el horno)\n",
        "\n",
        "\n",
        "Pandas proporciona muchas herramientas de series de tiempo y algoritmos de datos integrados. Puede trabajar eficientemente con series de tiempo muy grandes, cortar, dividir, agregar y volver a muestrear fácilmente series de tiempo de frecuencia irregular y fija. \n",
        "\n",
        "\n",
        "\n",
        "\n",
        "Type\t| Description\n",
        "------|------------\n",
        "date\t| Store calendar date (year, month, day) using the Gregorian calendar\n",
        "time\t| Store time of day as hours, minutes, seconds, and microseconds\n",
        "datetime\t| Stores both date and time\n",
        "timedelta\t| Represents the difference between two datetime values (as days, seconds, and microseconds)\n",
        "tzinfo\t| Base type for storing time zone information\n",
        "\n"
      ]
    },
    {
      "cell_type": "code",
      "metadata": {
        "id": "YuOXGCwG4bp7",
        "outputId": "79ee2b0d-0056-4263-a889-7d43d68c09e9",
        "colab": {
          "base_uri": "https://localhost:8080/"
        }
      },
      "source": [
        "import pandas as pd\n",
        "import numpy as np\n",
        "from datetime import datetime\n",
        "from datetime import timedelta\n",
        "now = datetime.now()\n",
        "now"
      ],
      "execution_count": 1,
      "outputs": [
        {
          "output_type": "execute_result",
          "data": {
            "text/plain": [
              "datetime.datetime(2022, 5, 26, 21, 33, 42, 531125)"
            ]
          },
          "metadata": {},
          "execution_count": 1
        }
      ]
    },
    {
      "cell_type": "code",
      "metadata": {
        "id": "sbEdh2pN5OUk",
        "colab": {
          "base_uri": "https://localhost:8080/"
        },
        "outputId": "f82e8754-d91f-4403-dbe8-43f9b0003810"
      },
      "source": [
        "now.year, now.month, now.day"
      ],
      "execution_count": 2,
      "outputs": [
        {
          "output_type": "execute_result",
          "data": {
            "text/plain": [
              "(2022, 5, 26)"
            ]
          },
          "metadata": {},
          "execution_count": 2
        }
      ]
    },
    {
      "cell_type": "code",
      "metadata": {
        "id": "7cWOnW5F5TBn"
      },
      "source": [
        "start = datetime(2011, 1, 7)"
      ],
      "execution_count": 3,
      "outputs": []
    },
    {
      "cell_type": "code",
      "metadata": {
        "id": "Z1LCTyeY5VP-",
        "colab": {
          "base_uri": "https://localhost:8080/"
        },
        "outputId": "e47bad29-956c-4963-8c21-93fbf2d19f54"
      },
      "source": [
        "start + timedelta(12)"
      ],
      "execution_count": 4,
      "outputs": [
        {
          "output_type": "execute_result",
          "data": {
            "text/plain": [
              "datetime.datetime(2011, 1, 19, 0, 0)"
            ]
          },
          "metadata": {},
          "execution_count": 4
        }
      ]
    },
    {
      "cell_type": "code",
      "metadata": {
        "id": "keD5LlIc5vDr",
        "colab": {
          "base_uri": "https://localhost:8080/"
        },
        "outputId": "7cb9760a-1724-4398-fa22-f3b76ea5e21b"
      },
      "source": [
        "start - 2 * timedelta(12)"
      ],
      "execution_count": 5,
      "outputs": [
        {
          "output_type": "execute_result",
          "data": {
            "text/plain": [
              "datetime.datetime(2010, 12, 14, 0, 0)"
            ]
          },
          "metadata": {},
          "execution_count": 5
        }
      ]
    },
    {
      "cell_type": "markdown",
      "metadata": {
        "id": "Z88BdpN8T-t3"
      },
      "source": [
        "## Convirtiendo entre string y datetime\n",
        "\n",
        "Es posible formatear objetos datetime y Timestamp como cadenas usando str o el método strftime, pasando una especificación de formato\n",
        "\n",
        "Type | Description\n",
        "-----|------------\n",
        "%Y |Four-digit year\n",
        "%y |Two-digit year\n",
        "%m |Two-digit month [01, 12]\n",
        "%d |Two-digit day [01, 31]\n",
        "%H |Hour (24-hour clock) [00, 23]\n",
        "%I |Hour (12-hour clock) [01, 12]\n",
        "%M |Two-digit minute [00, 59]\n",
        "%S |Second [00, 61] (seconds 60, 61 account for leap seconds)\n",
        "%w |Weekday as integer [0 (Sunday), 6]\n",
        "%U |Week number of the year [00, 53]; Sunday is considered the first day of the week, and days before the first Sunday of the year are “week 0”\n",
        "%W |Week number of the year [00, 53]; Monday is considered the first day of the week, and days before the first Monday of the year are “week 0”\n",
        "%z |UTC time zone offset as +HHMM or -HHMM; empty if time zone naive\n",
        "%F |Shortcut for %Y-%m-%d (e.g., 2012-4-18)\n",
        "%D |Shortcut for %m/%d/%y (e.g., 04/18/12)\n",
        "\n",
        "\n"
      ]
    },
    {
      "cell_type": "code",
      "metadata": {
        "id": "f4Zcb1UmUT_C"
      },
      "source": [
        "stamp = datetime(2011, 1, 3)"
      ],
      "execution_count": 6,
      "outputs": []
    },
    {
      "cell_type": "code",
      "metadata": {
        "id": "WFO2ijVAUVpv",
        "colab": {
          "base_uri": "https://localhost:8080/",
          "height": 35
        },
        "outputId": "e4e9509b-6e93-41ae-cde2-024d35e9bc33"
      },
      "source": [
        "str(stamp)"
      ],
      "execution_count": 7,
      "outputs": [
        {
          "output_type": "execute_result",
          "data": {
            "text/plain": [
              "'2011-01-03 00:00:00'"
            ],
            "application/vnd.google.colaboratory.intrinsic+json": {
              "type": "string"
            }
          },
          "metadata": {},
          "execution_count": 7
        }
      ]
    },
    {
      "cell_type": "code",
      "metadata": {
        "id": "T4Ip9iCVUXci",
        "colab": {
          "base_uri": "https://localhost:8080/",
          "height": 35
        },
        "outputId": "5282b659-84f9-4e85-b359-5716cfdef0ea"
      },
      "source": [
        "stamp.strftime('%Y-%m-%d')"
      ],
      "execution_count": 8,
      "outputs": [
        {
          "output_type": "execute_result",
          "data": {
            "text/plain": [
              "'2011-01-03'"
            ],
            "application/vnd.google.colaboratory.intrinsic+json": {
              "type": "string"
            }
          },
          "metadata": {},
          "execution_count": 8
        }
      ]
    },
    {
      "cell_type": "markdown",
      "metadata": {
        "id": "hSbIG4cGU_pE"
      },
      "source": [
        "Puedes usar los códigos de formato para convertir cadenas a fechas usando **datetime.strptime**:"
      ]
    },
    {
      "cell_type": "code",
      "metadata": {
        "id": "5dTEuvIwVEAu",
        "colab": {
          "base_uri": "https://localhost:8080/"
        },
        "outputId": "27083e94-2028-4a69-d006-040c125ea5a4"
      },
      "source": [
        "value = '2019-01-03'\n",
        "type(value)"
      ],
      "execution_count": 9,
      "outputs": [
        {
          "output_type": "execute_result",
          "data": {
            "text/plain": [
              "str"
            ]
          },
          "metadata": {},
          "execution_count": 9
        }
      ]
    },
    {
      "cell_type": "code",
      "metadata": {
        "id": "hvK0_8UCVH__",
        "colab": {
          "base_uri": "https://localhost:8080/"
        },
        "outputId": "e9f51f0a-60bf-4332-a51e-0759e7266ba4"
      },
      "source": [
        "datetime.strptime(value, '%Y-%m-%d')"
      ],
      "execution_count": 10,
      "outputs": [
        {
          "output_type": "execute_result",
          "data": {
            "text/plain": [
              "datetime.datetime(2019, 1, 3, 0, 0)"
            ]
          },
          "metadata": {},
          "execution_count": 10
        }
      ]
    },
    {
      "cell_type": "code",
      "metadata": {
        "id": "mgRAg-efVKq2"
      },
      "source": [
        "datestrs = ['7/6/2019', '8/6/2019']"
      ],
      "execution_count": 11,
      "outputs": []
    },
    {
      "cell_type": "code",
      "metadata": {
        "id": "USKQOl2DVQKC",
        "colab": {
          "base_uri": "https://localhost:8080/"
        },
        "outputId": "b3b76127-a492-4df2-8673-81d634f691f2"
      },
      "source": [
        "[datetime.strptime(x, '%m/%d/%Y') for x in datestrs]"
      ],
      "execution_count": 12,
      "outputs": [
        {
          "output_type": "execute_result",
          "data": {
            "text/plain": [
              "[datetime.datetime(2019, 7, 6, 0, 0), datetime.datetime(2019, 8, 6, 0, 0)]"
            ]
          },
          "metadata": {},
          "execution_count": 12
        }
      ]
    },
    {
      "cell_type": "markdown",
      "metadata": {
        "id": "U49TCq5kVeOk"
      },
      "source": [
        "*datetime.strptime* es una forma fácil de parsear datos. Sin embargo, puede ser un poco complejo de generar el formato para cada tiempo, en particular para formatos de fecha.\n",
        "\n",
        "**dateutil** es capaz de parsear casi cualquier tipo de formato de fecha que le pasemos."
      ]
    },
    {
      "cell_type": "code",
      "metadata": {
        "id": "GQDGmiTNV8XU",
        "colab": {
          "base_uri": "https://localhost:8080/"
        },
        "outputId": "5b0b54c2-7fbf-4db4-c5a6-419d90cb8c10"
      },
      "source": [
        "from dateutil.parser import parse\n",
        "parse('Jan 31, 2019 11:45 AM')"
      ],
      "execution_count": 13,
      "outputs": [
        {
          "output_type": "execute_result",
          "data": {
            "text/plain": [
              "datetime.datetime(2019, 1, 31, 11, 45)"
            ]
          },
          "metadata": {},
          "execution_count": 13
        }
      ]
    },
    {
      "cell_type": "code",
      "metadata": {
        "id": "j3Q-q_DQWP9_",
        "colab": {
          "base_uri": "https://localhost:8080/"
        },
        "outputId": "008e96ac-9b75-4743-8f92-204eab84a7ea"
      },
      "source": [
        "parse('12/6/2011', dayfirst=True) #En caso de que esten trabajando con formato dd/mm/yy"
      ],
      "execution_count": 14,
      "outputs": [
        {
          "output_type": "execute_result",
          "data": {
            "text/plain": [
              "datetime.datetime(2011, 6, 12, 0, 0)"
            ]
          },
          "metadata": {},
          "execution_count": 14
        }
      ]
    },
    {
      "cell_type": "markdown",
      "metadata": {
        "id": "gvVpzLpxWqaH"
      },
      "source": [
        "pandas generalmente está orientado a trabajar con arreglos de fechas, ya sea que se use como un índice de eje o una columna en un DataFrame. El método **to_datetime** analiza muchos tipos diferentes de representaciones de fechas. "
      ]
    },
    {
      "cell_type": "code",
      "metadata": {
        "id": "2O6zI2UcWxe4"
      },
      "source": [
        "datestrs = ['2019-07-06 12:00:00', '2019-08-06 00:00:00']"
      ],
      "execution_count": 15,
      "outputs": []
    },
    {
      "cell_type": "code",
      "metadata": {
        "id": "HWXLpBwnW0u1",
        "colab": {
          "base_uri": "https://localhost:8080/"
        },
        "outputId": "4c2c09c8-ddde-47bd-a93a-4fb4ebf57974"
      },
      "source": [
        "pd.to_datetime(datestrs)"
      ],
      "execution_count": 16,
      "outputs": [
        {
          "output_type": "execute_result",
          "data": {
            "text/plain": [
              "DatetimeIndex(['2019-07-06 12:00:00', '2019-08-06 00:00:00'], dtype='datetime64[ns]', freq=None)"
            ]
          },
          "metadata": {},
          "execution_count": 16
        }
      ]
    },
    {
      "cell_type": "code",
      "metadata": {
        "id": "9gka44dtW5Da",
        "colab": {
          "base_uri": "https://localhost:8080/"
        },
        "outputId": "3bda6326-0e18-4712-8851-ed8abf16a570"
      },
      "source": [
        "idx = pd.to_datetime(datestrs + [None]) # Agregamos un nulo\n",
        "idx"
      ],
      "execution_count": 17,
      "outputs": [
        {
          "output_type": "execute_result",
          "data": {
            "text/plain": [
              "DatetimeIndex(['2019-07-06 12:00:00', '2019-08-06 00:00:00', 'NaT'], dtype='datetime64[ns]', freq=None)"
            ]
          },
          "metadata": {},
          "execution_count": 17
        }
      ]
    },
    {
      "cell_type": "code",
      "source": [
        "# Acceder a un elemento dentro de la lista de datetimes\n",
        "idx[0].year"
      ],
      "metadata": {
        "id": "PHuvsSOajkLe",
        "colab": {
          "base_uri": "https://localhost:8080/"
        },
        "outputId": "032c9ce0-9532-47ca-ce0e-d573d1e68b44"
      },
      "execution_count": 18,
      "outputs": [
        {
          "output_type": "execute_result",
          "data": {
            "text/plain": [
              "2019"
            ]
          },
          "metadata": {},
          "execution_count": 18
        }
      ]
    },
    {
      "cell_type": "code",
      "metadata": {
        "id": "PO2gRsB-W-LZ",
        "colab": {
          "base_uri": "https://localhost:8080/"
        },
        "outputId": "f069738f-0c74-468f-90b0-e74a68bdf7dd"
      },
      "source": [
        "'''\n",
        "NaT (Not a Time) es valor que asigna Pandas a los valores nulos de tipo datetime\n",
        "'''\n",
        "pd.isnull(idx)"
      ],
      "execution_count": 19,
      "outputs": [
        {
          "output_type": "execute_result",
          "data": {
            "text/plain": [
              "array([False, False,  True])"
            ]
          },
          "metadata": {},
          "execution_count": 19
        }
      ]
    },
    {
      "cell_type": "markdown",
      "metadata": {
        "id": "NPCTOF9VXMeu"
      },
      "source": [
        "\n",
        "\n",
        "---\n",
        "\n",
        "\n",
        "## Time Series\n",
        "Un tipo básico de objeto de serie temporal en Pandas es una serie indexada por marcas de tiempo, que a menudo se representa como cadenas de Python u objetos de fecha y hora:"
      ]
    },
    {
      "cell_type": "code",
      "metadata": {
        "id": "wiq7fn3-XV3X",
        "colab": {
          "base_uri": "https://localhost:8080/"
        },
        "outputId": "3ef26bf0-025d-498d-c6f1-a45f22a320a8"
      },
      "source": [
        "from datetime import datetime\n",
        "dates = [datetime(2011, 1, 2), datetime(2011, 1, 5),\n",
        "         datetime(2011, 1, 7), datetime(2011, 1, 8),\n",
        "         datetime(2011, 1, 10), datetime(2011, 1, 12)]\n",
        "dates"
      ],
      "execution_count": 20,
      "outputs": [
        {
          "output_type": "execute_result",
          "data": {
            "text/plain": [
              "[datetime.datetime(2011, 1, 2, 0, 0),\n",
              " datetime.datetime(2011, 1, 5, 0, 0),\n",
              " datetime.datetime(2011, 1, 7, 0, 0),\n",
              " datetime.datetime(2011, 1, 8, 0, 0),\n",
              " datetime.datetime(2011, 1, 10, 0, 0),\n",
              " datetime.datetime(2011, 1, 12, 0, 0)]"
            ]
          },
          "metadata": {},
          "execution_count": 20
        }
      ]
    },
    {
      "cell_type": "code",
      "metadata": {
        "id": "PS1iXQ9fXaKF",
        "colab": {
          "base_uri": "https://localhost:8080/"
        },
        "outputId": "abeeda14-0655-4ebc-9d77-329b04cf7d85"
      },
      "source": [
        "ts = pd.Series(np.random.randn(6), index=dates)\n",
        "ts"
      ],
      "execution_count": 21,
      "outputs": [
        {
          "output_type": "execute_result",
          "data": {
            "text/plain": [
              "2011-01-02    2.076966\n",
              "2011-01-05   -0.087865\n",
              "2011-01-07   -0.006476\n",
              "2011-01-08   -1.813098\n",
              "2011-01-10   -0.578168\n",
              "2011-01-12    0.538161\n",
              "dtype: float64"
            ]
          },
          "metadata": {},
          "execution_count": 21
        }
      ]
    },
    {
      "cell_type": "code",
      "metadata": {
        "id": "cHrvgxG2YImm",
        "colab": {
          "base_uri": "https://localhost:8080/"
        },
        "outputId": "227d7ad9-f10d-47b7-a80c-af3173f8f3ea"
      },
      "source": [
        "ts + ts[::2] # :: es un slicing con step \"n\", en este caso 2\n",
        "# En este caso toma las lineas 1, 3 y 5"
      ],
      "execution_count": 22,
      "outputs": [
        {
          "output_type": "execute_result",
          "data": {
            "text/plain": [
              "2011-01-02    4.153932\n",
              "2011-01-05         NaN\n",
              "2011-01-07   -0.012952\n",
              "2011-01-08         NaN\n",
              "2011-01-10   -1.156335\n",
              "2011-01-12         NaN\n",
              "dtype: float64"
            ]
          },
          "metadata": {},
          "execution_count": 22
        }
      ]
    },
    {
      "cell_type": "markdown",
      "metadata": {
        "id": "JfKZ1NL5XvNq"
      },
      "source": [
        "### Indexing, Selection, Subsetting\n",
        "\n",
        "Las series de tiempo se comportan como cualquier otro objeto de Pandas "
      ]
    },
    {
      "cell_type": "code",
      "metadata": {
        "id": "sO0SMXmhX6bC",
        "colab": {
          "base_uri": "https://localhost:8080/"
        },
        "outputId": "59236a7b-1d1a-4e3b-eada-46e9296a77f4"
      },
      "source": [
        "stamp = ts.index[0]\n",
        "stamp"
      ],
      "execution_count": 23,
      "outputs": [
        {
          "output_type": "execute_result",
          "data": {
            "text/plain": [
              "Timestamp('2011-01-02 00:00:00')"
            ]
          },
          "metadata": {},
          "execution_count": 23
        }
      ]
    },
    {
      "cell_type": "code",
      "metadata": {
        "id": "HzDDzQqVYTrW",
        "colab": {
          "base_uri": "https://localhost:8080/"
        },
        "outputId": "588fc3cf-7597-4816-b7c4-aa87bd7f8261"
      },
      "source": [
        "ts[stamp]"
      ],
      "execution_count": 24,
      "outputs": [
        {
          "output_type": "execute_result",
          "data": {
            "text/plain": [
              "2.0769661758885407"
            ]
          },
          "metadata": {},
          "execution_count": 24
        }
      ]
    },
    {
      "cell_type": "markdown",
      "metadata": {
        "id": "Eq5bGHpaYbml"
      },
      "source": [
        "Para series de tiempo más largas, se puede pasar un año o solo un año y un mes para seleccionar fácilmente segmentos de datos"
      ]
    },
    {
      "cell_type": "code",
      "metadata": {
        "id": "mV9edEIyYeRK",
        "colab": {
          "base_uri": "https://localhost:8080/"
        },
        "outputId": "939df44b-c08c-4bdc-f233-eb295d0345ed"
      },
      "source": [
        "l_ts = pd.Series(np.random.randn(1000),\n",
        "                 index=pd.date_range('1/1/2005', periods=1000))\n",
        "l_ts"
      ],
      "execution_count": 25,
      "outputs": [
        {
          "output_type": "execute_result",
          "data": {
            "text/plain": [
              "2005-01-01   -0.125567\n",
              "2005-01-02    0.504622\n",
              "2005-01-03    0.375145\n",
              "2005-01-04    0.292277\n",
              "2005-01-05    0.640355\n",
              "                ...   \n",
              "2007-09-23   -0.651486\n",
              "2007-09-24   -0.178650\n",
              "2007-09-25    1.873790\n",
              "2007-09-26   -1.331226\n",
              "2007-09-27    0.901398\n",
              "Freq: D, Length: 1000, dtype: float64"
            ]
          },
          "metadata": {},
          "execution_count": 25
        }
      ]
    },
    {
      "cell_type": "code",
      "metadata": {
        "id": "07jthV3NYnEA",
        "colab": {
          "base_uri": "https://localhost:8080/"
        },
        "outputId": "c58d4276-cb3b-4ce9-e9a6-58610c135ec9"
      },
      "source": [
        "l_ts['2005']"
      ],
      "execution_count": 26,
      "outputs": [
        {
          "output_type": "execute_result",
          "data": {
            "text/plain": [
              "2005-01-01   -0.125567\n",
              "2005-01-02    0.504622\n",
              "2005-01-03    0.375145\n",
              "2005-01-04    0.292277\n",
              "2005-01-05    0.640355\n",
              "                ...   \n",
              "2005-12-27   -1.398303\n",
              "2005-12-28    0.304389\n",
              "2005-12-29   -1.524038\n",
              "2005-12-30   -0.333713\n",
              "2005-12-31   -0.662368\n",
              "Freq: D, Length: 365, dtype: float64"
            ]
          },
          "metadata": {},
          "execution_count": 26
        }
      ]
    },
    {
      "cell_type": "code",
      "metadata": {
        "id": "56vcNhsFYr1o",
        "colab": {
          "base_uri": "https://localhost:8080/"
        },
        "outputId": "c7af4204-142e-4c3a-e49b-26b9e2947b08"
      },
      "source": [
        "l_ts['2005-04']"
      ],
      "execution_count": 27,
      "outputs": [
        {
          "output_type": "execute_result",
          "data": {
            "text/plain": [
              "2005-04-01   -0.139833\n",
              "2005-04-02    0.998459\n",
              "2005-04-03    0.269863\n",
              "2005-04-04   -0.183357\n",
              "2005-04-05   -0.470738\n",
              "2005-04-06   -0.597021\n",
              "2005-04-07   -1.101709\n",
              "2005-04-08   -0.695239\n",
              "2005-04-09   -1.398841\n",
              "2005-04-10   -0.121121\n",
              "2005-04-11   -1.870486\n",
              "2005-04-12   -1.468455\n",
              "2005-04-13   -0.252851\n",
              "2005-04-14    0.452297\n",
              "2005-04-15    0.266670\n",
              "2005-04-16    0.444805\n",
              "2005-04-17    0.077348\n",
              "2005-04-18   -0.047454\n",
              "2005-04-19    0.879928\n",
              "2005-04-20    0.218065\n",
              "2005-04-21    0.777099\n",
              "2005-04-22   -0.432665\n",
              "2005-04-23   -1.037235\n",
              "2005-04-24    2.150152\n",
              "2005-04-25   -2.016326\n",
              "2005-04-26   -0.052167\n",
              "2005-04-27    1.304438\n",
              "2005-04-28   -0.219923\n",
              "2005-04-29    0.834296\n",
              "2005-04-30   -0.546817\n",
              "Freq: D, dtype: float64"
            ]
          },
          "metadata": {},
          "execution_count": 27
        }
      ]
    },
    {
      "cell_type": "code",
      "source": [
        "ts"
      ],
      "metadata": {
        "id": "beWPQJfPlkft",
        "colab": {
          "base_uri": "https://localhost:8080/"
        },
        "outputId": "4d635819-eb04-48d2-a658-cae84d7f144d"
      },
      "execution_count": 28,
      "outputs": [
        {
          "output_type": "execute_result",
          "data": {
            "text/plain": [
              "2011-01-02    2.076966\n",
              "2011-01-05   -0.087865\n",
              "2011-01-07   -0.006476\n",
              "2011-01-08   -1.813098\n",
              "2011-01-10   -0.578168\n",
              "2011-01-12    0.538161\n",
              "dtype: float64"
            ]
          },
          "metadata": {},
          "execution_count": 28
        }
      ]
    },
    {
      "cell_type": "code",
      "metadata": {
        "id": "E3QDfGZDY2Qn",
        "colab": {
          "base_uri": "https://localhost:8080/"
        },
        "outputId": "c507afc9-b923-4813-a896-fc09d6a9dd65"
      },
      "source": [
        "ts[datetime(2011, 1, 7):] # También podemos realizar slicing sobre series de tiempo"
      ],
      "execution_count": 29,
      "outputs": [
        {
          "output_type": "execute_result",
          "data": {
            "text/plain": [
              "2011-01-07   -0.006476\n",
              "2011-01-08   -1.813098\n",
              "2011-01-10   -0.578168\n",
              "2011-01-12    0.538161\n",
              "dtype: float64"
            ]
          },
          "metadata": {},
          "execution_count": 29
        }
      ]
    },
    {
      "cell_type": "markdown",
      "metadata": {
        "id": "fvkvSXOsZ0Tu"
      },
      "source": [
        "### Time Series con Indices duplicados\n",
        "En algunas aplicaciones, puede haber múltiples observaciones de datos que caen en una marca de tiempo particular. Aquí hay un ejemplo:"
      ]
    },
    {
      "cell_type": "code",
      "metadata": {
        "id": "JthDHOwxZ9Yd"
      },
      "source": [
        "dates = pd.DatetimeIndex(['1/1/2000', '1/2/2000', '1/2/2000',\n",
        "                          '1/2/2000', '1/3/2000'])"
      ],
      "execution_count": 30,
      "outputs": []
    },
    {
      "cell_type": "code",
      "metadata": {
        "id": "rFyZZ8NXaAoR",
        "colab": {
          "base_uri": "https://localhost:8080/"
        },
        "outputId": "58ef2603-d820-4bd2-9361-d0c0dad55fe3"
      },
      "source": [
        "dup_ts = pd.Series(np.arange(5), index=dates)\n",
        "dup_ts"
      ],
      "execution_count": 31,
      "outputs": [
        {
          "output_type": "execute_result",
          "data": {
            "text/plain": [
              "2000-01-01    0\n",
              "2000-01-02    1\n",
              "2000-01-02    2\n",
              "2000-01-02    3\n",
              "2000-01-03    4\n",
              "dtype: int64"
            ]
          },
          "metadata": {},
          "execution_count": 31
        }
      ]
    },
    {
      "cell_type": "code",
      "metadata": {
        "id": "bePcPTdjaGFC",
        "colab": {
          "base_uri": "https://localhost:8080/"
        },
        "outputId": "8bf25a36-e7c0-443d-e563-e0eb294700de"
      },
      "source": [
        "dup_ts.index.is_unique # Asi chequeamos sobre toda la serie si el indice tiene duplicados"
      ],
      "execution_count": 32,
      "outputs": [
        {
          "output_type": "execute_result",
          "data": {
            "text/plain": [
              "False"
            ]
          },
          "metadata": {},
          "execution_count": 32
        }
      ]
    },
    {
      "cell_type": "code",
      "metadata": {
        "id": "r0Zx823RaOzr",
        "colab": {
          "base_uri": "https://localhost:8080/"
        },
        "outputId": "38f0f911-e83e-487f-cd90-328b37170c53"
      },
      "source": [
        "dup_ts['1/3/2000']"
      ],
      "execution_count": 33,
      "outputs": [
        {
          "output_type": "execute_result",
          "data": {
            "text/plain": [
              "4"
            ]
          },
          "metadata": {},
          "execution_count": 33
        }
      ]
    },
    {
      "cell_type": "code",
      "metadata": {
        "id": "f2_jTn-JaRLr",
        "colab": {
          "base_uri": "https://localhost:8080/"
        },
        "outputId": "b0587d65-681a-4fae-c4b9-70ca61b5f1fb"
      },
      "source": [
        "dup_ts['1/2/2000']"
      ],
      "execution_count": 34,
      "outputs": [
        {
          "output_type": "execute_result",
          "data": {
            "text/plain": [
              "2000-01-02    1\n",
              "2000-01-02    2\n",
              "2000-01-02    3\n",
              "dtype: int64"
            ]
          },
          "metadata": {},
          "execution_count": 34
        }
      ]
    },
    {
      "cell_type": "markdown",
      "metadata": {
        "id": "N_ar6VL7aVxz"
      },
      "source": [
        "¿Qué podemos hacer con los índices duplicados? Dependerá del problema en particular, pero una solución posible es quedarse con el promedio con lo visto anteriormente de **groupby**.\n",
        "\n",
        "Supongamos que deseas agregar los datos que tienen marcas de tiempo no únicas. Una forma de hacerlo es usar groupby y pasar nivel = 0:"
      ]
    },
    {
      "cell_type": "code",
      "metadata": {
        "id": "BgkCrFp6aZLx",
        "colab": {
          "base_uri": "https://localhost:8080/"
        },
        "outputId": "1c7feb6c-be87-453d-f617-922332043e9f"
      },
      "source": [
        "grouped = dup_ts.groupby(by=dup_ts.index) # Hacemos el agrupamiento sobre el índice de la serie\n",
        "grouped.mean()"
      ],
      "execution_count": 35,
      "outputs": [
        {
          "output_type": "execute_result",
          "data": {
            "text/plain": [
              "2000-01-01    0.0\n",
              "2000-01-02    2.0\n",
              "2000-01-03    4.0\n",
              "dtype: float64"
            ]
          },
          "metadata": {},
          "execution_count": 35
        }
      ]
    },
    {
      "cell_type": "code",
      "source": [
        "# Otra forma de hacer lo mismo\n",
        "grouped = dup_ts.groupby(level = 0)\n",
        "grouped.mean()"
      ],
      "metadata": {
        "id": "HBpljaLfSvZU",
        "colab": {
          "base_uri": "https://localhost:8080/"
        },
        "outputId": "fc8f003a-78af-4e29-e336-5c5fd277df0f"
      },
      "execution_count": 36,
      "outputs": [
        {
          "output_type": "execute_result",
          "data": {
            "text/plain": [
              "2000-01-01    0.0\n",
              "2000-01-02    2.0\n",
              "2000-01-03    4.0\n",
              "dtype: float64"
            ]
          },
          "metadata": {},
          "execution_count": 36
        }
      ]
    },
    {
      "cell_type": "code",
      "metadata": {
        "id": "w9Tn-0-YadTm",
        "colab": {
          "base_uri": "https://localhost:8080/"
        },
        "outputId": "a898aa64-ccba-4fe0-a530-2205c556c8e4"
      },
      "source": [
        "grouped.count()"
      ],
      "execution_count": 37,
      "outputs": [
        {
          "output_type": "execute_result",
          "data": {
            "text/plain": [
              "2000-01-01    1\n",
              "2000-01-02    3\n",
              "2000-01-03    1\n",
              "dtype: int64"
            ]
          },
          "metadata": {},
          "execution_count": 37
        }
      ]
    },
    {
      "cell_type": "markdown",
      "metadata": {
        "id": "rraIdN98bDzp"
      },
      "source": [
        "\n",
        "\n",
        "---\n",
        "\n",
        "\n",
        "### Generando Date Ranges\n",
        "\n",
        "*pandas.date_range* es responsable de generar un DatetimeIndex con una longitud indicada de acuerdo con una frecuencia particular"
      ]
    },
    {
      "cell_type": "code",
      "metadata": {
        "id": "_78ZLoeDbPUv",
        "colab": {
          "base_uri": "https://localhost:8080/"
        },
        "outputId": "d0ce8b50-fb3f-45dd-9dc8-f0241ff7e965"
      },
      "source": [
        "index = pd.date_range('2012-04-01', '2012-06-01')\n",
        "index"
      ],
      "execution_count": 38,
      "outputs": [
        {
          "output_type": "execute_result",
          "data": {
            "text/plain": [
              "DatetimeIndex(['2012-04-01', '2012-04-02', '2012-04-03', '2012-04-04',\n",
              "               '2012-04-05', '2012-04-06', '2012-04-07', '2012-04-08',\n",
              "               '2012-04-09', '2012-04-10', '2012-04-11', '2012-04-12',\n",
              "               '2012-04-13', '2012-04-14', '2012-04-15', '2012-04-16',\n",
              "               '2012-04-17', '2012-04-18', '2012-04-19', '2012-04-20',\n",
              "               '2012-04-21', '2012-04-22', '2012-04-23', '2012-04-24',\n",
              "               '2012-04-25', '2012-04-26', '2012-04-27', '2012-04-28',\n",
              "               '2012-04-29', '2012-04-30', '2012-05-01', '2012-05-02',\n",
              "               '2012-05-03', '2012-05-04', '2012-05-05', '2012-05-06',\n",
              "               '2012-05-07', '2012-05-08', '2012-05-09', '2012-05-10',\n",
              "               '2012-05-11', '2012-05-12', '2012-05-13', '2012-05-14',\n",
              "               '2012-05-15', '2012-05-16', '2012-05-17', '2012-05-18',\n",
              "               '2012-05-19', '2012-05-20', '2012-05-21', '2012-05-22',\n",
              "               '2012-05-23', '2012-05-24', '2012-05-25', '2012-05-26',\n",
              "               '2012-05-27', '2012-05-28', '2012-05-29', '2012-05-30',\n",
              "               '2012-05-31', '2012-06-01'],\n",
              "              dtype='datetime64[ns]', freq='D')"
            ]
          },
          "metadata": {},
          "execution_count": 38
        }
      ]
    },
    {
      "cell_type": "markdown",
      "metadata": {
        "id": "B0_5bMgwbZIm"
      },
      "source": [
        "Por defecto, **date_range** genera marcas de tiempo diarias. \n",
        "\n",
        "Si solo pasas una fecha de inicio o finalización, debe pasar varios períodos para generar:"
      ]
    },
    {
      "cell_type": "code",
      "metadata": {
        "id": "0eGtD-9cba4n",
        "colab": {
          "base_uri": "https://localhost:8080/"
        },
        "outputId": "00033e44-27a0-47a5-8c5e-52c69af07ec6"
      },
      "source": [
        "pd.date_range(start='2012-04-01', periods=20)"
      ],
      "execution_count": 39,
      "outputs": [
        {
          "output_type": "execute_result",
          "data": {
            "text/plain": [
              "DatetimeIndex(['2012-04-01', '2012-04-02', '2012-04-03', '2012-04-04',\n",
              "               '2012-04-05', '2012-04-06', '2012-04-07', '2012-04-08',\n",
              "               '2012-04-09', '2012-04-10', '2012-04-11', '2012-04-12',\n",
              "               '2012-04-13', '2012-04-14', '2012-04-15', '2012-04-16',\n",
              "               '2012-04-17', '2012-04-18', '2012-04-19', '2012-04-20'],\n",
              "              dtype='datetime64[ns]', freq='D')"
            ]
          },
          "metadata": {},
          "execution_count": 39
        }
      ]
    },
    {
      "cell_type": "code",
      "metadata": {
        "id": "NL5NqzcKbk5M",
        "colab": {
          "base_uri": "https://localhost:8080/"
        },
        "outputId": "8d0adc00-c239-40dd-e3ed-bb216089e886"
      },
      "source": [
        "pd.date_range(end='2012-06-01', periods=20)"
      ],
      "execution_count": 40,
      "outputs": [
        {
          "output_type": "execute_result",
          "data": {
            "text/plain": [
              "DatetimeIndex(['2012-05-13', '2012-05-14', '2012-05-15', '2012-05-16',\n",
              "               '2012-05-17', '2012-05-18', '2012-05-19', '2012-05-20',\n",
              "               '2012-05-21', '2012-05-22', '2012-05-23', '2012-05-24',\n",
              "               '2012-05-25', '2012-05-26', '2012-05-27', '2012-05-28',\n",
              "               '2012-05-29', '2012-05-30', '2012-05-31', '2012-06-01'],\n",
              "              dtype='datetime64[ns]', freq='D')"
            ]
          },
          "metadata": {},
          "execution_count": 40
        }
      ]
    },
    {
      "cell_type": "markdown",
      "metadata": {
        "id": "X6rt6z-Wbuyp"
      },
      "source": [
        "Las fechas de inicio y finalización definen límites estrictos para el índice de fecha generado. Por ejemplo, si desea un índice de fechas que contenga el último día hábil de cada mes, debe pasar la frecuencia 'BM' y solo las fechas que caen o dentro del intervalo de fechas se incluirá:\n",
        "\n",
        "\n",
        "Alias\t| Offset type\t| Description\n",
        "------|-------------|------------\n",
        "D\t|Day\tCalendar daily\n",
        "B\t|BusinessDay\tBusiness daily\n",
        "H\t|Hour\tHourly\n",
        "T |or min\tMinute\tMinutely\n",
        "S\t|Second\tSecondly\n",
        "L |or ms\tMilli\tMillisecond (1/1,000 of 1 second)\n",
        "U\t|Micro\tMicrosecond (1/1,000,000 of 1 second)\n",
        "M\t|MonthEnd\tLast calendar day of month\n",
        "BM|BusinessMonthEnd\tLast business day (weekday) of month\n",
        "MS|MonthBegin\tFirst calendar day of month\n",
        "BMS\t|BusinessMonthBegin\tFirst weekday of month\n",
        "W-MON, W-TUE, ...| \tWeek\tWeekly on given day of week (MON, TUE, WED, THU, FRI, SAT, or SUN)\n",
        "WOM-1MON, WOM-2MON, ...|\tWeekOfMonth\tGenerate weekly dates in the first, second, third, or fourth week of the month (e.g., WOM-3FRI for the third Friday of each month)\n",
        "Q-JAN, Q-FEB, ...| \tQuarterEnd\tQuarterly dates anchored on last calendar day of each month, for year ending in indicated month (JAN, FEB, MAR, APR, MAY, JUN, JUL, AUG, SEP, OCT, NOV, or DEC)\n",
        "BQ-JAN, BQ-FEB, ...| \tBusinessQuarterEnd\tQuarterly dates anchored on last weekday day of each month, for year ending in indicated month\n",
        "QS-JAN, QS-FEB, ...\t| QuarterBegin\tQuarterly dates anchored on first calendar day of each month, for year ending in indicated month\n",
        "BQS-JAN, BQS-FEB, ...\t| BusinessQuarterBegin\tQuarterly dates anchored on first weekday day of each month, for year ending in indicated month\n",
        "A-JAN, A-FEB, ...\t| YearEnd\tAnnual dates anchored on last calendar day of given month (JAN, FEB, MAR, APR, MAY, JUN, JUL, AUG, SEP, OCT, NOV, or DEC)\n",
        "BA-JAN, BA-FEB, ... | \tBusinessYearEnd\tAnnual dates anchored on last weekday of given month\n",
        "AS-JAN, AS-FEB, ... | \tYearBegin\tAnnual dates anchored on first day of given month\n",
        "BAS-JAN, BAS-FEB, ... | \tBusinessYearBegin\tAnnual dates anchored on first weekday of given month\n",
        "\n"
      ]
    },
    {
      "cell_type": "markdown",
      "metadata": {
        "id": "jyxVSBw8ag_s"
      },
      "source": [
        "\n",
        "\n",
        "---\n",
        "\n",
        "\n",
        "## Rango de fechas, frecuencias y remuestreo (Resample) \n",
        "\n",
        "Las series temporales en Pandas, no deben necesariamente tener frecuencia fija y para muchas aplicaciones esto es suficiente. Sin embargo, a menudo es conveniente trabajar en relación con una frecuencia fija, como diaria, mensual o cada 15 minutos, incluso si eso significa introducir valores faltantes en una serie de tiempo.\n",
        "\n",
        "Afortunadamente, Pandas tiene un conjunto completo de frecuencias de serie de tiempo estándar y herramientas para volver a muestrear, inferir frecuencias y generar rangos de fechas de frecuencia fija. \n",
        "\n",
        "Por ejemplo, se puede convertir la serie de tiempo de muestra en una frecuencia diaria fija llamando a **resample** que colocará por defecto valor=0 en indice agregado."
      ]
    },
    {
      "cell_type": "code",
      "metadata": {
        "id": "E_Q52pITaxRN",
        "colab": {
          "base_uri": "https://localhost:8080/"
        },
        "outputId": "31993e8d-670a-405e-8eea-778fcc4980cd"
      },
      "source": [
        "ts"
      ],
      "execution_count": 41,
      "outputs": [
        {
          "output_type": "execute_result",
          "data": {
            "text/plain": [
              "2011-01-02    2.076966\n",
              "2011-01-05   -0.087865\n",
              "2011-01-07   -0.006476\n",
              "2011-01-08   -1.813098\n",
              "2011-01-10   -0.578168\n",
              "2011-01-12    0.538161\n",
              "dtype: float64"
            ]
          },
          "metadata": {},
          "execution_count": 41
        }
      ]
    },
    {
      "cell_type": "code",
      "metadata": {
        "id": "mdHRFC7dayjY",
        "colab": {
          "base_uri": "https://localhost:8080/"
        },
        "outputId": "0b5fdbd8-145e-4b57-ecfb-c3db6ef225c7"
      },
      "source": [
        "resampler = ts.resample('D') # El parámetro D significa Día\n",
        "# La salida es un objeto \"Resampler\" que NO se puede imprimir sin más, es similar a lo que sucede con groupby()!\n",
        "# Podemos calcularle suma sobre cada valor para ver los nuevos valores resultantes del resampler:\n",
        "resampler.sum()"
      ],
      "execution_count": 42,
      "outputs": [
        {
          "output_type": "execute_result",
          "data": {
            "text/plain": [
              "2011-01-02    2.076966\n",
              "2011-01-03    0.000000\n",
              "2011-01-04    0.000000\n",
              "2011-01-05   -0.087865\n",
              "2011-01-06    0.000000\n",
              "2011-01-07   -0.006476\n",
              "2011-01-08   -1.813098\n",
              "2011-01-09    0.000000\n",
              "2011-01-10   -0.578168\n",
              "2011-01-11    0.000000\n",
              "2011-01-12    0.538161\n",
              "Freq: D, dtype: float64"
            ]
          },
          "metadata": {},
          "execution_count": 42
        }
      ]
    },
    {
      "cell_type": "markdown",
      "metadata": {
        "id": "DW1ZiNWsh88e"
      },
      "source": [
        "La agregación de datos de frecuencia más alta a frecuencia más baja se denomina **disminución de muestreo**, mientras que la conversión de frecuencia más baja a frecuencia más alta se denomina **muestreo superior**. \n",
        "\n",
        "Veamos unos ejemplos más complejos con resample:"
      ]
    },
    {
      "cell_type": "code",
      "metadata": {
        "id": "8_6ZbHc8iEQD",
        "colab": {
          "base_uri": "https://localhost:8080/"
        },
        "outputId": "daaabc9b-9e8d-4bb3-aa63-bb721323c91d"
      },
      "source": [
        "rng = pd.date_range('2000-01-01', periods=100, freq='D')\n",
        "ts = pd.Series(np.random.randn(len(rng)), index=rng)\n",
        "ts"
      ],
      "execution_count": 43,
      "outputs": [
        {
          "output_type": "execute_result",
          "data": {
            "text/plain": [
              "2000-01-01    0.589573\n",
              "2000-01-02    1.612793\n",
              "2000-01-03   -0.047063\n",
              "2000-01-04   -1.236442\n",
              "2000-01-05   -1.161945\n",
              "                ...   \n",
              "2000-04-05    0.160210\n",
              "2000-04-06   -0.235003\n",
              "2000-04-07   -0.321735\n",
              "2000-04-08   -1.595350\n",
              "2000-04-09   -0.664736\n",
              "Freq: D, Length: 100, dtype: float64"
            ]
          },
          "metadata": {},
          "execution_count": 43
        }
      ]
    },
    {
      "cell_type": "markdown",
      "source": [
        "Tenemos una Serie con frecuencia diaria y la resampleamos a mensual, quedandonos con el promedio de los valores de cada mes."
      ],
      "metadata": {
        "id": "NvqzgtunfE0S"
      }
    },
    {
      "cell_type": "code",
      "metadata": {
        "id": "9STpfG3DiKPF",
        "colab": {
          "base_uri": "https://localhost:8080/"
        },
        "outputId": "26ad3989-9ced-42d2-c08e-c0962b523280"
      },
      "source": [
        "ts.resample('M').mean()"
      ],
      "execution_count": 44,
      "outputs": [
        {
          "output_type": "execute_result",
          "data": {
            "text/plain": [
              "2000-01-31   -0.079233\n",
              "2000-02-29   -0.169528\n",
              "2000-03-31   -0.110004\n",
              "2000-04-30   -0.639602\n",
              "Freq: M, dtype: float64"
            ]
          },
          "metadata": {},
          "execution_count": 44
        }
      ]
    },
    {
      "cell_type": "code",
      "metadata": {
        "id": "vaOULWqCiNEV",
        "colab": {
          "base_uri": "https://localhost:8080/"
        },
        "outputId": "a907fc90-f9df-4436-b119-e695623968f7"
      },
      "source": [
        "ts.resample('M', kind='period').mean() # Cambiamos la forma de visualizar"
      ],
      "execution_count": 45,
      "outputs": [
        {
          "output_type": "execute_result",
          "data": {
            "text/plain": [
              "2000-01   -0.079233\n",
              "2000-02   -0.169528\n",
              "2000-03   -0.110004\n",
              "2000-04   -0.639602\n",
              "Freq: M, dtype: float64"
            ]
          },
          "metadata": {},
          "execution_count": 45
        }
      ]
    },
    {
      "cell_type": "markdown",
      "source": [
        "Ahora generaremos un dataset con frecuencias de tiempo"
      ],
      "metadata": {
        "id": "puQlf6mffcI1"
      }
    },
    {
      "cell_type": "code",
      "metadata": {
        "id": "klIS1xnKiVZ3",
        "colab": {
          "base_uri": "https://localhost:8080/"
        },
        "outputId": "3bc6cfb5-c736-4898-8d53-565d69225569"
      },
      "source": [
        "rng = pd.date_range('2000-01-01', periods=12, freq='T')\n",
        "ts = pd.Series(np.arange(12), index=rng)\n",
        "ts"
      ],
      "execution_count": 46,
      "outputs": [
        {
          "output_type": "execute_result",
          "data": {
            "text/plain": [
              "2000-01-01 00:00:00     0\n",
              "2000-01-01 00:01:00     1\n",
              "2000-01-01 00:02:00     2\n",
              "2000-01-01 00:03:00     3\n",
              "2000-01-01 00:04:00     4\n",
              "2000-01-01 00:05:00     5\n",
              "2000-01-01 00:06:00     6\n",
              "2000-01-01 00:07:00     7\n",
              "2000-01-01 00:08:00     8\n",
              "2000-01-01 00:09:00     9\n",
              "2000-01-01 00:10:00    10\n",
              "2000-01-01 00:11:00    11\n",
              "Freq: T, dtype: int64"
            ]
          },
          "metadata": {},
          "execution_count": 46
        }
      ]
    },
    {
      "cell_type": "code",
      "metadata": {
        "id": "uM2t3LCDij2F",
        "colab": {
          "base_uri": "https://localhost:8080/"
        },
        "outputId": "78aa3d99-1569-4ba8-e372-29b30991c9f7"
      },
      "source": [
        "ts.resample('5min', closed='right').sum() "
      ],
      "execution_count": 47,
      "outputs": [
        {
          "output_type": "execute_result",
          "data": {
            "text/plain": [
              "1999-12-31 23:55:00     0\n",
              "2000-01-01 00:00:00    15\n",
              "2000-01-01 00:05:00    40\n",
              "2000-01-01 00:10:00    11\n",
              "Freq: 5T, dtype: int64"
            ]
          },
          "metadata": {},
          "execution_count": 47
        }
      ]
    },
    {
      "cell_type": "markdown",
      "metadata": {
        "id": "7Qv5E8fgcr1T"
      },
      "source": [
        "### Frecuencias y Date Offsets\n",
        "\n",
        "Las frecuencias en  Pandas se componen de una frecuencia base y un multiplicador. \n",
        "\n",
        "Las frecuencias base se refieren típicamente por un alias de cadena, como 'M' para mensual o 'H' para cada hora. Para cada frecuencia base, hay un objeto definido generalmente denominado desplazamiento de fecha. "
      ]
    },
    {
      "cell_type": "code",
      "metadata": {
        "id": "ryfRM5IGc2LP",
        "colab": {
          "base_uri": "https://localhost:8080/"
        },
        "outputId": "20530e19-9133-495d-bcfd-8ff5accd3b8c"
      },
      "source": [
        "from pandas.tseries.offsets import Hour, Minute\n",
        "hour = Hour()\n",
        "hour"
      ],
      "execution_count": 48,
      "outputs": [
        {
          "output_type": "execute_result",
          "data": {
            "text/plain": [
              "<Hour>"
            ]
          },
          "metadata": {},
          "execution_count": 48
        }
      ]
    },
    {
      "cell_type": "code",
      "metadata": {
        "id": "ZK_jGbY6c7A1",
        "colab": {
          "base_uri": "https://localhost:8080/"
        },
        "outputId": "91baf30a-58e4-494e-930d-8facafda76df"
      },
      "source": [
        "four_hours = Hour(4)\n",
        "four_hours"
      ],
      "execution_count": 49,
      "outputs": [
        {
          "output_type": "execute_result",
          "data": {
            "text/plain": [
              "<4 * Hours>"
            ]
          },
          "metadata": {},
          "execution_count": 49
        }
      ]
    },
    {
      "cell_type": "code",
      "metadata": {
        "id": "NsGSPf_CdLlx",
        "colab": {
          "base_uri": "https://localhost:8080/"
        },
        "outputId": "5acb945f-be6a-4c9d-ccf5-198ef577ff87"
      },
      "source": [
        "Hour(2) + Minute(30)"
      ],
      "execution_count": 50,
      "outputs": [
        {
          "output_type": "execute_result",
          "data": {
            "text/plain": [
              "<150 * Minutes>"
            ]
          },
          "metadata": {},
          "execution_count": 50
        }
      ]
    },
    {
      "cell_type": "code",
      "metadata": {
        "id": "9QAxPB_7eQSD"
      },
      "source": [
        "from pandas.tseries.offsets import Day, MonthEnd\n",
        "now = datetime(2022, 5, 23)"
      ],
      "execution_count": 51,
      "outputs": []
    },
    {
      "cell_type": "code",
      "metadata": {
        "id": "Fpr_AYnbeSW8",
        "colab": {
          "base_uri": "https://localhost:8080/"
        },
        "outputId": "cb54787d-17c7-4d82-fe6a-4d7bd271a167"
      },
      "source": [
        "now + 3 * Day()"
      ],
      "execution_count": 52,
      "outputs": [
        {
          "output_type": "execute_result",
          "data": {
            "text/plain": [
              "Timestamp('2022-05-26 00:00:00')"
            ]
          },
          "metadata": {},
          "execution_count": 52
        }
      ]
    },
    {
      "cell_type": "markdown",
      "metadata": {
        "id": "r6gChurMdCIW"
      },
      "source": [
        "En la mayoría de las aplicaciones, nunca necesitarías crear explícitamente uno de estos objetos, en su lugar, utilizas un alias de cadena como 'H' o '4H' buscandolo en la tabla de arriba."
      ]
    },
    {
      "cell_type": "code",
      "metadata": {
        "id": "zCar5cEjdIM6",
        "colab": {
          "base_uri": "https://localhost:8080/"
        },
        "outputId": "6746d7ac-aaf6-4762-feb1-27aa6eff20cc"
      },
      "source": [
        "pd.date_range('2000-01-01', '2000-01-03 23:59', freq='4h')"
      ],
      "execution_count": 53,
      "outputs": [
        {
          "output_type": "execute_result",
          "data": {
            "text/plain": [
              "DatetimeIndex(['2000-01-01 00:00:00', '2000-01-01 04:00:00',\n",
              "               '2000-01-01 08:00:00', '2000-01-01 12:00:00',\n",
              "               '2000-01-01 16:00:00', '2000-01-01 20:00:00',\n",
              "               '2000-01-02 00:00:00', '2000-01-02 04:00:00',\n",
              "               '2000-01-02 08:00:00', '2000-01-02 12:00:00',\n",
              "               '2000-01-02 16:00:00', '2000-01-02 20:00:00',\n",
              "               '2000-01-03 00:00:00', '2000-01-03 04:00:00',\n",
              "               '2000-01-03 08:00:00', '2000-01-03 12:00:00',\n",
              "               '2000-01-03 16:00:00', '2000-01-03 20:00:00'],\n",
              "              dtype='datetime64[ns]', freq='4H')"
            ]
          },
          "metadata": {},
          "execution_count": 53
        }
      ]
    },
    {
      "cell_type": "markdown",
      "metadata": {
        "id": "xKdc_69VdO6w"
      },
      "source": [
        "### Semana del mes\n",
        "\n",
        "Una clase de frecuencia útil es \"semana del mes\", comenzando con WOM. Esto le permite obtener fechas como el cuarto lunes de cada mes:"
      ]
    },
    {
      "cell_type": "code",
      "metadata": {
        "id": "fq4z9fnAdc9i",
        "colab": {
          "base_uri": "https://localhost:8080/"
        },
        "outputId": "458ce842-7e49-4a98-db60-d21935c02938"
      },
      "source": [
        "rng = pd.date_range('2022-05-01', '2022-08-01', freq='WOM-4MON')\n",
        "list(rng)"
      ],
      "execution_count": 54,
      "outputs": [
        {
          "output_type": "execute_result",
          "data": {
            "text/plain": [
              "[Timestamp('2022-05-23 00:00:00', freq='WOM-4MON'),\n",
              " Timestamp('2022-06-27 00:00:00', freq='WOM-4MON'),\n",
              " Timestamp('2022-07-25 00:00:00', freq='WOM-4MON')]"
            ]
          },
          "metadata": {},
          "execution_count": 54
        }
      ]
    },
    {
      "cell_type": "markdown",
      "metadata": {
        "id": "97gnXsMyd0c0"
      },
      "source": [
        "### Desplazamiento de datos \n",
        "\"Desplazamiento\" se refiere a mover datos hacia atrás y hacia adelante a través del tiempo. \n",
        "\n",
        "Tanto Series como DataFrame tienen un método para realizar este tipo de cambios, sin modificar el índice:"
      ]
    },
    {
      "cell_type": "code",
      "metadata": {
        "id": "aFchMyOGd49G",
        "colab": {
          "base_uri": "https://localhost:8080/"
        },
        "outputId": "032ff858-6e50-4365-d202-ba471188782e"
      },
      "source": [
        "ts = pd.Series(np.random.randn(4),\n",
        "               index=pd.date_range('1/1/2000', periods=4, freq='M'))\n",
        "ts"
      ],
      "execution_count": 55,
      "outputs": [
        {
          "output_type": "execute_result",
          "data": {
            "text/plain": [
              "2000-01-31    1.908053\n",
              "2000-02-29    0.224063\n",
              "2000-03-31   -0.930562\n",
              "2000-04-30   -0.404521\n",
              "Freq: M, dtype: float64"
            ]
          },
          "metadata": {},
          "execution_count": 55
        }
      ]
    },
    {
      "cell_type": "code",
      "metadata": {
        "id": "WSWWNV2Ud9Qw",
        "colab": {
          "base_uri": "https://localhost:8080/"
        },
        "outputId": "58abb183-4fad-430f-dff1-06c94cd23d12"
      },
      "source": [
        "ts.shift(2)"
      ],
      "execution_count": 56,
      "outputs": [
        {
          "output_type": "execute_result",
          "data": {
            "text/plain": [
              "2000-01-31         NaN\n",
              "2000-02-29         NaN\n",
              "2000-03-31    1.908053\n",
              "2000-04-30    0.224063\n",
              "Freq: M, dtype: float64"
            ]
          },
          "metadata": {},
          "execution_count": 56
        }
      ]
    },
    {
      "cell_type": "code",
      "metadata": {
        "id": "RyvzVq4KeC9V",
        "colab": {
          "base_uri": "https://localhost:8080/"
        },
        "outputId": "578f9b27-63de-41ff-fdb7-7d209bcabbc9"
      },
      "source": [
        "ts.shift(-2)"
      ],
      "execution_count": 57,
      "outputs": [
        {
          "output_type": "execute_result",
          "data": {
            "text/plain": [
              "2000-01-31   -0.930562\n",
              "2000-02-29   -0.404521\n",
              "2000-03-31         NaN\n",
              "2000-04-30         NaN\n",
              "Freq: M, dtype: float64"
            ]
          },
          "metadata": {},
          "execution_count": 57
        }
      ]
    },
    {
      "cell_type": "markdown",
      "metadata": {
        "id": "xMy-xfR7ecVr"
      },
      "source": [
        "\n",
        "\n",
        "---\n",
        "\n",
        "\n",
        "## Manejo de zona horaria\n",
        "Trabajar con zonas horarias generalmente se considera una de las partes más desagradables de la manipulación de series temporales. \n",
        "\n",
        "Como resultado, muchos usuarios de series de tiempo eligen trabajar con series de tiempo en hora universal coordinada o UTC. Las zonas horarias se expresan como compensaciones de UTC; Por ejemplo, Nueva York está cuatro horas menos que UTC durante el horario de verano y cinco horas menos durante el resto del año.\n",
        "\n",
        "En Python, la información de zona horaria proviene de la biblioteca **pytz**, que expone la base de datos Olson, una compilación de información de zona horaria mundial. Esto es especialmente importante para los datos históricos porque las fechas de transición del horario de verano (DST) (e incluso las compensaciones UTC) se han cambiado varias veces según los gobiernos locales. \n",
        "\n",
        "Observación: El estándar UTC es un estándar de 1970 que reemplazó al estandar previo \"GMT\", pero ambos dan la misma hora.\n"
      ]
    },
    {
      "cell_type": "code",
      "metadata": {
        "id": "uCtdIoIyexdW"
      },
      "source": [
        "import pytz\n",
        "#pytz.common_timezones[-5:]\n",
        "#Si queremos ver todas las tz disponibles:\n",
        "for tz in pytz.all_timezones:\n",
        "  print(tz)"
      ],
      "execution_count": null,
      "outputs": []
    },
    {
      "cell_type": "code",
      "metadata": {
        "id": "JVMUkrqee20f",
        "colab": {
          "base_uri": "https://localhost:8080/"
        },
        "outputId": "2c30aecd-4c41-4848-991d-067635414182"
      },
      "source": [
        "tz = pytz.timezone('America/Argentina/Buenos_Aires')"
      ],
      "execution_count": 59,
      "outputs": [
        {
          "output_type": "execute_result",
          "data": {
            "text/plain": [
              "<DstTzInfo 'America/Argentina/Buenos_Aires' LMT-1 day, 20:06:00 STD>"
            ]
          },
          "metadata": {},
          "execution_count": 59
        }
      ]
    },
    {
      "cell_type": "code",
      "metadata": {
        "id": "3dZTFS8BfD3a",
        "colab": {
          "base_uri": "https://localhost:8080/"
        },
        "outputId": "5c7f053a-9b30-453d-be3a-cc2fc0623ad1"
      },
      "source": [
        "rng = pd.date_range('3/9/2021 9:30', periods=6, freq='D') \n",
        "ts = pd.Series(np.random.randn(len(rng)), index=rng)\n",
        "ts"
      ],
      "execution_count": 61,
      "outputs": [
        {
          "output_type": "execute_result",
          "data": {
            "text/plain": [
              "2021-03-09 09:30:00    0.531945\n",
              "2021-03-10 09:30:00   -0.775029\n",
              "2021-03-11 09:30:00   -0.071211\n",
              "2021-03-12 09:30:00   -1.050570\n",
              "2021-03-13 09:30:00   -1.449809\n",
              "2021-03-14 09:30:00   -0.681159\n",
              "Freq: D, dtype: float64"
            ]
          },
          "metadata": {},
          "execution_count": 61
        }
      ]
    },
    {
      "cell_type": "code",
      "metadata": {
        "id": "yB0-tmrPfOno",
        "colab": {
          "base_uri": "https://localhost:8080/"
        },
        "outputId": "a5e003a7-2b99-4ff6-8a27-2c6621fd3f47"
      },
      "source": [
        "print(ts.index) # Si miramos el indice, vemos que por defecto lo crea sin TZ"
      ],
      "execution_count": 62,
      "outputs": [
        {
          "output_type": "stream",
          "name": "stdout",
          "text": [
            "DatetimeIndex(['2021-03-09 09:30:00', '2021-03-10 09:30:00',\n",
            "               '2021-03-11 09:30:00', '2021-03-12 09:30:00',\n",
            "               '2021-03-13 09:30:00', '2021-03-14 09:30:00'],\n",
            "              dtype='datetime64[ns]', freq='D')\n"
          ]
        }
      ]
    },
    {
      "cell_type": "code",
      "metadata": {
        "id": "YdcZYF46fTie",
        "colab": {
          "base_uri": "https://localhost:8080/"
        },
        "outputId": "13c97d1c-be58-4baa-da1b-36ce3a985937"
      },
      "source": [
        "pd.date_range('3/9/2021 9:30', periods=10, freq='D', tz='UTC') # Podemos agregar TZ como parametro"
      ],
      "execution_count": 63,
      "outputs": [
        {
          "output_type": "execute_result",
          "data": {
            "text/plain": [
              "DatetimeIndex(['2021-03-09 09:30:00+00:00', '2021-03-10 09:30:00+00:00',\n",
              "               '2021-03-11 09:30:00+00:00', '2021-03-12 09:30:00+00:00',\n",
              "               '2021-03-13 09:30:00+00:00', '2021-03-14 09:30:00+00:00',\n",
              "               '2021-03-15 09:30:00+00:00', '2021-03-16 09:30:00+00:00',\n",
              "               '2021-03-17 09:30:00+00:00', '2021-03-18 09:30:00+00:00'],\n",
              "              dtype='datetime64[ns, UTC]', freq='D')"
            ]
          },
          "metadata": {},
          "execution_count": 63
        }
      ]
    },
    {
      "cell_type": "code",
      "metadata": {
        "id": "r8U8c__IfbOu",
        "colab": {
          "base_uri": "https://localhost:8080/"
        },
        "outputId": "6da90e72-0d58-479f-a42b-2dc222eb7112"
      },
      "source": [
        "ts_utc = ts.tz_localize('UTC')\n",
        "ts_utc # Ahora vemos que se agregó +00:00 (es decir el offset de UTC)"
      ],
      "execution_count": 64,
      "outputs": [
        {
          "output_type": "execute_result",
          "data": {
            "text/plain": [
              "2021-03-09 09:30:00+00:00    0.531945\n",
              "2021-03-10 09:30:00+00:00   -0.775029\n",
              "2021-03-11 09:30:00+00:00   -0.071211\n",
              "2021-03-12 09:30:00+00:00   -1.050570\n",
              "2021-03-13 09:30:00+00:00   -1.449809\n",
              "2021-03-14 09:30:00+00:00   -0.681159\n",
              "Freq: D, dtype: float64"
            ]
          },
          "metadata": {},
          "execution_count": 64
        }
      ]
    },
    {
      "cell_type": "markdown",
      "metadata": {
        "id": "rY7Lcxg2fn0_"
      },
      "source": [
        "Una vez que una serie de tiempo se ha localizado en una zona horaria particular, se puede convertir a otra zona horaria con *tz_convert*"
      ]
    },
    {
      "cell_type": "code",
      "metadata": {
        "id": "gF-5DqbjfqPe",
        "colab": {
          "base_uri": "https://localhost:8080/"
        },
        "outputId": "2d9d981b-677b-4dff-fa8e-ff68e057ccd5"
      },
      "source": [
        "ts_utc.tz_convert('America/Argentina/Buenos_Aires') # Ahora se modificó el índice por UTC - 3 (Hora de Buenos Aires)"
      ],
      "execution_count": 65,
      "outputs": [
        {
          "output_type": "execute_result",
          "data": {
            "text/plain": [
              "2021-03-09 06:30:00-03:00    0.531945\n",
              "2021-03-10 06:30:00-03:00   -0.775029\n",
              "2021-03-11 06:30:00-03:00   -0.071211\n",
              "2021-03-12 06:30:00-03:00   -1.050570\n",
              "2021-03-13 06:30:00-03:00   -1.449809\n",
              "2021-03-14 06:30:00-03:00   -0.681159\n",
              "Freq: D, dtype: float64"
            ]
          },
          "metadata": {},
          "execution_count": 65
        }
      ]
    },
    {
      "cell_type": "markdown",
      "metadata": {
        "id": "xwoRltCHf3Lc"
      },
      "source": [
        "### Operaciones entre diferentes zonas horarias\n",
        "Si se combinan dos series de tiempo con diferentes zonas horarias, el resultado será normalizado en UTC. \n",
        "\n",
        "Esto es transparente para el usuario y no requiere hacer conversiones."
      ]
    },
    {
      "cell_type": "code",
      "metadata": {
        "id": "fzGsn35Vf74m",
        "colab": {
          "base_uri": "https://localhost:8080/"
        },
        "outputId": "6ecdde30-8526-4997-c8a8-090801cd2065"
      },
      "source": [
        "rng = pd.date_range('3/7/2012 9:30', periods=10, freq='B') #B es Business Daily\n",
        "ts = pd.Series(np.random.randn(len(rng)), index=rng)\n",
        "ts"
      ],
      "execution_count": 66,
      "outputs": [
        {
          "output_type": "execute_result",
          "data": {
            "text/plain": [
              "2012-03-07 09:30:00   -1.093471\n",
              "2012-03-08 09:30:00    0.156390\n",
              "2012-03-09 09:30:00    0.565077\n",
              "2012-03-12 09:30:00    1.302212\n",
              "2012-03-13 09:30:00   -0.224500\n",
              "2012-03-14 09:30:00    0.395180\n",
              "2012-03-15 09:30:00    0.716483\n",
              "2012-03-16 09:30:00    0.340443\n",
              "2012-03-19 09:30:00    0.137996\n",
              "2012-03-20 09:30:00   -3.612079\n",
              "Freq: B, dtype: float64"
            ]
          },
          "metadata": {},
          "execution_count": 66
        }
      ]
    },
    {
      "cell_type": "markdown",
      "source": [
        "A la serie no le asignamos UTC ni ningún otro Timezone, vamos a darle alguno:"
      ],
      "metadata": {
        "id": "SadCD_Q0Yd2v"
      }
    },
    {
      "cell_type": "code",
      "metadata": {
        "id": "tvCrsz3tgLKG"
      },
      "source": [
        "ts1 = ts.tz_localize('Europe/London') # A un conjunto de datos los situaremos en London\n",
        "ts2 = ts1[2:].tz_convert('Europe/Moscow') # Y ahora a otro conjunto lo cambiaremos a Moscow"
      ],
      "execution_count": 67,
      "outputs": []
    },
    {
      "cell_type": "code",
      "metadata": {
        "id": "osxq8LbhgZYS",
        "colab": {
          "base_uri": "https://localhost:8080/"
        },
        "outputId": "10952386-d7b1-4e77-f254-5100116567fb"
      },
      "source": [
        "ts1.index "
      ],
      "execution_count": 68,
      "outputs": [
        {
          "output_type": "execute_result",
          "data": {
            "text/plain": [
              "DatetimeIndex(['2012-03-07 09:30:00+00:00', '2012-03-08 09:30:00+00:00',\n",
              "               '2012-03-09 09:30:00+00:00', '2012-03-12 09:30:00+00:00',\n",
              "               '2012-03-13 09:30:00+00:00', '2012-03-14 09:30:00+00:00',\n",
              "               '2012-03-15 09:30:00+00:00', '2012-03-16 09:30:00+00:00',\n",
              "               '2012-03-19 09:30:00+00:00', '2012-03-20 09:30:00+00:00'],\n",
              "              dtype='datetime64[ns, Europe/London]', freq=None)"
            ]
          },
          "metadata": {},
          "execution_count": 68
        }
      ]
    },
    {
      "cell_type": "code",
      "metadata": {
        "id": "DXnx-0TtgaqF",
        "colab": {
          "base_uri": "https://localhost:8080/"
        },
        "outputId": "e32c8c0b-6bc3-4ae5-bbcc-fbcb87819c04"
      },
      "source": [
        "ts2.index"
      ],
      "execution_count": 69,
      "outputs": [
        {
          "output_type": "execute_result",
          "data": {
            "text/plain": [
              "DatetimeIndex(['2012-03-09 13:30:00+04:00', '2012-03-12 13:30:00+04:00',\n",
              "               '2012-03-13 13:30:00+04:00', '2012-03-14 13:30:00+04:00',\n",
              "               '2012-03-15 13:30:00+04:00', '2012-03-16 13:30:00+04:00',\n",
              "               '2012-03-19 13:30:00+04:00', '2012-03-20 13:30:00+04:00'],\n",
              "              dtype='datetime64[ns, Europe/Moscow]', freq=None)"
            ]
          },
          "metadata": {},
          "execution_count": 69
        }
      ]
    },
    {
      "cell_type": "code",
      "metadata": {
        "id": "DsKQ0UR8gPUO",
        "colab": {
          "base_uri": "https://localhost:8080/"
        },
        "outputId": "0c974525-46b3-493b-8df7-74b4f2c1cc40"
      },
      "source": [
        "result = ts1 + ts2 #Ahora sumamos los valores de ambas series \n",
        "# ¿En qué timezone estará la serie resultante?\n",
        "result.index"
      ],
      "execution_count": 72,
      "outputs": [
        {
          "output_type": "execute_result",
          "data": {
            "text/plain": [
              "DatetimeIndex(['2012-03-07 09:30:00+00:00', '2012-03-08 09:30:00+00:00',\n",
              "               '2012-03-09 09:30:00+00:00', '2012-03-12 09:30:00+00:00',\n",
              "               '2012-03-13 09:30:00+00:00', '2012-03-14 09:30:00+00:00',\n",
              "               '2012-03-15 09:30:00+00:00', '2012-03-16 09:30:00+00:00',\n",
              "               '2012-03-19 09:30:00+00:00', '2012-03-20 09:30:00+00:00'],\n",
              "              dtype='datetime64[ns, UTC]', freq=None)"
            ]
          },
          "metadata": {},
          "execution_count": 72
        }
      ]
    },
    {
      "cell_type": "code",
      "source": [
        "# El resultado es:\n",
        "result"
      ],
      "metadata": {
        "colab": {
          "base_uri": "https://localhost:8080/"
        },
        "id": "eiD28G0iYQTo",
        "outputId": "1bc74ef3-edf4-4722-9bf6-ff0e90a38424"
      },
      "execution_count": 73,
      "outputs": [
        {
          "output_type": "execute_result",
          "data": {
            "text/plain": [
              "2012-03-07 09:30:00+00:00         NaN\n",
              "2012-03-08 09:30:00+00:00         NaN\n",
              "2012-03-09 09:30:00+00:00    1.130154\n",
              "2012-03-12 09:30:00+00:00    2.604423\n",
              "2012-03-13 09:30:00+00:00   -0.449000\n",
              "2012-03-14 09:30:00+00:00    0.790360\n",
              "2012-03-15 09:30:00+00:00    1.432965\n",
              "2012-03-16 09:30:00+00:00    0.680886\n",
              "2012-03-19 09:30:00+00:00    0.275992\n",
              "2012-03-20 09:30:00+00:00   -7.224158\n",
              "dtype: float64"
            ]
          },
          "metadata": {},
          "execution_count": 73
        }
      ]
    },
    {
      "cell_type": "markdown",
      "metadata": {
        "id": "jKD07GILgm0P"
      },
      "source": [
        "## Periodos y aritmética de periodos\n",
        "\n",
        "Los períodos representan períodos de tiempo, como días, meses, trimestres o años. La clase Period representa este tipo de datos, que requiere una cadena o un entero y una frecuencia.\n",
        "\n",
        "En este caso, el objeto Período representa el intervalo de tiempo completo desde el 1 de enero de 2007 hasta el 31 de diciembre de 2007, inclusive.\n",
        "Convenientemente, sumar y restar enteros de períodos tiene el efecto de cambiar según su frecuencia definida."
      ]
    },
    {
      "cell_type": "code",
      "metadata": {
        "id": "us8hItfKgpEN",
        "colab": {
          "base_uri": "https://localhost:8080/"
        },
        "outputId": "b314b112-6144-4774-e4d4-32e1791b8aae"
      },
      "source": [
        "p = pd.Period(2007, freq='A-DEC')\n",
        "p"
      ],
      "execution_count": 74,
      "outputs": [
        {
          "output_type": "execute_result",
          "data": {
            "text/plain": [
              "Period('2007', 'A-DEC')"
            ]
          },
          "metadata": {},
          "execution_count": 74
        }
      ]
    },
    {
      "cell_type": "code",
      "metadata": {
        "id": "xTrMEqRIg5ma",
        "colab": {
          "base_uri": "https://localhost:8080/"
        },
        "outputId": "22bc2374-06f1-40ca-927f-eea56d93872c"
      },
      "source": [
        "p + 5"
      ],
      "execution_count": 75,
      "outputs": [
        {
          "output_type": "execute_result",
          "data": {
            "text/plain": [
              "Period('2012', 'A-DEC')"
            ]
          },
          "metadata": {},
          "execution_count": 75
        }
      ]
    },
    {
      "cell_type": "markdown",
      "metadata": {
        "id": "I91FVNTOhG3G"
      },
      "source": [
        "Puedes pensar en el Período ('2007', 'A-DEC') como una especie de cursor que apunta a un lapso de tiempo, subdividido por períodos mensuales. Para un año fiscal que termina en un mes que no sea diciembre, los subperíodos mensuales correspondientes son diferentes:"
      ]
    },
    {
      "cell_type": "code",
      "metadata": {
        "id": "-xAY4xcohL_q",
        "colab": {
          "base_uri": "https://localhost:8080/"
        },
        "outputId": "f294c055-1a23-4869-bd91-32483d6be17c"
      },
      "source": [
        "p = pd.Period('2007', freq='A-JUN')\n",
        "p"
      ],
      "execution_count": 76,
      "outputs": [
        {
          "output_type": "execute_result",
          "data": {
            "text/plain": [
              "Period('2007', 'A-JUN')"
            ]
          },
          "metadata": {},
          "execution_count": 76
        }
      ]
    },
    {
      "cell_type": "code",
      "metadata": {
        "id": "aOSnFkrGhPyw",
        "colab": {
          "base_uri": "https://localhost:8080/"
        },
        "outputId": "3c94d2e1-60d8-43f1-cf8f-be6865c0ce81"
      },
      "source": [
        "p.asfreq('M', 'start')"
      ],
      "execution_count": 77,
      "outputs": [
        {
          "output_type": "execute_result",
          "data": {
            "text/plain": [
              "Period('2006-07', 'M')"
            ]
          },
          "metadata": {},
          "execution_count": 77
        }
      ]
    },
    {
      "cell_type": "code",
      "metadata": {
        "id": "smi_wADXhUAE",
        "colab": {
          "base_uri": "https://localhost:8080/"
        },
        "outputId": "2809910a-211f-4967-c51c-612d3bb5d4ce"
      },
      "source": [
        "p.asfreq('M', 'end')"
      ],
      "execution_count": 78,
      "outputs": [
        {
          "output_type": "execute_result",
          "data": {
            "text/plain": [
              "Period('2007-06', 'M')"
            ]
          },
          "metadata": {},
          "execution_count": 78
        }
      ]
    },
    {
      "cell_type": "markdown",
      "metadata": {
        "id": "x8HmzQszhalx"
      },
      "source": [
        "### Frecuencias trimestrales\n",
        "Los datos trimestrales son estándar en contabilidad, finanzas y otros campos. Se informan muchos datos trimestrales en relación con el final del año fiscal, generalmente el último calendario o día hábil de uno de los 12 meses del año. \n",
        "\n",
        "\n",
        "Por lo tanto, el período 2021T4 tiene un significado diferente dependiendo del final del año fiscal. \n",
        "\n",
        "Pandas admite las 12 frecuencias trimestrales posibles como por ejemplo Q-JAN, donde Q-JAN significa \"Quarter end en enero\":"
      ]
    },
    {
      "cell_type": "code",
      "metadata": {
        "id": "NpRw11Behfnc",
        "colab": {
          "base_uri": "https://localhost:8080/"
        },
        "outputId": "077b39cf-3650-4f6c-ed5c-ae4936f66b67"
      },
      "source": [
        "p = pd.Period('2021T4', freq='Q-JAN')\n",
        "p\n",
        "# El 4° TRIMESTRE, finaliza en enero del año siguiente.\n",
        "# 1° T: 02/2021 hasta 04/2021\n",
        "# 2° T: 04/2021 hasta 07/2021\n",
        "# 3° T: 07/2021 hasta 10/2021\n",
        "# 4° T: 10/2021 hasta 01/2022 "
      ],
      "execution_count": 79,
      "outputs": [
        {
          "output_type": "execute_result",
          "data": {
            "text/plain": [
              "Period('2022Q1', 'Q-JAN')"
            ]
          },
          "metadata": {},
          "execution_count": 79
        }
      ]
    },
    {
      "cell_type": "code",
      "metadata": {
        "id": "HKxKpVoShjGL",
        "colab": {
          "base_uri": "https://localhost:8080/"
        },
        "outputId": "16aea3f7-f67c-48c0-8c02-bb8fc267163c"
      },
      "source": [
        "p.asfreq('M', 'start')"
      ],
      "execution_count": 80,
      "outputs": [
        {
          "output_type": "execute_result",
          "data": {
            "text/plain": [
              "Period('2021-02', 'M')"
            ]
          },
          "metadata": {},
          "execution_count": 80
        }
      ]
    },
    {
      "cell_type": "code",
      "metadata": {
        "id": "rD0wW9ldhk1o",
        "colab": {
          "base_uri": "https://localhost:8080/"
        },
        "outputId": "2a9a93b3-2753-4c1c-e1f0-c6bcae3ef216"
      },
      "source": [
        "p.asfreq('M', 'end')"
      ],
      "execution_count": 81,
      "outputs": [
        {
          "output_type": "execute_result",
          "data": {
            "text/plain": [
              "Period('2021-04', 'M')"
            ]
          },
          "metadata": {},
          "execution_count": 81
        }
      ]
    }
  ]
}