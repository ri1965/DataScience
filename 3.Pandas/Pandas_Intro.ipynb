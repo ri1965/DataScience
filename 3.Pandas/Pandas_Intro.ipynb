{
  "nbformat": 4,
  "nbformat_minor": 0,
  "metadata": {
    "colab": {
      "name": "1. Pandas_Intro.ipynb",
      "provenance": [],
      "collapsed_sections": []
    },
    "kernelspec": {
      "name": "python3",
      "display_name": "Python 3"
    }
  },
  "cells": [
    {
      "cell_type": "markdown",
      "metadata": {
        "id": "view-in-github"
      },
      "source": [
        "<a href=\"https://colab.research.google.com/github/al34n1x/DataScience/blob/master/3.Pandas/Pandas_Intro.ipynb\" target=\"_parent\"><img src=\"https://colab.research.google.com/assets/colab-badge.svg\" alt=\"Open In Colab\"/></a>"
      ]
    },
    {
      "cell_type": "markdown",
      "metadata": {
        "id": "fIoAUiid427K",
        "colab_type": "toc"
      },
      "source": [
        ">[Pandas](#scrollTo=75YpFVg5xBXX)\n",
        "\n",
        ">>[Series](#scrollTo=Ew9sUZAZzHP4)\n",
        "\n",
        ">>[DataFrame](#scrollTo=YEQGk9px4hmx)\n",
        "\n",
        ">>[Index Objects](#scrollTo=Ra_OstUXzEiX)\n",
        "\n",
        ">>[Funciones Esenciales](#scrollTo=tR9M_vw90NXX)\n",
        "\n",
        ">>>[Reindexing](#scrollTo=UFQSAmC10i67)\n",
        "\n",
        ">>>[Eliminar entradas de un eje](#scrollTo=N7PAv1RF3pID)\n",
        "\n",
        ">>>[Indización, selección y filtrado](#scrollTo=K0kS9vX9NX-6)\n",
        "\n",
        ">>>[Selección con Loc e ILoc](#scrollTo=rgeVibG1PEZ2)\n",
        "\n",
        ">>>[Índices enteros](#scrollTo=S1-aECmuQC6u)\n",
        "\n",
        ">>>[Aritmética y alineación de datos](#scrollTo=6F9oujCWRQ6M)\n",
        "\n",
        ">>[Métodos Aritméticos con Valores de llenado](#scrollTo=dMEm_UPhS9UI)\n",
        "\n",
        ">>>[Aplicación de funciones y mapeo](#scrollTo=Vp2uNDZcT93w)\n",
        "\n",
        ">>>[Ordenamiento y clasificación](#scrollTo=zG1wRBBbVCdN)\n",
        "\n",
        ">>[Resumiendo y calculando estadísticas descriptivas](#scrollTo=epZ41KN4aGBv)\n",
        "\n",
        ">>[Carga de datos, almacenamiento y formatos de archivo](#scrollTo=VnS0BgULfeCf)\n",
        "\n",
        ">>[Ejemplo utilizando pandas_datareader](#scrollTo=K73jnvDWe5Qo)\n",
        "\n"
      ]
    },
    {
      "cell_type": "markdown",
      "metadata": {
        "id": "75YpFVg5xBXX"
      },
      "source": [
        "#Pandas\n",
        "\n",
        "\n",
        "Pandas será una herramienta importante durante gran parte del resto de la cursada. Contiene estructuras y herramientas de manipulación de datos diseñadas para hacer que la limpieza y el análisis de datos sean rápidos y fáciles en Python. \n",
        "\n",
        "Pandas a menudo se usa en conjunto con herramientas de cómputo numérico como **NumPy** y **SciPy**, bibliotecas analíticas como **statsmodels** y **scikit-learn**, y bibliotecas de visualización de datos como **matplotlib**. Pandas adopta partes significativas de nomenclaturas utilizadas con NumPy, especialmente funciones basadas en arreglos y la facilidad de procesamiento de datos sin bucles.\n",
        "\n",
        "Mientras que Pandas adopta muchos modismos de codificación de NumPy, la mayor diferencia es que Pandas está diseñado para trabajar con datos tabulares o heterogéneos. NumPy, por el contrario, es más adecuado para trabajar con datos de matriz numérica homogénea.\n",
        "\n",
        "![](https://i.pinimg.com/originals/4e/64/5f/4e645ff4125038aa70f156918323ecb1.jpg)\n",
        "\n"
      ]
    },
    {
      "cell_type": "markdown",
      "metadata": {
        "id": "DKaseIgiyhhS"
      },
      "source": [
        "Para comenzar con Pandas, deberás sentirte cómodo con sus dos estructuras de datos más importantes: **Series** y **DataFrame**. Si bien no son una solución universal para cada problema, proporcionan una base sólida y fácil de usar para la mayoría de las aplicaciones que iremos trabajando.\n"
      ]
    },
    {
      "cell_type": "markdown",
      "metadata": {
        "id": "Ew9sUZAZzHP4"
      },
      "source": [
        "## Series\n",
        "\n",
        "Una serie es un objeto matriz unidimensional que puede almacenar cualquier tipo de datos *(int,strings,numbers,etc)* y una matriz asociada de etiquetas de datos, denominada **índice**. La serie más simple está formada solo por una matriz de datos:\n",
        "\n"
      ]
    },
    {
      "cell_type": "code",
      "metadata": {
        "id": "MZeLFSM3xAhi",
        "colab": {
          "base_uri": "https://localhost:8080/"
        },
        "outputId": "ff285813-49bf-4821-c931-355518c99c59"
      },
      "source": [
        "import pandas as pd\n",
        "from pandas import Series, DataFrame\n",
        "obj = pd.Series([4, 7, -5, 3])\n",
        "obj"
      ],
      "execution_count": null,
      "outputs": [
        {
          "output_type": "execute_result",
          "data": {
            "text/plain": [
              "0    4\n",
              "1    7\n",
              "2   -5\n",
              "3    3\n",
              "dtype: int64"
            ]
          },
          "metadata": {},
          "execution_count": 1
        }
      ]
    },
    {
      "cell_type": "markdown",
      "metadata": {
        "id": "RXyQ8Efiz42Y"
      },
      "source": [
        "En algunas circunstancias es posible que desees crear tus propios labels para los índices, y puedes hacerlo de la siguiente forma.\n"
      ]
    },
    {
      "cell_type": "code",
      "metadata": {
        "id": "i4vlZt5u0Jc_",
        "colab": {
          "base_uri": "https://localhost:8080/"
        },
        "outputId": "dda3c077-3325-49de-f644-1986b92361fe"
      },
      "source": [
        "obj2 = pd.Series([4, 7, -5, 3], index=['d', 'b', 'a', 'c']) # Le agregamos los labels de los índices. El orden se mantiene 1:1\n",
        "obj2"
      ],
      "execution_count": null,
      "outputs": [
        {
          "output_type": "execute_result",
          "data": {
            "text/plain": [
              "d    4\n",
              "b    7\n",
              "a   -5\n",
              "c    3\n",
              "dtype: int64"
            ]
          },
          "metadata": {},
          "execution_count": 2
        }
      ]
    },
    {
      "cell_type": "markdown",
      "metadata": {
        "id": "76lDgKL30k8c"
      },
      "source": [
        "Ahora bien, ¿Para qué puedo utilizar ese índice? A diferencia de NumPy puedo utilizarlos para referenciar a un valor o un set de valores"
      ]
    },
    {
      "cell_type": "code",
      "metadata": {
        "id": "nH7gGYXQ0gfq"
      },
      "source": [
        "obj2['a']"
      ],
      "execution_count": null,
      "outputs": []
    },
    {
      "cell_type": "markdown",
      "metadata": {
        "id": "qWjEhqbN0yHr"
      },
      "source": [
        "Usar funciones o operaciones aritméticas como filtrado, multiplicaciones de escalares o arreglos de booleanos, perseverá el valor del índice\n"
      ]
    },
    {
      "cell_type": "code",
      "metadata": {
        "id": "GA6ovM2d1CU-",
        "colab": {
          "base_uri": "https://localhost:8080/"
        },
        "outputId": "8bbff807-5759-44bf-bd9c-3aa392d4c932"
      },
      "source": [
        "obj2[obj2 > 0]"
      ],
      "execution_count": null,
      "outputs": [
        {
          "output_type": "execute_result",
          "data": {
            "text/plain": [
              "d    4\n",
              "b    7\n",
              "c    3\n",
              "dtype: int64"
            ]
          },
          "metadata": {},
          "execution_count": 4
        }
      ]
    },
    {
      "cell_type": "code",
      "metadata": {
        "id": "c1b_UiTU1DcW",
        "colab": {
          "base_uri": "https://localhost:8080/"
        },
        "outputId": "b6dc6b59-758a-4abc-f43d-62d30248f52f"
      },
      "source": [
        "obj2 * 2"
      ],
      "execution_count": null,
      "outputs": [
        {
          "output_type": "execute_result",
          "data": {
            "text/plain": [
              "d     8\n",
              "b    14\n",
              "a   -10\n",
              "c     6\n",
              "dtype: int64"
            ]
          },
          "metadata": {},
          "execution_count": 5
        }
      ]
    },
    {
      "cell_type": "code",
      "source": [
        "obj2"
      ],
      "metadata": {
        "id": "s6jhi4s3VLN6",
        "colab": {
          "base_uri": "https://localhost:8080/"
        },
        "outputId": "3ada9a7f-0c34-4cad-b42d-0a903530a0bb"
      },
      "execution_count": null,
      "outputs": [
        {
          "output_type": "execute_result",
          "data": {
            "text/plain": [
              "d    4\n",
              "b    7\n",
              "a   -5\n",
              "c    3\n",
              "dtype: int64"
            ]
          },
          "metadata": {},
          "execution_count": 6
        }
      ]
    },
    {
      "cell_type": "markdown",
      "metadata": {
        "id": "uedsokHj1SKC"
      },
      "source": [
        "Otra forma de pensar en series podría ser un diccionario de longitud fija, que mapea índices con valores. Puede ser utilizado en muchos contextos.\n"
      ]
    },
    {
      "cell_type": "code",
      "metadata": {
        "id": "GpJ66Xua1gQ4",
        "colab": {
          "base_uri": "https://localhost:8080/"
        },
        "outputId": "852225f1-4b6c-4f8d-8d79-69cbf18132d8"
      },
      "source": [
        "sdata = {'Buenos Aires': 35000, \n",
        "         'Santa Fe': 71000, \n",
        "         'Mendoza': 16000, \n",
        "         'Córdoba': 5000}\n",
        "obj3 = pd.Series(sdata)\n",
        "obj3"
      ],
      "execution_count": null,
      "outputs": [
        {
          "output_type": "execute_result",
          "data": {
            "text/plain": [
              "Buenos Aires    35000\n",
              "Santa Fe        71000\n",
              "Mendoza         16000\n",
              "Córdoba          5000\n",
              "dtype: int64"
            ]
          },
          "metadata": {},
          "execution_count": 25
        }
      ]
    },
    {
      "cell_type": "code",
      "metadata": {
        "id": "16FbL3EU10qf",
        "colab": {
          "base_uri": "https://localhost:8080/"
        },
        "outputId": "e46a7bf7-701a-4801-e883-d194992cda61"
      },
      "source": [
        "provincias = ['Tucumán', 'Buenos Aires', 'Santa Fe', 'Mendoza']\n",
        "obj4 = pd.Series(sdata, index=provincias)\n",
        "obj4"
      ],
      "execution_count": null,
      "outputs": [
        {
          "output_type": "execute_result",
          "data": {
            "text/plain": [
              "Tucumán             NaN\n",
              "Buenos Aires    35000.0\n",
              "Santa Fe        71000.0\n",
              "Mendoza         16000.0\n",
              "dtype: float64"
            ]
          },
          "metadata": {},
          "execution_count": 30
        }
      ]
    },
    {
      "cell_type": "markdown",
      "metadata": {
        "id": "-SIDOhB83I_n"
      },
      "source": [
        "Como recuerdan en Python todo se comporta como objetos, y Series no es la excepción. Las series poseen un índice y atributos de nombre, los cuales pueden ser utilizados con otras herramientas de Pandas.\n"
      ]
    },
    {
      "cell_type": "code",
      "metadata": {
        "id": "4F0uICA-4Vwy",
        "colab": {
          "base_uri": "https://localhost:8080/"
        },
        "outputId": "db508001-8684-43a4-9013-8417bd3cc394"
      },
      "source": [
        "obj4.name = 'Población'\n",
        "obj4.index.name = 'Provincias Argentinas'\n",
        "obj4\n"
      ],
      "execution_count": null,
      "outputs": [
        {
          "output_type": "execute_result",
          "data": {
            "text/plain": [
              "Provincias Argentinas\n",
              "Tucumán             NaN\n",
              "Buenos Aires    35000.0\n",
              "Santa Fe        71000.0\n",
              "Mendoza         16000.0\n",
              "Name: Población, dtype: float64"
            ]
          },
          "metadata": {},
          "execution_count": 31
        }
      ]
    },
    {
      "cell_type": "markdown",
      "source": [
        "Puedes enviar un diccionario o lista como parámetro y Pandas se encargará de convertirlo al tipo de objeto Series, y viceversa."
      ],
      "metadata": {
        "id": "BzYcj4azVteO"
      }
    },
    {
      "cell_type": "code",
      "source": [
        "pdict_1 = {\n",
        "    'car1': 'Honda',\n",
        "    'car2': 'Toyota',\n",
        "    'car3': 'Ford',\n",
        "    'car4': 'GM',\n",
        "    'car5': 'BMW',\n",
        "    'car6': 'Nissan'\n",
        "  }  \n",
        "\n",
        "pdict_1"
      ],
      "metadata": {
        "id": "O5raPqIgV-T8",
        "colab": {
          "base_uri": "https://localhost:8080/"
        },
        "outputId": "dd2f46e6-a7d1-43ec-99be-5472498ee7d8"
      },
      "execution_count": null,
      "outputs": [
        {
          "output_type": "execute_result",
          "data": {
            "text/plain": [
              "{'car1': 'Honda',\n",
              " 'car2': 'Toyota',\n",
              " 'car3': 'Ford',\n",
              " 'car4': 'GM',\n",
              " 'car5': 'BMW',\n",
              " 'car6': 'Nissan'}"
            ]
          },
          "metadata": {},
          "execution_count": 13
        }
      ]
    },
    {
      "cell_type": "code",
      "source": [
        "pseries = pd.Series(pdict_1)\n",
        "pseries"
      ],
      "metadata": {
        "id": "DNP79Oc-WIWF",
        "colab": {
          "base_uri": "https://localhost:8080/"
        },
        "outputId": "a83fa113-0273-415b-ae08-952ef32d97e0"
      },
      "execution_count": null,
      "outputs": [
        {
          "output_type": "execute_result",
          "data": {
            "text/plain": [
              "car1     Honda\n",
              "car2    Toyota\n",
              "car3      Ford\n",
              "car4        GM\n",
              "car5       BMW\n",
              "car6    Nissan\n",
              "dtype: object"
            ]
          },
          "metadata": {},
          "execution_count": 16
        }
      ]
    },
    {
      "cell_type": "code",
      "source": [
        "pdict_from_series = dict(pseries) #Invoco la función diccionario y le paso como parámetro la serie. Se puede realizar lo mismo con Listas\n",
        "pdict_from_series\n"
      ],
      "metadata": {
        "id": "KMmmmmMeWZcJ",
        "colab": {
          "base_uri": "https://localhost:8080/"
        },
        "outputId": "b8bb0378-4ac7-45cc-a1f2-2ec2925df5cf"
      },
      "execution_count": null,
      "outputs": [
        {
          "output_type": "execute_result",
          "data": {
            "text/plain": [
              "{'car1': 'Honda',\n",
              " 'car2': 'Toyota',\n",
              " 'car3': 'Ford',\n",
              " 'car4': 'GM',\n",
              " 'car5': 'BMW',\n",
              " 'car6': 'Nissan'}"
            ]
          },
          "metadata": {},
          "execution_count": 17
        }
      ]
    },
    {
      "cell_type": "markdown",
      "metadata": {
        "id": "YEQGk9px4hmx"
      },
      "source": [
        "\n",
        "\n",
        "---\n",
        "\n",
        "\n",
        "## DataFrame\n",
        "\n",
        "Un DataFrame representa una tabla rectangular de datos que contiene una colección ordenada de columnas, las cuales pueden ser de diferente tipo de dato (númerico, cadenas de texto, booleanos, etc). El DataFrame tiene un índice para las filas y otro para las columnas. Destrás de escena, lo que sucede es que los datos son almacenados como uno o más bloques de datos de dos dimensiones.\n"
      ]
    },
    {
      "cell_type": "code",
      "metadata": {
        "id": "S4Pv3ToSWBfc",
        "colab": {
          "base_uri": "https://localhost:8080/",
          "height": 237
        },
        "outputId": "ff43d5b4-43d1-498f-aa65-fd6e46b12475"
      },
      "source": [
        "data = {'provincia': ['Buenos Aires', 'Buenos Aires', 'Buenos Aires', 'Córdoba', 'Córdoba', 'Córdoba'],\n",
        "        'año': [2000, 2001, 2002, 2001, 2002, 2003],\n",
        "        'pob': [1.5, 1.7, 3.6, 2.4, 2.9, 3.2]}\n",
        "frame = pd.DataFrame(data)\n",
        "frame"
      ],
      "execution_count": null,
      "outputs": [
        {
          "output_type": "execute_result",
          "data": {
            "text/plain": [
              "      provincia   año  pob\n",
              "0  Buenos Aires  2000  1.5\n",
              "1  Buenos Aires  2001  1.7\n",
              "2  Buenos Aires  2002  3.6\n",
              "3       Córdoba  2001  2.4\n",
              "4       Córdoba  2002  2.9\n",
              "5       Córdoba  2003  3.2"
            ],
            "text/html": [
              "\n",
              "  <div id=\"df-691bcdd0-629a-4d2a-b78c-8b885676e2b1\">\n",
              "    <div class=\"colab-df-container\">\n",
              "      <div>\n",
              "<style scoped>\n",
              "    .dataframe tbody tr th:only-of-type {\n",
              "        vertical-align: middle;\n",
              "    }\n",
              "\n",
              "    .dataframe tbody tr th {\n",
              "        vertical-align: top;\n",
              "    }\n",
              "\n",
              "    .dataframe thead th {\n",
              "        text-align: right;\n",
              "    }\n",
              "</style>\n",
              "<table border=\"1\" class=\"dataframe\">\n",
              "  <thead>\n",
              "    <tr style=\"text-align: right;\">\n",
              "      <th></th>\n",
              "      <th>provincia</th>\n",
              "      <th>año</th>\n",
              "      <th>pob</th>\n",
              "    </tr>\n",
              "  </thead>\n",
              "  <tbody>\n",
              "    <tr>\n",
              "      <th>0</th>\n",
              "      <td>Buenos Aires</td>\n",
              "      <td>2000</td>\n",
              "      <td>1.5</td>\n",
              "    </tr>\n",
              "    <tr>\n",
              "      <th>1</th>\n",
              "      <td>Buenos Aires</td>\n",
              "      <td>2001</td>\n",
              "      <td>1.7</td>\n",
              "    </tr>\n",
              "    <tr>\n",
              "      <th>2</th>\n",
              "      <td>Buenos Aires</td>\n",
              "      <td>2002</td>\n",
              "      <td>3.6</td>\n",
              "    </tr>\n",
              "    <tr>\n",
              "      <th>3</th>\n",
              "      <td>Córdoba</td>\n",
              "      <td>2001</td>\n",
              "      <td>2.4</td>\n",
              "    </tr>\n",
              "    <tr>\n",
              "      <th>4</th>\n",
              "      <td>Córdoba</td>\n",
              "      <td>2002</td>\n",
              "      <td>2.9</td>\n",
              "    </tr>\n",
              "    <tr>\n",
              "      <th>5</th>\n",
              "      <td>Córdoba</td>\n",
              "      <td>2003</td>\n",
              "      <td>3.2</td>\n",
              "    </tr>\n",
              "  </tbody>\n",
              "</table>\n",
              "</div>\n",
              "      <button class=\"colab-df-convert\" onclick=\"convertToInteractive('df-691bcdd0-629a-4d2a-b78c-8b885676e2b1')\"\n",
              "              title=\"Convert this dataframe to an interactive table.\"\n",
              "              style=\"display:none;\">\n",
              "        \n",
              "  <svg xmlns=\"http://www.w3.org/2000/svg\" height=\"24px\"viewBox=\"0 0 24 24\"\n",
              "       width=\"24px\">\n",
              "    <path d=\"M0 0h24v24H0V0z\" fill=\"none\"/>\n",
              "    <path d=\"M18.56 5.44l.94 2.06.94-2.06 2.06-.94-2.06-.94-.94-2.06-.94 2.06-2.06.94zm-11 1L8.5 8.5l.94-2.06 2.06-.94-2.06-.94L8.5 2.5l-.94 2.06-2.06.94zm10 10l.94 2.06.94-2.06 2.06-.94-2.06-.94-.94-2.06-.94 2.06-2.06.94z\"/><path d=\"M17.41 7.96l-1.37-1.37c-.4-.4-.92-.59-1.43-.59-.52 0-1.04.2-1.43.59L10.3 9.45l-7.72 7.72c-.78.78-.78 2.05 0 2.83L4 21.41c.39.39.9.59 1.41.59.51 0 1.02-.2 1.41-.59l7.78-7.78 2.81-2.81c.8-.78.8-2.07 0-2.86zM5.41 20L4 18.59l7.72-7.72 1.47 1.35L5.41 20z\"/>\n",
              "  </svg>\n",
              "      </button>\n",
              "      \n",
              "  <style>\n",
              "    .colab-df-container {\n",
              "      display:flex;\n",
              "      flex-wrap:wrap;\n",
              "      gap: 12px;\n",
              "    }\n",
              "\n",
              "    .colab-df-convert {\n",
              "      background-color: #E8F0FE;\n",
              "      border: none;\n",
              "      border-radius: 50%;\n",
              "      cursor: pointer;\n",
              "      display: none;\n",
              "      fill: #1967D2;\n",
              "      height: 32px;\n",
              "      padding: 0 0 0 0;\n",
              "      width: 32px;\n",
              "    }\n",
              "\n",
              "    .colab-df-convert:hover {\n",
              "      background-color: #E2EBFA;\n",
              "      box-shadow: 0px 1px 2px rgba(60, 64, 67, 0.3), 0px 1px 3px 1px rgba(60, 64, 67, 0.15);\n",
              "      fill: #174EA6;\n",
              "    }\n",
              "\n",
              "    [theme=dark] .colab-df-convert {\n",
              "      background-color: #3B4455;\n",
              "      fill: #D2E3FC;\n",
              "    }\n",
              "\n",
              "    [theme=dark] .colab-df-convert:hover {\n",
              "      background-color: #434B5C;\n",
              "      box-shadow: 0px 1px 3px 1px rgba(0, 0, 0, 0.15);\n",
              "      filter: drop-shadow(0px 1px 2px rgba(0, 0, 0, 0.3));\n",
              "      fill: #FFFFFF;\n",
              "    }\n",
              "  </style>\n",
              "\n",
              "      <script>\n",
              "        const buttonEl =\n",
              "          document.querySelector('#df-691bcdd0-629a-4d2a-b78c-8b885676e2b1 button.colab-df-convert');\n",
              "        buttonEl.style.display =\n",
              "          google.colab.kernel.accessAllowed ? 'block' : 'none';\n",
              "\n",
              "        async function convertToInteractive(key) {\n",
              "          const element = document.querySelector('#df-691bcdd0-629a-4d2a-b78c-8b885676e2b1');\n",
              "          const dataTable =\n",
              "            await google.colab.kernel.invokeFunction('convertToInteractive',\n",
              "                                                     [key], {});\n",
              "          if (!dataTable) return;\n",
              "\n",
              "          const docLinkHtml = 'Like what you see? Visit the ' +\n",
              "            '<a target=\"_blank\" href=https://colab.research.google.com/notebooks/data_table.ipynb>data table notebook</a>'\n",
              "            + ' to learn more about interactive tables.';\n",
              "          element.innerHTML = '';\n",
              "          dataTable['output_type'] = 'display_data';\n",
              "          await google.colab.output.renderOutput(dataTable, element);\n",
              "          const docLink = document.createElement('div');\n",
              "          docLink.innerHTML = docLinkHtml;\n",
              "          element.appendChild(docLink);\n",
              "        }\n",
              "      </script>\n",
              "    </div>\n",
              "  </div>\n",
              "  "
            ]
          },
          "metadata": {},
          "execution_count": 19
        }
      ]
    },
    {
      "cell_type": "markdown",
      "metadata": {
        "id": "PTfM1XbbWpTH"
      },
      "source": [
        "Si te encontrás trabajando con grandes datasets, el método **head** selecciona las primeras 5 filas del mismo.\n"
      ]
    },
    {
      "cell_type": "code",
      "metadata": {
        "id": "N33_nvugWn0b",
        "colab": {
          "base_uri": "https://localhost:8080/",
          "height": 206
        },
        "outputId": "dff9ca46-0d5a-44cb-d559-65d461474a27"
      },
      "source": [
        "frame.head()"
      ],
      "execution_count": null,
      "outputs": [
        {
          "output_type": "execute_result",
          "data": {
            "text/plain": [
              "      provincia   año  pob\n",
              "0  Buenos Aires  2000  1.5\n",
              "1  Buenos Aires  2001  1.7\n",
              "2  Buenos Aires  2002  3.6\n",
              "3       Córdoba  2001  2.4\n",
              "4       Córdoba  2002  2.9"
            ],
            "text/html": [
              "\n",
              "  <div id=\"df-6ead19de-7892-4ff5-a80d-95512b68a7ba\">\n",
              "    <div class=\"colab-df-container\">\n",
              "      <div>\n",
              "<style scoped>\n",
              "    .dataframe tbody tr th:only-of-type {\n",
              "        vertical-align: middle;\n",
              "    }\n",
              "\n",
              "    .dataframe tbody tr th {\n",
              "        vertical-align: top;\n",
              "    }\n",
              "\n",
              "    .dataframe thead th {\n",
              "        text-align: right;\n",
              "    }\n",
              "</style>\n",
              "<table border=\"1\" class=\"dataframe\">\n",
              "  <thead>\n",
              "    <tr style=\"text-align: right;\">\n",
              "      <th></th>\n",
              "      <th>provincia</th>\n",
              "      <th>año</th>\n",
              "      <th>pob</th>\n",
              "    </tr>\n",
              "  </thead>\n",
              "  <tbody>\n",
              "    <tr>\n",
              "      <th>0</th>\n",
              "      <td>Buenos Aires</td>\n",
              "      <td>2000</td>\n",
              "      <td>1.5</td>\n",
              "    </tr>\n",
              "    <tr>\n",
              "      <th>1</th>\n",
              "      <td>Buenos Aires</td>\n",
              "      <td>2001</td>\n",
              "      <td>1.7</td>\n",
              "    </tr>\n",
              "    <tr>\n",
              "      <th>2</th>\n",
              "      <td>Buenos Aires</td>\n",
              "      <td>2002</td>\n",
              "      <td>3.6</td>\n",
              "    </tr>\n",
              "    <tr>\n",
              "      <th>3</th>\n",
              "      <td>Córdoba</td>\n",
              "      <td>2001</td>\n",
              "      <td>2.4</td>\n",
              "    </tr>\n",
              "    <tr>\n",
              "      <th>4</th>\n",
              "      <td>Córdoba</td>\n",
              "      <td>2002</td>\n",
              "      <td>2.9</td>\n",
              "    </tr>\n",
              "  </tbody>\n",
              "</table>\n",
              "</div>\n",
              "      <button class=\"colab-df-convert\" onclick=\"convertToInteractive('df-6ead19de-7892-4ff5-a80d-95512b68a7ba')\"\n",
              "              title=\"Convert this dataframe to an interactive table.\"\n",
              "              style=\"display:none;\">\n",
              "        \n",
              "  <svg xmlns=\"http://www.w3.org/2000/svg\" height=\"24px\"viewBox=\"0 0 24 24\"\n",
              "       width=\"24px\">\n",
              "    <path d=\"M0 0h24v24H0V0z\" fill=\"none\"/>\n",
              "    <path d=\"M18.56 5.44l.94 2.06.94-2.06 2.06-.94-2.06-.94-.94-2.06-.94 2.06-2.06.94zm-11 1L8.5 8.5l.94-2.06 2.06-.94-2.06-.94L8.5 2.5l-.94 2.06-2.06.94zm10 10l.94 2.06.94-2.06 2.06-.94-2.06-.94-.94-2.06-.94 2.06-2.06.94z\"/><path d=\"M17.41 7.96l-1.37-1.37c-.4-.4-.92-.59-1.43-.59-.52 0-1.04.2-1.43.59L10.3 9.45l-7.72 7.72c-.78.78-.78 2.05 0 2.83L4 21.41c.39.39.9.59 1.41.59.51 0 1.02-.2 1.41-.59l7.78-7.78 2.81-2.81c.8-.78.8-2.07 0-2.86zM5.41 20L4 18.59l7.72-7.72 1.47 1.35L5.41 20z\"/>\n",
              "  </svg>\n",
              "      </button>\n",
              "      \n",
              "  <style>\n",
              "    .colab-df-container {\n",
              "      display:flex;\n",
              "      flex-wrap:wrap;\n",
              "      gap: 12px;\n",
              "    }\n",
              "\n",
              "    .colab-df-convert {\n",
              "      background-color: #E8F0FE;\n",
              "      border: none;\n",
              "      border-radius: 50%;\n",
              "      cursor: pointer;\n",
              "      display: none;\n",
              "      fill: #1967D2;\n",
              "      height: 32px;\n",
              "      padding: 0 0 0 0;\n",
              "      width: 32px;\n",
              "    }\n",
              "\n",
              "    .colab-df-convert:hover {\n",
              "      background-color: #E2EBFA;\n",
              "      box-shadow: 0px 1px 2px rgba(60, 64, 67, 0.3), 0px 1px 3px 1px rgba(60, 64, 67, 0.15);\n",
              "      fill: #174EA6;\n",
              "    }\n",
              "\n",
              "    [theme=dark] .colab-df-convert {\n",
              "      background-color: #3B4455;\n",
              "      fill: #D2E3FC;\n",
              "    }\n",
              "\n",
              "    [theme=dark] .colab-df-convert:hover {\n",
              "      background-color: #434B5C;\n",
              "      box-shadow: 0px 1px 3px 1px rgba(0, 0, 0, 0.15);\n",
              "      filter: drop-shadow(0px 1px 2px rgba(0, 0, 0, 0.3));\n",
              "      fill: #FFFFFF;\n",
              "    }\n",
              "  </style>\n",
              "\n",
              "      <script>\n",
              "        const buttonEl =\n",
              "          document.querySelector('#df-6ead19de-7892-4ff5-a80d-95512b68a7ba button.colab-df-convert');\n",
              "        buttonEl.style.display =\n",
              "          google.colab.kernel.accessAllowed ? 'block' : 'none';\n",
              "\n",
              "        async function convertToInteractive(key) {\n",
              "          const element = document.querySelector('#df-6ead19de-7892-4ff5-a80d-95512b68a7ba');\n",
              "          const dataTable =\n",
              "            await google.colab.kernel.invokeFunction('convertToInteractive',\n",
              "                                                     [key], {});\n",
              "          if (!dataTable) return;\n",
              "\n",
              "          const docLinkHtml = 'Like what you see? Visit the ' +\n",
              "            '<a target=\"_blank\" href=https://colab.research.google.com/notebooks/data_table.ipynb>data table notebook</a>'\n",
              "            + ' to learn more about interactive tables.';\n",
              "          element.innerHTML = '';\n",
              "          dataTable['output_type'] = 'display_data';\n",
              "          await google.colab.output.renderOutput(dataTable, element);\n",
              "          const docLink = document.createElement('div');\n",
              "          docLink.innerHTML = docLinkHtml;\n",
              "          element.appendChild(docLink);\n",
              "        }\n",
              "      </script>\n",
              "    </div>\n",
              "  </div>\n",
              "  "
            ]
          },
          "metadata": {},
          "execution_count": 32
        }
      ]
    },
    {
      "cell_type": "markdown",
      "metadata": {
        "id": "zB5cW8wWXAJS"
      },
      "source": [
        "Se puede especificar el orden de las columnas:"
      ]
    },
    {
      "cell_type": "code",
      "metadata": {
        "id": "S5mJe2D9XDmZ",
        "colab": {
          "base_uri": "https://localhost:8080/",
          "height": 237
        },
        "outputId": "8dbfc37b-58b0-4820-dd25-0369449932a8"
      },
      "source": [
        "pd.DataFrame(data, columns=['año', 'provincia', 'pob']) "
      ],
      "execution_count": null,
      "outputs": [
        {
          "output_type": "execute_result",
          "data": {
            "text/plain": [
              "    año     provincia  pob\n",
              "0  2000  Buenos Aires  1.5\n",
              "1  2001  Buenos Aires  1.7\n",
              "2  2002  Buenos Aires  3.6\n",
              "3  2001       Córdoba  2.4\n",
              "4  2002       Córdoba  2.9\n",
              "5  2003       Córdoba  3.2"
            ],
            "text/html": [
              "\n",
              "  <div id=\"df-fa7437bd-eda1-48cb-b444-9b13cfe95e58\">\n",
              "    <div class=\"colab-df-container\">\n",
              "      <div>\n",
              "<style scoped>\n",
              "    .dataframe tbody tr th:only-of-type {\n",
              "        vertical-align: middle;\n",
              "    }\n",
              "\n",
              "    .dataframe tbody tr th {\n",
              "        vertical-align: top;\n",
              "    }\n",
              "\n",
              "    .dataframe thead th {\n",
              "        text-align: right;\n",
              "    }\n",
              "</style>\n",
              "<table border=\"1\" class=\"dataframe\">\n",
              "  <thead>\n",
              "    <tr style=\"text-align: right;\">\n",
              "      <th></th>\n",
              "      <th>año</th>\n",
              "      <th>provincia</th>\n",
              "      <th>pob</th>\n",
              "    </tr>\n",
              "  </thead>\n",
              "  <tbody>\n",
              "    <tr>\n",
              "      <th>0</th>\n",
              "      <td>2000</td>\n",
              "      <td>Buenos Aires</td>\n",
              "      <td>1.5</td>\n",
              "    </tr>\n",
              "    <tr>\n",
              "      <th>1</th>\n",
              "      <td>2001</td>\n",
              "      <td>Buenos Aires</td>\n",
              "      <td>1.7</td>\n",
              "    </tr>\n",
              "    <tr>\n",
              "      <th>2</th>\n",
              "      <td>2002</td>\n",
              "      <td>Buenos Aires</td>\n",
              "      <td>3.6</td>\n",
              "    </tr>\n",
              "    <tr>\n",
              "      <th>3</th>\n",
              "      <td>2001</td>\n",
              "      <td>Córdoba</td>\n",
              "      <td>2.4</td>\n",
              "    </tr>\n",
              "    <tr>\n",
              "      <th>4</th>\n",
              "      <td>2002</td>\n",
              "      <td>Córdoba</td>\n",
              "      <td>2.9</td>\n",
              "    </tr>\n",
              "    <tr>\n",
              "      <th>5</th>\n",
              "      <td>2003</td>\n",
              "      <td>Córdoba</td>\n",
              "      <td>3.2</td>\n",
              "    </tr>\n",
              "  </tbody>\n",
              "</table>\n",
              "</div>\n",
              "      <button class=\"colab-df-convert\" onclick=\"convertToInteractive('df-fa7437bd-eda1-48cb-b444-9b13cfe95e58')\"\n",
              "              title=\"Convert this dataframe to an interactive table.\"\n",
              "              style=\"display:none;\">\n",
              "        \n",
              "  <svg xmlns=\"http://www.w3.org/2000/svg\" height=\"24px\"viewBox=\"0 0 24 24\"\n",
              "       width=\"24px\">\n",
              "    <path d=\"M0 0h24v24H0V0z\" fill=\"none\"/>\n",
              "    <path d=\"M18.56 5.44l.94 2.06.94-2.06 2.06-.94-2.06-.94-.94-2.06-.94 2.06-2.06.94zm-11 1L8.5 8.5l.94-2.06 2.06-.94-2.06-.94L8.5 2.5l-.94 2.06-2.06.94zm10 10l.94 2.06.94-2.06 2.06-.94-2.06-.94-.94-2.06-.94 2.06-2.06.94z\"/><path d=\"M17.41 7.96l-1.37-1.37c-.4-.4-.92-.59-1.43-.59-.52 0-1.04.2-1.43.59L10.3 9.45l-7.72 7.72c-.78.78-.78 2.05 0 2.83L4 21.41c.39.39.9.59 1.41.59.51 0 1.02-.2 1.41-.59l7.78-7.78 2.81-2.81c.8-.78.8-2.07 0-2.86zM5.41 20L4 18.59l7.72-7.72 1.47 1.35L5.41 20z\"/>\n",
              "  </svg>\n",
              "      </button>\n",
              "      \n",
              "  <style>\n",
              "    .colab-df-container {\n",
              "      display:flex;\n",
              "      flex-wrap:wrap;\n",
              "      gap: 12px;\n",
              "    }\n",
              "\n",
              "    .colab-df-convert {\n",
              "      background-color: #E8F0FE;\n",
              "      border: none;\n",
              "      border-radius: 50%;\n",
              "      cursor: pointer;\n",
              "      display: none;\n",
              "      fill: #1967D2;\n",
              "      height: 32px;\n",
              "      padding: 0 0 0 0;\n",
              "      width: 32px;\n",
              "    }\n",
              "\n",
              "    .colab-df-convert:hover {\n",
              "      background-color: #E2EBFA;\n",
              "      box-shadow: 0px 1px 2px rgba(60, 64, 67, 0.3), 0px 1px 3px 1px rgba(60, 64, 67, 0.15);\n",
              "      fill: #174EA6;\n",
              "    }\n",
              "\n",
              "    [theme=dark] .colab-df-convert {\n",
              "      background-color: #3B4455;\n",
              "      fill: #D2E3FC;\n",
              "    }\n",
              "\n",
              "    [theme=dark] .colab-df-convert:hover {\n",
              "      background-color: #434B5C;\n",
              "      box-shadow: 0px 1px 3px 1px rgba(0, 0, 0, 0.15);\n",
              "      filter: drop-shadow(0px 1px 2px rgba(0, 0, 0, 0.3));\n",
              "      fill: #FFFFFF;\n",
              "    }\n",
              "  </style>\n",
              "\n",
              "      <script>\n",
              "        const buttonEl =\n",
              "          document.querySelector('#df-fa7437bd-eda1-48cb-b444-9b13cfe95e58 button.colab-df-convert');\n",
              "        buttonEl.style.display =\n",
              "          google.colab.kernel.accessAllowed ? 'block' : 'none';\n",
              "\n",
              "        async function convertToInteractive(key) {\n",
              "          const element = document.querySelector('#df-fa7437bd-eda1-48cb-b444-9b13cfe95e58');\n",
              "          const dataTable =\n",
              "            await google.colab.kernel.invokeFunction('convertToInteractive',\n",
              "                                                     [key], {});\n",
              "          if (!dataTable) return;\n",
              "\n",
              "          const docLinkHtml = 'Like what you see? Visit the ' +\n",
              "            '<a target=\"_blank\" href=https://colab.research.google.com/notebooks/data_table.ipynb>data table notebook</a>'\n",
              "            + ' to learn more about interactive tables.';\n",
              "          element.innerHTML = '';\n",
              "          dataTable['output_type'] = 'display_data';\n",
              "          await google.colab.output.renderOutput(dataTable, element);\n",
              "          const docLink = document.createElement('div');\n",
              "          docLink.innerHTML = docLinkHtml;\n",
              "          element.appendChild(docLink);\n",
              "        }\n",
              "      </script>\n",
              "    </div>\n",
              "  </div>\n",
              "  "
            ]
          },
          "metadata": {},
          "execution_count": 33
        }
      ]
    },
    {
      "cell_type": "markdown",
      "metadata": {
        "id": "4J4hVNX7XZ9I"
      },
      "source": [
        "¿Qué pasará si enviamos una columna que no posee datos en el DataSet?"
      ]
    },
    {
      "cell_type": "code",
      "metadata": {
        "id": "-w4keC7FXdou"
      },
      "source": [
        "frame2 = pd.DataFrame(data, columns=['año', 'provincia', 'pob', 'deuda'], \n",
        "                      index=['uno', 'dos', 'tres', 'cuatro','cinco', 'seis'])\n",
        "frame2"
      ],
      "execution_count": null,
      "outputs": []
    },
    {
      "cell_type": "markdown",
      "metadata": {
        "id": "SW-1guanX2in"
      },
      "source": [
        "También podemos obtener información de un Dataset como una serie"
      ]
    },
    {
      "cell_type": "code",
      "metadata": {
        "id": "ptLBNnqWX-zO"
      },
      "source": [
        "frame2['provincia'] # Le pasamos como parámetro la columna que deseamos visualizar"
      ],
      "execution_count": null,
      "outputs": []
    },
    {
      "cell_type": "markdown",
      "metadata": {
        "id": "XfpDv5h4YPUe"
      },
      "source": [
        "Filas también pueden ser obtenidas por posición mediante el atributo especial **loc**"
      ]
    },
    {
      "cell_type": "code",
      "metadata": {
        "id": "4YR07u1AYa21"
      },
      "source": [
        "frame2.loc['tres'] # Como hacemos para obtener la tercera fila del dataframe?"
      ],
      "execution_count": null,
      "outputs": []
    },
    {
      "cell_type": "markdown",
      "metadata": {
        "id": "SfP-OWRWaGfI"
      },
      "source": [
        "Las columnas pueden ser modificadas por asignación. Por ejemplo, tomemos la columna vacía **Deuda**, podríamos asignar un escalar o un arreglo de valores:\n"
      ]
    },
    {
      "cell_type": "code",
      "metadata": {
        "id": "5HWLHjyKaUMr"
      },
      "source": [
        "import numpy as np\n",
        "frame2['deuda'] = np.arange(6.) # Que hace está función? \n",
        "frame2"
      ],
      "execution_count": null,
      "outputs": []
    },
    {
      "cell_type": "markdown",
      "metadata": {
        "id": "RWdz37e5vyTg"
      },
      "source": [
        "Si asignas arreglos a columnas, la longitud del mismo debe ser igual que al del DataFrame. Los labels serán reasignados exactamente al índice del DF, insertando NaN en los valores faltantes.\n"
      ]
    },
    {
      "cell_type": "code",
      "metadata": {
        "id": "aj7o8Nr8wKNF"
      },
      "source": [
        "val = pd.Series([-1.2, -1.5, -1.7], index=['dos', 'cuatro', 'cinco'])\n",
        "frame2['deuda'] = val\n",
        "frame2"
      ],
      "execution_count": null,
      "outputs": []
    },
    {
      "cell_type": "markdown",
      "metadata": {
        "id": "ZqjzYwqFwnAF"
      },
      "source": [
        "Al declarar columnas que no existen, estas se agregarán de acuerdo al ordenamiento establecido."
      ]
    },
    {
      "cell_type": "code",
      "metadata": {
        "id": "fSljFXHLwoXQ"
      },
      "source": [
        "frame2['Región Centro'] = frame2.provincia == 'Córdoba'\n",
        "frame2"
      ],
      "execution_count": null,
      "outputs": []
    },
    {
      "cell_type": "markdown",
      "metadata": {
        "id": "dssp3OW9xL9I"
      },
      "source": [
        "Podemos borrar columnas usando el método **del**"
      ]
    },
    {
      "cell_type": "code",
      "metadata": {
        "id": "jN1felwyxbQz"
      },
      "source": [
        "frame2.columns"
      ],
      "execution_count": null,
      "outputs": []
    },
    {
      "cell_type": "code",
      "metadata": {
        "id": "pkbrRD5yxW73"
      },
      "source": [
        "del frame2['Región Centro']"
      ],
      "execution_count": null,
      "outputs": []
    },
    {
      "cell_type": "code",
      "metadata": {
        "id": "yUNlhj0zxj8y"
      },
      "source": [
        "frame2.columns"
      ],
      "execution_count": null,
      "outputs": []
    },
    {
      "cell_type": "markdown",
      "metadata": {
        "id": "qy2OCI6ox4-6"
      },
      "source": [
        "Otro tipo común de declarar datos es mediante diccionarios anidados\n"
      ]
    },
    {
      "cell_type": "code",
      "metadata": {
        "id": "9AcLo_5ZyH1x"
      },
      "source": [
        "pob = {'Rosario': {2001: 2.4, 2002: 2.9},\n",
        "        'Mendoza': {2000: 1.5, 2001: 1.7, 2002: 3.6}}\n",
        "frame3 = pd.DataFrame(pob)\n",
        "frame3"
      ],
      "execution_count": null,
      "outputs": []
    },
    {
      "cell_type": "markdown",
      "metadata": {
        "id": "Q2XZa2Tlybof"
      },
      "source": [
        "Puedes transponer el DataFrame (Intercambiar columnas y filas) con una sintaxis similar a NumPy:\n"
      ]
    },
    {
      "cell_type": "code",
      "metadata": {
        "id": "ihn6JGbYyiVN"
      },
      "source": [
        "frame3.T"
      ],
      "execution_count": null,
      "outputs": []
    },
    {
      "cell_type": "markdown",
      "metadata": {
        "id": "Ra_OstUXzEiX"
      },
      "source": [
        "## Index Objects\n",
        "\n",
        "Los objetos índices son responsables de almacenar las etiquetas de los ejes y otros metadatos. Los arreglos u otra secuencia de etiquetas que utilizas cuando construyes una serie o un DataFrame es internamente convertido a un índice:\n"
      ]
    },
    {
      "cell_type": "code",
      "metadata": {
        "id": "D7UoVz3zzX3u"
      },
      "source": [
        "obj = pd.Series(range(3), index=['a', 'b', 'c'])\n",
        "index = obj.index\n",
        "print (obj)\n",
        "print (index)\n",
        "index[1:]"
      ],
      "execution_count": null,
      "outputs": []
    },
    {
      "cell_type": "code",
      "metadata": {
        "id": "pVvjomVwzyrB"
      },
      "source": [
        "index[1] = 'd' #Que sucede si ejecutamos la siguiente línea?"
      ],
      "execution_count": null,
      "outputs": []
    },
    {
      "cell_type": "markdown",
      "metadata": {
        "id": "tR9M_vw90NXX"
      },
      "source": [
        "## Funciones Esenciales\n",
        "\n",
        "La siguiente sección provee los fundamentos básicos para interactuar con datos contenidos en una serie o un DataFrame. "
      ]
    },
    {
      "cell_type": "markdown",
      "metadata": {
        "id": "UFQSAmC10i67"
      },
      "source": [
        "### Reindexing\n",
        "\n",
        "Un importante método en Pandas es la reindexación. Esto crea un nuevo objeto que se encuentra conformado por un nuevo índice. Llamar al reindex en la serie re-arregla los datos de acuerdo al nuevo índice introduciendo NaN en aquellos valores que no se encuentran presentes.\n",
        "Por ejemplo:\n"
      ]
    },
    {
      "cell_type": "code",
      "metadata": {
        "id": "BprzO_q005B9"
      },
      "source": [
        "obj = pd.Series([4.5, 7.2, -5.3, 3.6], index=['d', 'b', 'a', 'c'])\n",
        "obj"
      ],
      "execution_count": null,
      "outputs": []
    },
    {
      "cell_type": "code",
      "metadata": {
        "id": "vcAD4_a61Sep"
      },
      "source": [
        "obj2 = obj.reindex(['a', 'b', 'c', 'd', 'e'])\n",
        "obj2"
      ],
      "execution_count": null,
      "outputs": []
    },
    {
      "cell_type": "markdown",
      "metadata": {
        "id": "lWFPpqCs1giw"
      },
      "source": [
        "Para datos ordenados como series de tiempo, puede ser deseable hacer alguna interpolación o relleno de valores al reindexar. Podemos hacerlo usando el método como **ffill**, que reenvía los valores:"
      ]
    },
    {
      "cell_type": "code",
      "metadata": {
        "id": "-H5HCj2T1lPf"
      },
      "source": [
        "obj3 = pd.Series(['blue', 'purple', 'yellow'], index=[0, 2, 4])\n",
        "obj3"
      ],
      "execution_count": null,
      "outputs": []
    },
    {
      "cell_type": "code",
      "metadata": {
        "id": "-KmKJQOl1n_U"
      },
      "source": [
        "obj3.reindex(range(6), method='ffill')"
      ],
      "execution_count": null,
      "outputs": []
    },
    {
      "cell_type": "markdown",
      "metadata": {
        "id": "1kgSHaEL13WG"
      },
      "source": [
        "Con DataFrame, reindex puede alterar el índice (fila), las columnas o ambos. Cuando se pasa solo una secuencia, reindexa las filas en el resultado:"
      ]
    },
    {
      "cell_type": "code",
      "metadata": {
        "id": "b_ARql_d12Z0"
      },
      "source": [
        "import numpy as np\n",
        "frame = pd.DataFrame(np.arange(9).reshape((3, 3)),\n",
        "  index=['a', 'c', 'd'],\n",
        "  columns=['Buenos Aires', 'Córdoba', 'Rosario'])\n",
        "frame"
      ],
      "execution_count": null,
      "outputs": []
    },
    {
      "cell_type": "code",
      "metadata": {
        "id": "ek7cv1Bd2HTY"
      },
      "source": [
        "frame2 = frame.reindex(['a', 'b', 'c', 'd'])\n",
        "frame2"
      ],
      "execution_count": null,
      "outputs": []
    },
    {
      "cell_type": "markdown",
      "metadata": {
        "id": "N7PAv1RF3pID"
      },
      "source": [
        "### Eliminar entradas de un eje\n",
        "Eliminar una o más entradas de un eje es fácil si ya tiene una matriz de índice o una lista sin esas entradas. Como eso puede requerir un poco de **munging** y establecer la lógica, el método **drop** devolverá un nuevo objeto con el valor o valores indicados eliminados de un eje:"
      ]
    },
    {
      "cell_type": "code",
      "metadata": {
        "id": "4Nq2ILP236e8"
      },
      "source": [
        "obj = pd.Series(np.arange(5.), index=['a', 'b', 'c', 'd', 'e'])\n",
        "obj"
      ],
      "execution_count": null,
      "outputs": []
    },
    {
      "cell_type": "code",
      "metadata": {
        "id": "kUidhg3H395C"
      },
      "source": [
        "new_obj = obj.drop('c')\n",
        "new_obj"
      ],
      "execution_count": null,
      "outputs": []
    },
    {
      "cell_type": "markdown",
      "metadata": {
        "id": "NulQPXic4Kw5"
      },
      "source": [
        "Con DataFrame, los valores de índice se pueden eliminar de cualquier eje. Para ilustrar esto, primero creemos un DataFrame de ejemplo:"
      ]
    },
    {
      "cell_type": "code",
      "metadata": {
        "id": "lOOd3pyu4OD2"
      },
      "source": [
        "data = pd.DataFrame(np.arange(16).reshape((4, 4)),\n",
        "      index=['Deadpool', 'Spidy', 'Wolverine', 'Dopinder'],\n",
        "      columns=['uno', 'dos', 'tres', 'cuatro'])\n",
        "data"
      ],
      "execution_count": null,
      "outputs": []
    },
    {
      "cell_type": "code",
      "metadata": {
        "id": "lvKNE9ne4p-M"
      },
      "source": [
        "data.drop(['Spidy', 'Dopinder'])"
      ],
      "execution_count": null,
      "outputs": []
    },
    {
      "cell_type": "code",
      "metadata": {
        "id": "XXUj_uxap5BX"
      },
      "source": [
        "data"
      ],
      "execution_count": null,
      "outputs": []
    },
    {
      "cell_type": "markdown",
      "metadata": {
        "id": "K0kS9vX9NX-6"
      },
      "source": [
        "### Indexación, Selección y Filtrado\n",
        "La indexación en serie funciona de manera análoga a la indexación de arreglos de NumPy, excepto que puede usar los valores de índice de la serie en lugar de solo enteros. Aquí hay algunos ejemplos de esto:"
      ]
    },
    {
      "cell_type": "code",
      "metadata": {
        "id": "bSkhat5yNi7K"
      },
      "source": [
        "obj = pd.Series(np.arange(4.), index=['a', 'b', 'c', 'd'])\n",
        "obj"
      ],
      "execution_count": null,
      "outputs": []
    },
    {
      "cell_type": "code",
      "metadata": {
        "id": "rV576Vp2NnCR"
      },
      "source": [
        "obj['b']"
      ],
      "execution_count": null,
      "outputs": []
    },
    {
      "cell_type": "code",
      "metadata": {
        "id": "fQpMldKXNonD"
      },
      "source": [
        "obj[2:]"
      ],
      "execution_count": null,
      "outputs": []
    },
    {
      "cell_type": "markdown",
      "metadata": {
        "id": "5eZdYIi3OYop"
      },
      "source": [
        "El slicing con etiquetas se comporta de manera diferente al equivalente en Python en que el punto final es inclusivo"
      ]
    },
    {
      "cell_type": "code",
      "metadata": {
        "id": "hfQaMQmxOkI-"
      },
      "source": [
        "obj['b':'c']"
      ],
      "execution_count": null,
      "outputs": []
    },
    {
      "cell_type": "markdown",
      "metadata": {
        "id": "rgeVibG1PEZ2"
      },
      "source": [
        "### Selección con Loc e ILoc\n",
        "\n",
        "Para la indexación de etiquetas de DataFrame en las filas, se presentan los operadores de indexación especiales **loc** e **iloc**. Estos operadores permiten seleccionar un subconjunto de las filas y columnas de un DataFrame con notación tipo NumPy usando etiquetas de eje (loc) o enteros (iloc)."
      ]
    },
    {
      "cell_type": "code",
      "metadata": {
        "id": "Reo-_NagPRdX",
        "colab": {
          "base_uri": "https://localhost:8080/",
          "height": 174
        },
        "outputId": "54fd2337-b581-4952-9923-c59e372d591a"
      },
      "source": [
        "import pandas as pd\n",
        "import numpy as np\n",
        "data = pd.DataFrame(np.arange(16).reshape((4, 4)),\n",
        "      index=['Deadpool', 'Spidy', 'Wolverine', 'Dopinder'],\n",
        "      columns=['uno', 'dos', 'tres', 'cuatro'])\n",
        "\n",
        "data"
      ],
      "execution_count": null,
      "outputs": [
        {
          "output_type": "execute_result",
          "data": {
            "text/plain": [
              "           uno  dos  tres  cuatro\n",
              "Deadpool     0    1     2       3\n",
              "Spidy        4    5     6       7\n",
              "Wolverine    8    9    10      11\n",
              "Dopinder    12   13    14      15"
            ],
            "text/html": [
              "\n",
              "  <div id=\"df-17278449-6dec-4f78-b569-a5d5002269e8\">\n",
              "    <div class=\"colab-df-container\">\n",
              "      <div>\n",
              "<style scoped>\n",
              "    .dataframe tbody tr th:only-of-type {\n",
              "        vertical-align: middle;\n",
              "    }\n",
              "\n",
              "    .dataframe tbody tr th {\n",
              "        vertical-align: top;\n",
              "    }\n",
              "\n",
              "    .dataframe thead th {\n",
              "        text-align: right;\n",
              "    }\n",
              "</style>\n",
              "<table border=\"1\" class=\"dataframe\">\n",
              "  <thead>\n",
              "    <tr style=\"text-align: right;\">\n",
              "      <th></th>\n",
              "      <th>uno</th>\n",
              "      <th>dos</th>\n",
              "      <th>tres</th>\n",
              "      <th>cuatro</th>\n",
              "    </tr>\n",
              "  </thead>\n",
              "  <tbody>\n",
              "    <tr>\n",
              "      <th>Deadpool</th>\n",
              "      <td>0</td>\n",
              "      <td>1</td>\n",
              "      <td>2</td>\n",
              "      <td>3</td>\n",
              "    </tr>\n",
              "    <tr>\n",
              "      <th>Spidy</th>\n",
              "      <td>4</td>\n",
              "      <td>5</td>\n",
              "      <td>6</td>\n",
              "      <td>7</td>\n",
              "    </tr>\n",
              "    <tr>\n",
              "      <th>Wolverine</th>\n",
              "      <td>8</td>\n",
              "      <td>9</td>\n",
              "      <td>10</td>\n",
              "      <td>11</td>\n",
              "    </tr>\n",
              "    <tr>\n",
              "      <th>Dopinder</th>\n",
              "      <td>12</td>\n",
              "      <td>13</td>\n",
              "      <td>14</td>\n",
              "      <td>15</td>\n",
              "    </tr>\n",
              "  </tbody>\n",
              "</table>\n",
              "</div>\n",
              "      <button class=\"colab-df-convert\" onclick=\"convertToInteractive('df-17278449-6dec-4f78-b569-a5d5002269e8')\"\n",
              "              title=\"Convert this dataframe to an interactive table.\"\n",
              "              style=\"display:none;\">\n",
              "        \n",
              "  <svg xmlns=\"http://www.w3.org/2000/svg\" height=\"24px\"viewBox=\"0 0 24 24\"\n",
              "       width=\"24px\">\n",
              "    <path d=\"M0 0h24v24H0V0z\" fill=\"none\"/>\n",
              "    <path d=\"M18.56 5.44l.94 2.06.94-2.06 2.06-.94-2.06-.94-.94-2.06-.94 2.06-2.06.94zm-11 1L8.5 8.5l.94-2.06 2.06-.94-2.06-.94L8.5 2.5l-.94 2.06-2.06.94zm10 10l.94 2.06.94-2.06 2.06-.94-2.06-.94-.94-2.06-.94 2.06-2.06.94z\"/><path d=\"M17.41 7.96l-1.37-1.37c-.4-.4-.92-.59-1.43-.59-.52 0-1.04.2-1.43.59L10.3 9.45l-7.72 7.72c-.78.78-.78 2.05 0 2.83L4 21.41c.39.39.9.59 1.41.59.51 0 1.02-.2 1.41-.59l7.78-7.78 2.81-2.81c.8-.78.8-2.07 0-2.86zM5.41 20L4 18.59l7.72-7.72 1.47 1.35L5.41 20z\"/>\n",
              "  </svg>\n",
              "      </button>\n",
              "      \n",
              "  <style>\n",
              "    .colab-df-container {\n",
              "      display:flex;\n",
              "      flex-wrap:wrap;\n",
              "      gap: 12px;\n",
              "    }\n",
              "\n",
              "    .colab-df-convert {\n",
              "      background-color: #E8F0FE;\n",
              "      border: none;\n",
              "      border-radius: 50%;\n",
              "      cursor: pointer;\n",
              "      display: none;\n",
              "      fill: #1967D2;\n",
              "      height: 32px;\n",
              "      padding: 0 0 0 0;\n",
              "      width: 32px;\n",
              "    }\n",
              "\n",
              "    .colab-df-convert:hover {\n",
              "      background-color: #E2EBFA;\n",
              "      box-shadow: 0px 1px 2px rgba(60, 64, 67, 0.3), 0px 1px 3px 1px rgba(60, 64, 67, 0.15);\n",
              "      fill: #174EA6;\n",
              "    }\n",
              "\n",
              "    [theme=dark] .colab-df-convert {\n",
              "      background-color: #3B4455;\n",
              "      fill: #D2E3FC;\n",
              "    }\n",
              "\n",
              "    [theme=dark] .colab-df-convert:hover {\n",
              "      background-color: #434B5C;\n",
              "      box-shadow: 0px 1px 3px 1px rgba(0, 0, 0, 0.15);\n",
              "      filter: drop-shadow(0px 1px 2px rgba(0, 0, 0, 0.3));\n",
              "      fill: #FFFFFF;\n",
              "    }\n",
              "  </style>\n",
              "\n",
              "      <script>\n",
              "        const buttonEl =\n",
              "          document.querySelector('#df-17278449-6dec-4f78-b569-a5d5002269e8 button.colab-df-convert');\n",
              "        buttonEl.style.display =\n",
              "          google.colab.kernel.accessAllowed ? 'block' : 'none';\n",
              "\n",
              "        async function convertToInteractive(key) {\n",
              "          const element = document.querySelector('#df-17278449-6dec-4f78-b569-a5d5002269e8');\n",
              "          const dataTable =\n",
              "            await google.colab.kernel.invokeFunction('convertToInteractive',\n",
              "                                                     [key], {});\n",
              "          if (!dataTable) return;\n",
              "\n",
              "          const docLinkHtml = 'Like what you see? Visit the ' +\n",
              "            '<a target=\"_blank\" href=https://colab.research.google.com/notebooks/data_table.ipynb>data table notebook</a>'\n",
              "            + ' to learn more about interactive tables.';\n",
              "          element.innerHTML = '';\n",
              "          dataTable['output_type'] = 'display_data';\n",
              "          await google.colab.output.renderOutput(dataTable, element);\n",
              "          const docLink = document.createElement('div');\n",
              "          docLink.innerHTML = docLinkHtml;\n",
              "          element.appendChild(docLink);\n",
              "        }\n",
              "      </script>\n",
              "    </div>\n",
              "  </div>\n",
              "  "
            ]
          },
          "metadata": {},
          "execution_count": 2
        }
      ]
    },
    {
      "cell_type": "code",
      "metadata": {
        "id": "F5AkgE51Lp9N"
      },
      "source": [
        "data.loc['Spidy', ['uno', 'dos']] # [Filas, Columnas]"
      ],
      "execution_count": null,
      "outputs": []
    },
    {
      "cell_type": "markdown",
      "metadata": {
        "id": "1hZzKlYBPzfo"
      },
      "source": [
        "Pdemos realizar algunas selecciones similares con enteros usando iloc:"
      ]
    },
    {
      "cell_type": "code",
      "metadata": {
        "id": "zVIZDHj9P3aB"
      },
      "source": [
        "data.iloc[2, [3, 0, 1]]"
      ],
      "execution_count": null,
      "outputs": []
    },
    {
      "cell_type": "markdown",
      "metadata": {
        "id": "S1-aECmuQC6u"
      },
      "source": [
        "### Índices enteros\n",
        "Trabajar con objetos Pandas indexados por enteros es algo que a menudo confunde a nuevos usuarios debido a algunas diferencias con la semántica de indexación en estructuras de datos Python incorporadas como listas y tuplas. Por ejemplo, es posible que el siguiente código genere un error:"
      ]
    },
    {
      "cell_type": "code",
      "metadata": {
        "id": "TRfHoAKtP_TP"
      },
      "source": [
        "ser = pd.Series(np.arange(3.))\n",
        "ser\n",
        "ser[-1]"
      ],
      "execution_count": null,
      "outputs": []
    },
    {
      "cell_type": "code",
      "metadata": {
        "id": "8gNlRi4WQbU2"
      },
      "source": [
        "ser"
      ],
      "execution_count": null,
      "outputs": []
    },
    {
      "cell_type": "markdown",
      "metadata": {
        "id": "byEE6t50Qvzh"
      },
      "source": [
        "Si usamos non-Integer Index, no hay problemas de ambigüedad"
      ]
    },
    {
      "cell_type": "code",
      "metadata": {
        "id": "3eBDD37kQopU"
      },
      "source": [
        "ser2 = pd.Series(np.arange(3.), index=['a', 'b', 'c']) \n",
        "ser2[-1]"
      ],
      "execution_count": null,
      "outputs": []
    },
    {
      "cell_type": "code",
      "metadata": {
        "id": "6Mtm_kNmMKnz"
      },
      "source": [
        "ser2['c']"
      ],
      "execution_count": null,
      "outputs": []
    },
    {
      "cell_type": "markdown",
      "metadata": {
        "id": "vF1e3vvURF1y"
      },
      "source": [
        "Para mantener las cosas consistentes, si tiene un índice de eje que contiene enteros, la selección de datos siempre estará orientada a las etiquetas. Para un manejo más preciso, use **loc** (para etiquetas) o **iloc** (para enteros)"
      ]
    },
    {
      "cell_type": "markdown",
      "metadata": {
        "id": "6F9oujCWRQ6M"
      },
      "source": [
        "### Aritmética y alineación de datos\n",
        "Una característica importante de Pandas para algunas aplicaciones es el comportamiento de la aritmética entre objetos con diferentes índices. Cuando agrega objetos juntos, si alguno de los pares de índice no es el mismo, el índice respectivo en el resultado será la unión de los pares de índice. \n",
        "La alineación interna de datos introduce valores faltantes en las ubicaciones de las etiquetas que no se superponen. Los valores faltantes se propagarán en cálculos aritméticos adicionales.\n",
        "Veamos un ejemplo:"
      ]
    },
    {
      "cell_type": "code",
      "metadata": {
        "id": "eq9uTSo0RdS3"
      },
      "source": [
        "s1 = pd.Series([7.3, -2.5, 3.4, 1.5], index=['a', 'c', 'd', 'e'])\n",
        "s2 = pd.Series([-2.1, 3.6, -1.5, 4, 3.1], index=['a', 'c', 'e', 'f', 'g'])"
      ],
      "execution_count": null,
      "outputs": []
    },
    {
      "cell_type": "code",
      "metadata": {
        "id": "UA3LUN94Ric8"
      },
      "source": [
        "print (s1)\n",
        "print ('\\n')\n",
        "print (s2)"
      ],
      "execution_count": null,
      "outputs": []
    },
    {
      "cell_type": "code",
      "metadata": {
        "id": "FTPnOkxQRw-a"
      },
      "source": [
        "s1 + s2"
      ],
      "execution_count": null,
      "outputs": []
    },
    {
      "cell_type": "markdown",
      "metadata": {
        "id": "U_nhIgTzSSG1"
      },
      "source": [
        "En el caso de DataFrame, la alineación se realiza tanto en las filas como en las columnas:"
      ]
    },
    {
      "cell_type": "code",
      "metadata": {
        "id": "q1u1j3eZSUNs"
      },
      "source": [
        "df1 = pd.DataFrame(np.arange(9.).reshape((3, 3)), columns=list('bcd'),\n",
        "          index=['Buenos Aires', 'Córdoba', 'Rosario'])\n",
        "\n",
        "df2 = pd.DataFrame(np.arange(12.).reshape((4, 3)), columns=list('bde'),\n",
        "          index=['Buenos Aires', 'Córdoba', 'Rosario', 'Mendoza'])"
      ],
      "execution_count": null,
      "outputs": []
    },
    {
      "cell_type": "code",
      "metadata": {
        "id": "ms9rmBYWScDK"
      },
      "source": [
        "print (df1)\n",
        "print ('\\n')\n",
        "print (df2)"
      ],
      "execution_count": null,
      "outputs": []
    },
    {
      "cell_type": "code",
      "metadata": {
        "id": "znjoS7upStit"
      },
      "source": [
        "df1 + df2"
      ],
      "execution_count": null,
      "outputs": []
    },
    {
      "cell_type": "markdown",
      "metadata": {
        "id": "dMEm_UPhS9UI"
      },
      "source": [
        "## Métodos Aritméticos con Valores de llenado \n",
        "En operaciones aritméticas entre objetos indexados de manera diferente, es posible que desees rellenar con un valor especial, como 0, para evitar valores nulos:"
      ]
    },
    {
      "cell_type": "code",
      "metadata": {
        "id": "SHglb1MMTLGV"
      },
      "source": [
        "df1 = pd.DataFrame(np.arange(12.).reshape((3, 4)),\n",
        "          columns=list('abcd'))\n",
        "df2 = pd.DataFrame(np.arange(20.).reshape((4, 5)),\n",
        "          columns=list('abcde'))\n"
      ],
      "execution_count": null,
      "outputs": []
    },
    {
      "cell_type": "code",
      "metadata": {
        "id": "i41cD4s9rNMs"
      },
      "source": [
        "print (df1)\n",
        "print (df2)"
      ],
      "execution_count": null,
      "outputs": []
    },
    {
      "cell_type": "code",
      "metadata": {
        "id": "wb1dlZknTS2h"
      },
      "source": [
        "df2.loc[1, 'b'] = np.nan"
      ],
      "execution_count": null,
      "outputs": []
    },
    {
      "cell_type": "code",
      "metadata": {
        "id": "6EGD7BuzTVQs"
      },
      "source": [
        "print (df1)\n",
        "print ('\\n')\n",
        "print (df2)"
      ],
      "execution_count": null,
      "outputs": []
    },
    {
      "cell_type": "code",
      "metadata": {
        "id": "Q2MrjQanTgC-"
      },
      "source": [
        "df1 + df2"
      ],
      "execution_count": null,
      "outputs": []
    },
    {
      "cell_type": "markdown",
      "metadata": {
        "id": "qedxf05jTpCV"
      },
      "source": [
        "Usando el método **add** en df1, paso df2 y un argumento para fill_value:"
      ]
    },
    {
      "cell_type": "code",
      "metadata": {
        "id": "43FEgyXaTlJN"
      },
      "source": [
        "df1.add(df2, fill_value=0) "
      ],
      "execution_count": null,
      "outputs": []
    },
    {
      "cell_type": "markdown",
      "metadata": {
        "id": "Vp2uNDZcT93w"
      },
      "source": [
        "### Aplicación de funciones y mapeo\n",
        "**NumPy ufuncs (Universal Functions)** también funcionan con objetos pandas:"
      ]
    },
    {
      "cell_type": "code",
      "metadata": {
        "id": "GxZ1hFG4UDPB"
      },
      "source": [
        "frame = pd.DataFrame(np.random.randn(4, 3), columns=list('bde'),\n",
        "                                  index=['Buenos Aires', 'Córdoba', 'Rosario', \n",
        "                                      'Mendoza'])\n",
        "frame"
      ],
      "execution_count": null,
      "outputs": []
    },
    {
      "cell_type": "code",
      "metadata": {
        "id": "RVGS7POdUO2D"
      },
      "source": [
        "np.abs(frame)"
      ],
      "execution_count": null,
      "outputs": []
    },
    {
      "cell_type": "markdown",
      "metadata": {
        "id": "2Gy_WdsYUlmM"
      },
      "source": [
        "Otra operación frecuente es aplicar una función en matrices unidimensionales a cada columna o fila. El método de **apply** de DataFrame hace exactamente esto:"
      ]
    },
    {
      "cell_type": "code",
      "metadata": {
        "id": "E4579h1vUthL"
      },
      "source": [
        "def f(x):\n",
        "        return pd.Series([x.min(), x.max()], index=['min', 'max'])"
      ],
      "execution_count": null,
      "outputs": []
    },
    {
      "cell_type": "code",
      "metadata": {
        "id": "NfhF4N3TUyXf"
      },
      "source": [
        "frame.apply(f)"
      ],
      "execution_count": null,
      "outputs": []
    },
    {
      "cell_type": "markdown",
      "metadata": {
        "id": "zG1wRBBbVCdN"
      },
      "source": [
        "### Ordenamiento y clasificación\n",
        "Ordenar un conjunto de datos por algún criterio es otra operación incorporada importante. Para ordenar lexicográficamente por índice de fila o columna, use el método **sort_index**, que devuelve un nuevo objeto ordenado:"
      ]
    },
    {
      "cell_type": "code",
      "metadata": {
        "id": "DlabyyLWVKEB"
      },
      "source": [
        "obj = pd.Series(range(4), index=['d', 'a', 'b', 'c'])\n",
        "obj.sort_index()"
      ],
      "execution_count": null,
      "outputs": []
    },
    {
      "cell_type": "code",
      "metadata": {
        "id": "ykh6PtuBVftz"
      },
      "source": [
        "frame = pd.DataFrame(np.arange(8).reshape((2, 4)),\n",
        "                index=['uno', 'tres'],\n",
        "                columns=['d', 'a', 'b', 'c'])\n",
        "frame.sort_index()"
      ],
      "execution_count": null,
      "outputs": []
    },
    {
      "cell_type": "markdown",
      "metadata": {
        "id": "5ogdaBdZWW4y"
      },
      "source": [
        "Al ordenar un DataFrame, puede usar los datos en una o más columnas como las claves de clasificación. Para hacerlo, pase uno o más nombres de columna a la opción by de **sort_values**:"
      ]
    },
    {
      "cell_type": "code",
      "metadata": {
        "id": "NCUgJHA8WDkt",
        "outputId": "e840990f-9cec-44b0-d74e-173bd6a392be",
        "colab": {
          "base_uri": "https://localhost:8080/",
          "height": 175
        }
      },
      "source": [
        "frame = pd.DataFrame({'b': [4, 7, -3, 2], 'a': [0, 1, 0, 1]})\n",
        "frame"
      ],
      "execution_count": null,
      "outputs": [
        {
          "output_type": "execute_result",
          "data": {
            "text/plain": [
              "   b  a\n",
              "0  4  0\n",
              "1  7  1\n",
              "2 -3  0\n",
              "3  2  1"
            ],
            "text/html": [
              "\n",
              "  <div id=\"df-9edfa877-2d40-4eb7-afc8-50954ddd7b68\">\n",
              "    <div class=\"colab-df-container\">\n",
              "      <div>\n",
              "<style scoped>\n",
              "    .dataframe tbody tr th:only-of-type {\n",
              "        vertical-align: middle;\n",
              "    }\n",
              "\n",
              "    .dataframe tbody tr th {\n",
              "        vertical-align: top;\n",
              "    }\n",
              "\n",
              "    .dataframe thead th {\n",
              "        text-align: right;\n",
              "    }\n",
              "</style>\n",
              "<table border=\"1\" class=\"dataframe\">\n",
              "  <thead>\n",
              "    <tr style=\"text-align: right;\">\n",
              "      <th></th>\n",
              "      <th>b</th>\n",
              "      <th>a</th>\n",
              "    </tr>\n",
              "  </thead>\n",
              "  <tbody>\n",
              "    <tr>\n",
              "      <th>0</th>\n",
              "      <td>4</td>\n",
              "      <td>0</td>\n",
              "    </tr>\n",
              "    <tr>\n",
              "      <th>1</th>\n",
              "      <td>7</td>\n",
              "      <td>1</td>\n",
              "    </tr>\n",
              "    <tr>\n",
              "      <th>2</th>\n",
              "      <td>-3</td>\n",
              "      <td>0</td>\n",
              "    </tr>\n",
              "    <tr>\n",
              "      <th>3</th>\n",
              "      <td>2</td>\n",
              "      <td>1</td>\n",
              "    </tr>\n",
              "  </tbody>\n",
              "</table>\n",
              "</div>\n",
              "      <button class=\"colab-df-convert\" onclick=\"convertToInteractive('df-9edfa877-2d40-4eb7-afc8-50954ddd7b68')\"\n",
              "              title=\"Convert this dataframe to an interactive table.\"\n",
              "              style=\"display:none;\">\n",
              "        \n",
              "  <svg xmlns=\"http://www.w3.org/2000/svg\" height=\"24px\"viewBox=\"0 0 24 24\"\n",
              "       width=\"24px\">\n",
              "    <path d=\"M0 0h24v24H0V0z\" fill=\"none\"/>\n",
              "    <path d=\"M18.56 5.44l.94 2.06.94-2.06 2.06-.94-2.06-.94-.94-2.06-.94 2.06-2.06.94zm-11 1L8.5 8.5l.94-2.06 2.06-.94-2.06-.94L8.5 2.5l-.94 2.06-2.06.94zm10 10l.94 2.06.94-2.06 2.06-.94-2.06-.94-.94-2.06-.94 2.06-2.06.94z\"/><path d=\"M17.41 7.96l-1.37-1.37c-.4-.4-.92-.59-1.43-.59-.52 0-1.04.2-1.43.59L10.3 9.45l-7.72 7.72c-.78.78-.78 2.05 0 2.83L4 21.41c.39.39.9.59 1.41.59.51 0 1.02-.2 1.41-.59l7.78-7.78 2.81-2.81c.8-.78.8-2.07 0-2.86zM5.41 20L4 18.59l7.72-7.72 1.47 1.35L5.41 20z\"/>\n",
              "  </svg>\n",
              "      </button>\n",
              "      \n",
              "  <style>\n",
              "    .colab-df-container {\n",
              "      display:flex;\n",
              "      flex-wrap:wrap;\n",
              "      gap: 12px;\n",
              "    }\n",
              "\n",
              "    .colab-df-convert {\n",
              "      background-color: #E8F0FE;\n",
              "      border: none;\n",
              "      border-radius: 50%;\n",
              "      cursor: pointer;\n",
              "      display: none;\n",
              "      fill: #1967D2;\n",
              "      height: 32px;\n",
              "      padding: 0 0 0 0;\n",
              "      width: 32px;\n",
              "    }\n",
              "\n",
              "    .colab-df-convert:hover {\n",
              "      background-color: #E2EBFA;\n",
              "      box-shadow: 0px 1px 2px rgba(60, 64, 67, 0.3), 0px 1px 3px 1px rgba(60, 64, 67, 0.15);\n",
              "      fill: #174EA6;\n",
              "    }\n",
              "\n",
              "    [theme=dark] .colab-df-convert {\n",
              "      background-color: #3B4455;\n",
              "      fill: #D2E3FC;\n",
              "    }\n",
              "\n",
              "    [theme=dark] .colab-df-convert:hover {\n",
              "      background-color: #434B5C;\n",
              "      box-shadow: 0px 1px 3px 1px rgba(0, 0, 0, 0.15);\n",
              "      filter: drop-shadow(0px 1px 2px rgba(0, 0, 0, 0.3));\n",
              "      fill: #FFFFFF;\n",
              "    }\n",
              "  </style>\n",
              "\n",
              "      <script>\n",
              "        const buttonEl =\n",
              "          document.querySelector('#df-9edfa877-2d40-4eb7-afc8-50954ddd7b68 button.colab-df-convert');\n",
              "        buttonEl.style.display =\n",
              "          google.colab.kernel.accessAllowed ? 'block' : 'none';\n",
              "\n",
              "        async function convertToInteractive(key) {\n",
              "          const element = document.querySelector('#df-9edfa877-2d40-4eb7-afc8-50954ddd7b68');\n",
              "          const dataTable =\n",
              "            await google.colab.kernel.invokeFunction('convertToInteractive',\n",
              "                                                     [key], {});\n",
              "          if (!dataTable) return;\n",
              "\n",
              "          const docLinkHtml = 'Like what you see? Visit the ' +\n",
              "            '<a target=\"_blank\" href=https://colab.research.google.com/notebooks/data_table.ipynb>data table notebook</a>'\n",
              "            + ' to learn more about interactive tables.';\n",
              "          element.innerHTML = '';\n",
              "          dataTable['output_type'] = 'display_data';\n",
              "          await google.colab.output.renderOutput(dataTable, element);\n",
              "          const docLink = document.createElement('div');\n",
              "          docLink.innerHTML = docLinkHtml;\n",
              "          element.appendChild(docLink);\n",
              "        }\n",
              "      </script>\n",
              "    </div>\n",
              "  </div>\n",
              "  "
            ]
          },
          "metadata": {},
          "execution_count": 83
        }
      ]
    },
    {
      "cell_type": "code",
      "metadata": {
        "id": "_Be-uHSSWL6m"
      },
      "source": [
        "frame.sort_values(by='b')"
      ],
      "execution_count": null,
      "outputs": []
    },
    {
      "cell_type": "code",
      "metadata": {
        "id": "wNu_JyJJWawn"
      },
      "source": [
        "frame.sort_values(by=['a', 'b']) # Ordena por multiples columnas"
      ],
      "execution_count": null,
      "outputs": []
    },
    {
      "cell_type": "markdown",
      "metadata": {
        "id": "jpJ79mmfWtou"
      },
      "source": [
        "La clasificación asigna rangos desde uno hasta el número de puntos de datos válidos en una matriz. Los métodos de clasificación para Series y DataFrame son el lugar para buscar; Por defecto, el rango rompe los lazos asignando a cada grupo el rango medio:"
      ]
    },
    {
      "cell_type": "code",
      "metadata": {
        "id": "WM75hG-uWxio"
      },
      "source": [
        "frame = pd.DataFrame({'b': [4.3, 7, -3, 2], 'a': [0, 1, 0, 1],\n",
        "                  'c': [-2, 5, 8, -2.5]})\n",
        "frame"
      ],
      "execution_count": null,
      "outputs": []
    },
    {
      "cell_type": "code",
      "metadata": {
        "id": "Mb4jG2o7ZavO"
      },
      "source": [
        "frame.rank(axis='columns',ascending=False)"
      ],
      "execution_count": null,
      "outputs": []
    },
    {
      "cell_type": "code",
      "metadata": {
        "id": "MbNbQwEvZpqy"
      },
      "source": [
        "frame.rank(axis='rows')"
      ],
      "execution_count": null,
      "outputs": []
    },
    {
      "cell_type": "markdown",
      "metadata": {
        "id": "epZ41KN4aGBv"
      },
      "source": [
        "## Resumiendo y calculando estadísticas descriptivas\n",
        "Los objetos Pandas están equipados con un conjunto de métodos matemáticos y estadísticos comunes. \n",
        "\n",
        "La mayoría de estos pertenecen a la categoría de reducciones o estadísticas resumidas, métodos que extraen un solo valor de una Serie o una Serie de valores de las filas o columnas de un Dataframe. En comparación con los métodos similares que se encuentran en los arreglos NumPy, tienen un manejo incorporado para los datos faltantes. Consideremos un pequeño DataFrame:"
      ]
    },
    {
      "cell_type": "code",
      "metadata": {
        "id": "l2_mcdSFaQZb"
      },
      "source": [
        "df = pd.DataFrame([[1.4, np.nan], [7.1, -4.5],\n",
        "                    [np.nan, np.nan], [0.75, -1.3]],\n",
        "                    index=['a', 'b', 'c', 'd'],\n",
        "                    columns=['one', 'two'])\n",
        "df"
      ],
      "execution_count": null,
      "outputs": []
    },
    {
      "cell_type": "code",
      "metadata": {
        "id": "BRVXx8f3akVx"
      },
      "source": [
        "df.sum()"
      ],
      "execution_count": null,
      "outputs": []
    },
    {
      "cell_type": "code",
      "metadata": {
        "id": "_B_D977obE2k"
      },
      "source": [
        "df.sum(axis='columns')"
      ],
      "execution_count": null,
      "outputs": []
    },
    {
      "cell_type": "markdown",
      "metadata": {
        "id": "VnS0BgULfeCf"
      },
      "source": [
        "## Carga de datos, almacenamiento y formatos de archivo\n",
        "\n",
        "La entrada y salida generalmente se clasifican en algunas categorías principales: leer archivos de texto y otros formatos en disco más eficientes, cargar datos de bases de datos e interactuar con fuentes de red como API web."
      ]
    },
    {
      "cell_type": "code",
      "metadata": {
        "id": "JICj5qVTfshJ"
      },
      "source": [
        "df = pd.read_csv('./sample_data/california_housing_train.csv')\n",
        "df.head()"
      ],
      "execution_count": null,
      "outputs": []
    },
    {
      "cell_type": "markdown",
      "metadata": {
        "id": "1uIddfC_gPFY"
      },
      "source": [
        "El manejo de valores perdidos es una parte importante y frecuentemente matizada del proceso de análisis de archivos. Los datos que faltan generalmente no están presentes o están marcados por algún valor de referencia. Por defecto, Pandas usa un conjunto de \"centinelas\" comunes, como NA y NULL:"
      ]
    },
    {
      "cell_type": "code",
      "metadata": {
        "id": "MY4cYA31gWJL"
      },
      "source": [
        "pd.isnull(df)"
      ],
      "execution_count": null,
      "outputs": []
    },
    {
      "cell_type": "markdown",
      "metadata": {
        "id": "0ClR_nvwgoWD"
      },
      "source": [
        "Se pueden especificar diferentes referencia de NA para cada columna en un diccionario:"
      ]
    },
    {
      "cell_type": "code",
      "metadata": {
        "id": "0jvMMGxUguZv"
      },
      "source": [
        "referencia_nulos = {'message': ['foo', 'NA'], 'something': ['two']}\n",
        "df = pd.read_csv('./sample_data/california_housing_train.csv', na_values=referencia_nulos)\n",
        "df"
      ],
      "execution_count": null,
      "outputs": []
    },
    {
      "cell_type": "markdown",
      "metadata": {
        "id": "K73jnvDWe5Qo"
      },
      "source": [
        "## Ejemplo utilizando pandas_datareader\n",
        "\n",
        "En el siguiente ejemplo usaremos el módulo de pandas_datareader para descargar datos de algunos índices accionarios.\n",
        "\n"
      ]
    },
    {
      "cell_type": "code",
      "source": [
        "!pip install --upgrade pandas-datareader\n",
        "!pip install --upgrade pandas"
      ],
      "metadata": {
        "id": "XW1goPSDljFR"
      },
      "execution_count": null,
      "outputs": []
    },
    {
      "cell_type": "code",
      "metadata": {
        "id": "_LnnMkt0dzyM"
      },
      "source": [
        "import pandas as pd\n",
        "import pandas_datareader.data as web\n",
        "all_data = {ticker: web.get_data_yahoo(ticker)\n",
        "            for ticker in ['AAPL', 'IBM', 'MSFT', 'GOOG']}\n",
        "\n",
        "price = pd.DataFrame({ticker: data['Adj Close']\n",
        "                     for ticker, data in all_data.items()})\n",
        "\n",
        "volume = pd.DataFrame({ticker: data['Volume']\n",
        "                      for ticker, data in all_data.items()})\n",
        "\n",
        "\n",
        "returns = price.pct_change() # Aplicamos la funcion cambio porcentual al precio de las acciones\n",
        "returns.tail() # retornamos los últimos valores del dataframe"
      ],
      "execution_count": null,
      "outputs": []
    },
    {
      "cell_type": "code",
      "metadata": {
        "id": "zLJ-RGCyuTx6"
      },
      "source": [
        "all_data"
      ],
      "execution_count": null,
      "outputs": []
    },
    {
      "cell_type": "code",
      "metadata": {
        "id": "917yYiC1uLl5"
      },
      "source": [
        "price.tail()"
      ],
      "execution_count": null,
      "outputs": []
    },
    {
      "cell_type": "code",
      "metadata": {
        "id": "2d9BOX_muRBD"
      },
      "source": [
        "volume.tail()"
      ],
      "execution_count": null,
      "outputs": []
    },
    {
      "cell_type": "code",
      "metadata": {
        "id": "YsuI9choud5V"
      },
      "source": [
        "price.max()"
      ],
      "execution_count": null,
      "outputs": []
    }
  ]
}